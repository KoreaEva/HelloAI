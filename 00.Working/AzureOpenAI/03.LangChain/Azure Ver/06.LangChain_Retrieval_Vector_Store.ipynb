{
  "nbformat": 4,
  "nbformat_minor": 0,
  "metadata": {
    "colab": {
      "provenance": []
    },
    "kernelspec": {
      "name": "python3",
      "display_name": "Python 3"
    },
    "language_info": {
      "name": "python"
    }
  },
  "cells": [
    {
      "cell_type": "markdown",
      "source": [],
      "metadata": {
        "id": "GzAPgRfWfS59"
      }
    },
    {
      "cell_type": "code",
      "execution_count": 7,
      "metadata": {
        "colab": {
          "base_uri": "https://localhost:8080/"
        },
        "id": "B36RoXBoby6o",
        "outputId": "1547253d-445f-4997-d54c-4d05ca7deffe"
      },
      "outputs": [
        {
          "output_type": "stream",
          "name": "stdout",
          "text": [
            "Requirement already satisfied: langchain in /usr/local/lib/python3.10/dist-packages (0.0.350)\n",
            "Requirement already satisfied: chromadb in /usr/local/lib/python3.10/dist-packages (0.4.19)\n",
            "Requirement already satisfied: tiktoken in /usr/local/lib/python3.10/dist-packages (0.5.2)\n",
            "Requirement already satisfied: transformers in /usr/local/lib/python3.10/dist-packages (4.35.2)\n",
            "Requirement already satisfied: sentence_transformers in /usr/local/lib/python3.10/dist-packages (2.2.2)\n",
            "Requirement already satisfied: pypdf in /usr/local/lib/python3.10/dist-packages (3.17.2)\n",
            "Requirement already satisfied: PyYAML>=5.3 in /usr/local/lib/python3.10/dist-packages (from langchain) (6.0.1)\n",
            "Requirement already satisfied: SQLAlchemy<3,>=1.4 in /usr/local/lib/python3.10/dist-packages (from langchain) (2.0.23)\n",
            "Requirement already satisfied: aiohttp<4.0.0,>=3.8.3 in /usr/local/lib/python3.10/dist-packages (from langchain) (3.9.1)\n",
            "Requirement already satisfied: async-timeout<5.0.0,>=4.0.0 in /usr/local/lib/python3.10/dist-packages (from langchain) (4.0.3)\n",
            "Requirement already satisfied: dataclasses-json<0.7,>=0.5.7 in /usr/local/lib/python3.10/dist-packages (from langchain) (0.6.3)\n",
            "Requirement already satisfied: jsonpatch<2.0,>=1.33 in /usr/local/lib/python3.10/dist-packages (from langchain) (1.33)\n",
            "Requirement already satisfied: langchain-community<0.1,>=0.0.2 in /usr/local/lib/python3.10/dist-packages (from langchain) (0.0.3)\n",
            "Requirement already satisfied: langchain-core<0.2,>=0.1 in /usr/local/lib/python3.10/dist-packages (from langchain) (0.1.0)\n",
            "Requirement already satisfied: langsmith<0.1.0,>=0.0.63 in /usr/local/lib/python3.10/dist-packages (from langchain) (0.0.70)\n",
            "Requirement already satisfied: numpy<2,>=1 in /usr/local/lib/python3.10/dist-packages (from langchain) (1.23.5)\n",
            "Requirement already satisfied: pydantic<3,>=1 in /usr/local/lib/python3.10/dist-packages (from langchain) (1.10.13)\n",
            "Requirement already satisfied: requests<3,>=2 in /usr/local/lib/python3.10/dist-packages (from langchain) (2.31.0)\n",
            "Requirement already satisfied: tenacity<9.0.0,>=8.1.0 in /usr/local/lib/python3.10/dist-packages (from langchain) (8.2.3)\n",
            "Requirement already satisfied: chroma-hnswlib==0.7.3 in /usr/local/lib/python3.10/dist-packages (from chromadb) (0.7.3)\n",
            "Requirement already satisfied: fastapi>=0.95.2 in /usr/local/lib/python3.10/dist-packages (from chromadb) (0.105.0)\n",
            "Requirement already satisfied: uvicorn[standard]>=0.18.3 in /usr/local/lib/python3.10/dist-packages (from chromadb) (0.24.0.post1)\n",
            "Requirement already satisfied: posthog>=2.4.0 in /usr/local/lib/python3.10/dist-packages (from chromadb) (3.1.0)\n",
            "Requirement already satisfied: typing-extensions>=4.5.0 in /usr/local/lib/python3.10/dist-packages (from chromadb) (4.9.0)\n",
            "Requirement already satisfied: pulsar-client>=3.1.0 in /usr/local/lib/python3.10/dist-packages (from chromadb) (3.3.0)\n",
            "Requirement already satisfied: onnxruntime>=1.14.1 in /usr/local/lib/python3.10/dist-packages (from chromadb) (1.16.3)\n",
            "Requirement already satisfied: opentelemetry-api>=1.2.0 in /usr/local/lib/python3.10/dist-packages (from chromadb) (1.21.0)\n",
            "Requirement already satisfied: opentelemetry-exporter-otlp-proto-grpc>=1.2.0 in /usr/local/lib/python3.10/dist-packages (from chromadb) (1.21.0)\n",
            "Requirement already satisfied: opentelemetry-instrumentation-fastapi>=0.41b0 in /usr/local/lib/python3.10/dist-packages (from chromadb) (0.42b0)\n",
            "Requirement already satisfied: opentelemetry-sdk>=1.2.0 in /usr/local/lib/python3.10/dist-packages (from chromadb) (1.21.0)\n",
            "Requirement already satisfied: tokenizers>=0.13.2 in /usr/local/lib/python3.10/dist-packages (from chromadb) (0.15.0)\n",
            "Requirement already satisfied: pypika>=0.48.9 in /usr/local/lib/python3.10/dist-packages (from chromadb) (0.48.9)\n",
            "Requirement already satisfied: tqdm>=4.65.0 in /usr/local/lib/python3.10/dist-packages (from chromadb) (4.66.1)\n",
            "Requirement already satisfied: overrides>=7.3.1 in /usr/local/lib/python3.10/dist-packages (from chromadb) (7.4.0)\n",
            "Requirement already satisfied: importlib-resources in /usr/local/lib/python3.10/dist-packages (from chromadb) (6.1.1)\n",
            "Requirement already satisfied: grpcio>=1.58.0 in /usr/local/lib/python3.10/dist-packages (from chromadb) (1.59.3)\n",
            "Requirement already satisfied: bcrypt>=4.0.1 in /usr/local/lib/python3.10/dist-packages (from chromadb) (4.1.1)\n",
            "Requirement already satisfied: typer>=0.9.0 in /usr/local/lib/python3.10/dist-packages (from chromadb) (0.9.0)\n",
            "Requirement already satisfied: kubernetes>=28.1.0 in /usr/local/lib/python3.10/dist-packages (from chromadb) (28.1.0)\n",
            "Requirement already satisfied: mmh3>=4.0.1 in /usr/local/lib/python3.10/dist-packages (from chromadb) (4.0.1)\n",
            "Requirement already satisfied: regex>=2022.1.18 in /usr/local/lib/python3.10/dist-packages (from tiktoken) (2023.6.3)\n",
            "Requirement already satisfied: filelock in /usr/local/lib/python3.10/dist-packages (from transformers) (3.13.1)\n",
            "Requirement already satisfied: huggingface-hub<1.0,>=0.16.4 in /usr/local/lib/python3.10/dist-packages (from transformers) (0.19.4)\n",
            "Requirement already satisfied: packaging>=20.0 in /usr/local/lib/python3.10/dist-packages (from transformers) (23.2)\n",
            "Requirement already satisfied: safetensors>=0.3.1 in /usr/local/lib/python3.10/dist-packages (from transformers) (0.4.1)\n",
            "Requirement already satisfied: torch>=1.6.0 in /usr/local/lib/python3.10/dist-packages (from sentence_transformers) (2.1.0+cu118)\n",
            "Requirement already satisfied: torchvision in /usr/local/lib/python3.10/dist-packages (from sentence_transformers) (0.16.0+cu118)\n",
            "Requirement already satisfied: scikit-learn in /usr/local/lib/python3.10/dist-packages (from sentence_transformers) (1.2.2)\n",
            "Requirement already satisfied: scipy in /usr/local/lib/python3.10/dist-packages (from sentence_transformers) (1.11.4)\n",
            "Requirement already satisfied: nltk in /usr/local/lib/python3.10/dist-packages (from sentence_transformers) (3.8.1)\n",
            "Requirement already satisfied: sentencepiece in /usr/local/lib/python3.10/dist-packages (from sentence_transformers) (0.1.99)\n",
            "Requirement already satisfied: attrs>=17.3.0 in /usr/local/lib/python3.10/dist-packages (from aiohttp<4.0.0,>=3.8.3->langchain) (23.1.0)\n",
            "Requirement already satisfied: multidict<7.0,>=4.5 in /usr/local/lib/python3.10/dist-packages (from aiohttp<4.0.0,>=3.8.3->langchain) (6.0.4)\n",
            "Requirement already satisfied: yarl<2.0,>=1.0 in /usr/local/lib/python3.10/dist-packages (from aiohttp<4.0.0,>=3.8.3->langchain) (1.9.3)\n",
            "Requirement already satisfied: frozenlist>=1.1.1 in /usr/local/lib/python3.10/dist-packages (from aiohttp<4.0.0,>=3.8.3->langchain) (1.4.0)\n",
            "Requirement already satisfied: aiosignal>=1.1.2 in /usr/local/lib/python3.10/dist-packages (from aiohttp<4.0.0,>=3.8.3->langchain) (1.3.1)\n",
            "Requirement already satisfied: marshmallow<4.0.0,>=3.18.0 in /usr/local/lib/python3.10/dist-packages (from dataclasses-json<0.7,>=0.5.7->langchain) (3.20.1)\n",
            "Requirement already satisfied: typing-inspect<1,>=0.4.0 in /usr/local/lib/python3.10/dist-packages (from dataclasses-json<0.7,>=0.5.7->langchain) (0.9.0)\n",
            "Requirement already satisfied: anyio<4.0.0,>=3.7.1 in /usr/local/lib/python3.10/dist-packages (from fastapi>=0.95.2->chromadb) (3.7.1)\n",
            "Requirement already satisfied: starlette<0.28.0,>=0.27.0 in /usr/local/lib/python3.10/dist-packages (from fastapi>=0.95.2->chromadb) (0.27.0)\n",
            "Requirement already satisfied: fsspec>=2023.5.0 in /usr/local/lib/python3.10/dist-packages (from huggingface-hub<1.0,>=0.16.4->transformers) (2023.6.0)\n",
            "Requirement already satisfied: jsonpointer>=1.9 in /usr/local/lib/python3.10/dist-packages (from jsonpatch<2.0,>=1.33->langchain) (2.4)\n",
            "Requirement already satisfied: certifi>=14.05.14 in /usr/local/lib/python3.10/dist-packages (from kubernetes>=28.1.0->chromadb) (2023.11.17)\n",
            "Requirement already satisfied: six>=1.9.0 in /usr/local/lib/python3.10/dist-packages (from kubernetes>=28.1.0->chromadb) (1.16.0)\n",
            "Requirement already satisfied: python-dateutil>=2.5.3 in /usr/local/lib/python3.10/dist-packages (from kubernetes>=28.1.0->chromadb) (2.8.2)\n",
            "Requirement already satisfied: google-auth>=1.0.1 in /usr/local/lib/python3.10/dist-packages (from kubernetes>=28.1.0->chromadb) (2.17.3)\n",
            "Requirement already satisfied: websocket-client!=0.40.0,!=0.41.*,!=0.42.*,>=0.32.0 in /usr/local/lib/python3.10/dist-packages (from kubernetes>=28.1.0->chromadb) (1.7.0)\n",
            "Requirement already satisfied: requests-oauthlib in /usr/local/lib/python3.10/dist-packages (from kubernetes>=28.1.0->chromadb) (1.3.1)\n",
            "Requirement already satisfied: oauthlib>=3.2.2 in /usr/local/lib/python3.10/dist-packages (from kubernetes>=28.1.0->chromadb) (3.2.2)\n",
            "Requirement already satisfied: urllib3<2.0,>=1.24.2 in /usr/local/lib/python3.10/dist-packages (from kubernetes>=28.1.0->chromadb) (1.26.18)\n",
            "Requirement already satisfied: coloredlogs in /usr/local/lib/python3.10/dist-packages (from onnxruntime>=1.14.1->chromadb) (15.0.1)\n",
            "Requirement already satisfied: flatbuffers in /usr/local/lib/python3.10/dist-packages (from onnxruntime>=1.14.1->chromadb) (23.5.26)\n",
            "Requirement already satisfied: protobuf in /usr/local/lib/python3.10/dist-packages (from onnxruntime>=1.14.1->chromadb) (3.20.3)\n",
            "Requirement already satisfied: sympy in /usr/local/lib/python3.10/dist-packages (from onnxruntime>=1.14.1->chromadb) (1.12)\n",
            "Requirement already satisfied: deprecated>=1.2.6 in /usr/local/lib/python3.10/dist-packages (from opentelemetry-api>=1.2.0->chromadb) (1.2.14)\n",
            "Requirement already satisfied: importlib-metadata<7.0,>=6.0 in /usr/local/lib/python3.10/dist-packages (from opentelemetry-api>=1.2.0->chromadb) (6.11.0)\n",
            "Requirement already satisfied: backoff<3.0.0,>=1.10.0 in /usr/local/lib/python3.10/dist-packages (from opentelemetry-exporter-otlp-proto-grpc>=1.2.0->chromadb) (2.2.1)\n",
            "Requirement already satisfied: googleapis-common-protos~=1.52 in /usr/local/lib/python3.10/dist-packages (from opentelemetry-exporter-otlp-proto-grpc>=1.2.0->chromadb) (1.61.0)\n",
            "Requirement already satisfied: opentelemetry-exporter-otlp-proto-common==1.21.0 in /usr/local/lib/python3.10/dist-packages (from opentelemetry-exporter-otlp-proto-grpc>=1.2.0->chromadb) (1.21.0)\n",
            "Requirement already satisfied: opentelemetry-proto==1.21.0 in /usr/local/lib/python3.10/dist-packages (from opentelemetry-exporter-otlp-proto-grpc>=1.2.0->chromadb) (1.21.0)\n",
            "Requirement already satisfied: opentelemetry-instrumentation-asgi==0.42b0 in /usr/local/lib/python3.10/dist-packages (from opentelemetry-instrumentation-fastapi>=0.41b0->chromadb) (0.42b0)\n",
            "Requirement already satisfied: opentelemetry-instrumentation==0.42b0 in /usr/local/lib/python3.10/dist-packages (from opentelemetry-instrumentation-fastapi>=0.41b0->chromadb) (0.42b0)\n",
            "Requirement already satisfied: opentelemetry-semantic-conventions==0.42b0 in /usr/local/lib/python3.10/dist-packages (from opentelemetry-instrumentation-fastapi>=0.41b0->chromadb) (0.42b0)\n",
            "Requirement already satisfied: opentelemetry-util-http==0.42b0 in /usr/local/lib/python3.10/dist-packages (from opentelemetry-instrumentation-fastapi>=0.41b0->chromadb) (0.42b0)\n",
            "Requirement already satisfied: setuptools>=16.0 in /usr/local/lib/python3.10/dist-packages (from opentelemetry-instrumentation==0.42b0->opentelemetry-instrumentation-fastapi>=0.41b0->chromadb) (67.7.2)\n",
            "Requirement already satisfied: wrapt<2.0.0,>=1.0.0 in /usr/local/lib/python3.10/dist-packages (from opentelemetry-instrumentation==0.42b0->opentelemetry-instrumentation-fastapi>=0.41b0->chromadb) (1.14.1)\n",
            "Requirement already satisfied: asgiref~=3.0 in /usr/local/lib/python3.10/dist-packages (from opentelemetry-instrumentation-asgi==0.42b0->opentelemetry-instrumentation-fastapi>=0.41b0->chromadb) (3.7.2)\n",
            "Requirement already satisfied: monotonic>=1.5 in /usr/local/lib/python3.10/dist-packages (from posthog>=2.4.0->chromadb) (1.6)\n",
            "Requirement already satisfied: charset-normalizer<4,>=2 in /usr/local/lib/python3.10/dist-packages (from requests<3,>=2->langchain) (3.3.2)\n",
            "Requirement already satisfied: idna<4,>=2.5 in /usr/local/lib/python3.10/dist-packages (from requests<3,>=2->langchain) (3.6)\n",
            "Requirement already satisfied: greenlet!=0.4.17 in /usr/local/lib/python3.10/dist-packages (from SQLAlchemy<3,>=1.4->langchain) (3.0.1)\n",
            "Requirement already satisfied: networkx in /usr/local/lib/python3.10/dist-packages (from torch>=1.6.0->sentence_transformers) (3.2.1)\n",
            "Requirement already satisfied: jinja2 in /usr/local/lib/python3.10/dist-packages (from torch>=1.6.0->sentence_transformers) (3.1.2)\n",
            "Requirement already satisfied: triton==2.1.0 in /usr/local/lib/python3.10/dist-packages (from torch>=1.6.0->sentence_transformers) (2.1.0)\n",
            "Requirement already satisfied: click<9.0.0,>=7.1.1 in /usr/local/lib/python3.10/dist-packages (from typer>=0.9.0->chromadb) (8.1.7)\n",
            "Requirement already satisfied: h11>=0.8 in /usr/local/lib/python3.10/dist-packages (from uvicorn[standard]>=0.18.3->chromadb) (0.14.0)\n",
            "Requirement already satisfied: httptools>=0.5.0 in /usr/local/lib/python3.10/dist-packages (from uvicorn[standard]>=0.18.3->chromadb) (0.6.1)\n",
            "Requirement already satisfied: python-dotenv>=0.13 in /usr/local/lib/python3.10/dist-packages (from uvicorn[standard]>=0.18.3->chromadb) (1.0.0)\n",
            "Requirement already satisfied: uvloop!=0.15.0,!=0.15.1,>=0.14.0 in /usr/local/lib/python3.10/dist-packages (from uvicorn[standard]>=0.18.3->chromadb) (0.19.0)\n",
            "Requirement already satisfied: watchfiles>=0.13 in /usr/local/lib/python3.10/dist-packages (from uvicorn[standard]>=0.18.3->chromadb) (0.21.0)\n",
            "Requirement already satisfied: websockets>=10.4 in /usr/local/lib/python3.10/dist-packages (from uvicorn[standard]>=0.18.3->chromadb) (12.0)\n",
            "Requirement already satisfied: joblib in /usr/local/lib/python3.10/dist-packages (from nltk->sentence_transformers) (1.3.2)\n",
            "Requirement already satisfied: threadpoolctl>=2.0.0 in /usr/local/lib/python3.10/dist-packages (from scikit-learn->sentence_transformers) (3.2.0)\n",
            "Requirement already satisfied: pillow!=8.3.*,>=5.3.0 in /usr/local/lib/python3.10/dist-packages (from torchvision->sentence_transformers) (9.4.0)\n",
            "Requirement already satisfied: sniffio>=1.1 in /usr/local/lib/python3.10/dist-packages (from anyio<4.0.0,>=3.7.1->fastapi>=0.95.2->chromadb) (1.3.0)\n",
            "Requirement already satisfied: exceptiongroup in /usr/local/lib/python3.10/dist-packages (from anyio<4.0.0,>=3.7.1->fastapi>=0.95.2->chromadb) (1.2.0)\n",
            "Requirement already satisfied: cachetools<6.0,>=2.0.0 in /usr/local/lib/python3.10/dist-packages (from google-auth>=1.0.1->kubernetes>=28.1.0->chromadb) (5.3.2)\n",
            "Requirement already satisfied: pyasn1-modules>=0.2.1 in /usr/local/lib/python3.10/dist-packages (from google-auth>=1.0.1->kubernetes>=28.1.0->chromadb) (0.3.0)\n",
            "Requirement already satisfied: rsa<5,>=3.1.4 in /usr/local/lib/python3.10/dist-packages (from google-auth>=1.0.1->kubernetes>=28.1.0->chromadb) (4.9)\n",
            "Requirement already satisfied: zipp>=0.5 in /usr/local/lib/python3.10/dist-packages (from importlib-metadata<7.0,>=6.0->opentelemetry-api>=1.2.0->chromadb) (3.17.0)\n",
            "Requirement already satisfied: mypy-extensions>=0.3.0 in /usr/local/lib/python3.10/dist-packages (from typing-inspect<1,>=0.4.0->dataclasses-json<0.7,>=0.5.7->langchain) (1.0.0)\n",
            "Requirement already satisfied: humanfriendly>=9.1 in /usr/local/lib/python3.10/dist-packages (from coloredlogs->onnxruntime>=1.14.1->chromadb) (10.0)\n",
            "Requirement already satisfied: MarkupSafe>=2.0 in /usr/local/lib/python3.10/dist-packages (from jinja2->torch>=1.6.0->sentence_transformers) (2.1.3)\n",
            "Requirement already satisfied: mpmath>=0.19 in /usr/local/lib/python3.10/dist-packages (from sympy->onnxruntime>=1.14.1->chromadb) (1.3.0)\n",
            "Requirement already satisfied: pyasn1<0.6.0,>=0.4.6 in /usr/local/lib/python3.10/dist-packages (from pyasn1-modules>=0.2.1->google-auth>=1.0.1->kubernetes>=28.1.0->chromadb) (0.5.1)\n"
          ]
        }
      ],
      "source": [
        "!pip install langchain chromadb tiktoken transformers sentence_transformers pypdf"
      ]
    },
    {
      "cell_type": "code",
      "source": [
        "import tiktoken\n",
        "from langchain.text_splitter import RecursiveCharacterTextSplitter\n",
        "\n",
        "tokenizer = tiktoken.get_encoding('cl100k_base')\n",
        "\n",
        "def tiktoken_len(text):\n",
        "  tokens = tokenizer.encode(text)\n",
        "  return len(tokens)"
      ],
      "metadata": {
        "id": "VZmyM_pscvTO"
      },
      "execution_count": 8,
      "outputs": []
    },
    {
      "cell_type": "code",
      "source": [
        "#from langchain.embeddings.sentence_transformer import SentenceTransformerEmbeddings\n",
        "from langchain.vectorstores import Chroma\n",
        "from langchain.document_loaders import PyPDFLoader\n",
        "\n",
        "loader = PyPDFLoader('/content/DJI_Osmo_Pocket_3_User_Manual_v1.0_en.pdf')\n",
        "pages = loader.load_and_split()"
      ],
      "metadata": {
        "id": "rBYTpR6wdRsI"
      },
      "execution_count": 9,
      "outputs": []
    },
    {
      "cell_type": "code",
      "source": [
        "# split it into chunks\n",
        "text_splitter = RecursiveCharacterTextSplitter(\n",
        "    chunk_size=500,\n",
        "    chunk_overlap=0,\n",
        "    length_function=tiktoken_len\n",
        ")\n",
        "\n",
        "docs = text_splitter.split_documents(pages)"
      ],
      "metadata": {
        "id": "l3P9gJ5GeIlB"
      },
      "execution_count": 10,
      "outputs": []
    },
    {
      "cell_type": "code",
      "source": [
        "from langchain.embeddings import HuggingFaceEmbeddings\n",
        "\n",
        "model_name = 'jhgan/ko-sbert-nli'\n",
        "model_kwargs = {'device':'cpu'}\n",
        "encode_kwargs = {'normalize_embeddings':True}\n",
        "hf = HuggingFaceEmbeddings(\n",
        "    model_name = model_name,\n",
        "    model_kwargs = model_kwargs,\n",
        "    encode_kwargs = encode_kwargs\n",
        ")"
      ],
      "metadata": {
        "id": "1OOd2a6Pf5vb"
      },
      "execution_count": 11,
      "outputs": []
    },
    {
      "cell_type": "code",
      "source": [
        "db = Chroma.from_documents(docs, hf)"
      ],
      "metadata": {
        "id": "cCjOcxYbgtoT"
      },
      "execution_count": 12,
      "outputs": []
    },
    {
      "cell_type": "code",
      "source": [
        "# query it\n",
        "query = '4k recording'\n",
        "docs = db.similarity_search(query)\n",
        "\n",
        "print(docs[0].page_content)"
      ],
      "metadata": {
        "colab": {
          "base_uri": "https://localhost:8080/"
        },
        "id": "q0BMHCaBhjtQ",
        "outputId": "06e64f9e-00a8-45f9-92e6-4d73b05976e6"
      },
      "execution_count": 13,
      "outputs": [
        {
          "output_type": "stream",
          "name": "stdout",
          "text": [
            "Hyperlapse 4K/2.7K/1080p@25/30fps: Auto/×2/×5/×10/×15/×30\n",
            "Timelapse 4K/2.7K/1080p@25/30fps\n",
            "Intervals: 0.5/1/2/3/4/5/6/8/10/15/20/25/30/40/60 s\n",
            "Duration: 5/10/20/30 mins, 1/2/3/5/∞ hours\n",
            "Motionlapse 4K/2.7K/1080p@25/30fps\n",
            "Intervals: 0.5/1/2/3/4/5/6/8/10/15/20/25/30/40/60 s\n",
            "Duration: 5/10/20/30 mins, 1/2/3/5 hours\n",
            "Supports setting four positions\n",
            "Low-Light Video 4K (16:9): 3840×2160@24/25/30fps\n",
            "1080p: 1920×1080@24/25/30fps\n",
            "Max Video Bitrate 130 Mbps\n",
            "Supported File System exFAT\n",
            "Photo Format JPEG/RAW\n",
            "Video Format MP4 (H.264/HEVC)\n",
            "Built-in Storage \n",
            "CapacityThe camera does not have built-in storage, but storage capacity can \n",
            "be expanded by inserting a microSD card.\n",
            "Audio Output 48 kHz 16-bit; AAC\n",
            "Battery\n",
            "Type LiPo\n",
            "Capacity 1300 mAh\n",
            "Energy 10.01 Wh\n"
          ]
        }
      ]
    },
    {
      "cell_type": "code",
      "source": [
        "# save to disk\n",
        "db2 = Chroma.from_documents(docs, hf , persist_directory='./chroma_db')\n",
        "docs = db2.similarity_search(query)"
      ],
      "metadata": {
        "id": "eqi8Os1hiEIH"
      },
      "execution_count": 14,
      "outputs": []
    },
    {
      "cell_type": "code",
      "source": [
        "db3 = Chroma(persist_directory='./chroma_db', embedding_function=hf)\n",
        "docs= db3.similarity_search(query)\n",
        "\n",
        "print(docs[0].page_content)"
      ],
      "metadata": {
        "colab": {
          "base_uri": "https://localhost:8080/"
        },
        "id": "GFkIFrGvijvm",
        "outputId": "93d61443-3e8d-4801-aef2-3e416f0dd756"
      },
      "execution_count": 15,
      "outputs": [
        {
          "output_type": "stream",
          "name": "stdout",
          "text": [
            "Hyperlapse 4K/2.7K/1080p@25/30fps: Auto/×2/×5/×10/×15/×30\n",
            "Timelapse 4K/2.7K/1080p@25/30fps\n",
            "Intervals: 0.5/1/2/3/4/5/6/8/10/15/20/25/30/40/60 s\n",
            "Duration: 5/10/20/30 mins, 1/2/3/5/∞ hours\n",
            "Motionlapse 4K/2.7K/1080p@25/30fps\n",
            "Intervals: 0.5/1/2/3/4/5/6/8/10/15/20/25/30/40/60 s\n",
            "Duration: 5/10/20/30 mins, 1/2/3/5 hours\n",
            "Supports setting four positions\n",
            "Low-Light Video 4K (16:9): 3840×2160@24/25/30fps\n",
            "1080p: 1920×1080@24/25/30fps\n",
            "Max Video Bitrate 130 Mbps\n",
            "Supported File System exFAT\n",
            "Photo Format JPEG/RAW\n",
            "Video Format MP4 (H.264/HEVC)\n",
            "Built-in Storage \n",
            "CapacityThe camera does not have built-in storage, but storage capacity can \n",
            "be expanded by inserting a microSD card.\n",
            "Audio Output 48 kHz 16-bit; AAC\n",
            "Battery\n",
            "Type LiPo\n",
            "Capacity 1300 mAh\n",
            "Energy 10.01 Wh\n"
          ]
        }
      ]
    },
    {
      "cell_type": "code",
      "source": [
        "docs = db3.similarity_search_with_relevance_scores(query, k=3)\n",
        "\n",
        "print('가장 유사한 문서: \\n\\n {}\\n\\n'.format(docs[0][0].page_content))\n",
        "print('문서 유사도:\\n {}'.format(docs[0][1]))"
      ],
      "metadata": {
        "colab": {
          "base_uri": "https://localhost:8080/"
        },
        "id": "Ak85cqCci6hR",
        "outputId": "9a221c17-b004-4590-8dad-a640d633b06f"
      },
      "execution_count": 16,
      "outputs": [
        {
          "output_type": "stream",
          "name": "stdout",
          "text": [
            "가장 유사한 문서: \n",
            "\n",
            " Hyperlapse 4K/2.7K/1080p@25/30fps: Auto/×2/×5/×10/×15/×30\n",
            "Timelapse 4K/2.7K/1080p@25/30fps\n",
            "Intervals: 0.5/1/2/3/4/5/6/8/10/15/20/25/30/40/60 s\n",
            "Duration: 5/10/20/30 mins, 1/2/3/5/∞ hours\n",
            "Motionlapse 4K/2.7K/1080p@25/30fps\n",
            "Intervals: 0.5/1/2/3/4/5/6/8/10/15/20/25/30/40/60 s\n",
            "Duration: 5/10/20/30 mins, 1/2/3/5 hours\n",
            "Supports setting four positions\n",
            "Low-Light Video 4K (16:9): 3840×2160@24/25/30fps\n",
            "1080p: 1920×1080@24/25/30fps\n",
            "Max Video Bitrate 130 Mbps\n",
            "Supported File System exFAT\n",
            "Photo Format JPEG/RAW\n",
            "Video Format MP4 (H.264/HEVC)\n",
            "Built-in Storage \n",
            "CapacityThe camera does not have built-in storage, but storage capacity can \n",
            "be expanded by inserting a microSD card.\n",
            "Audio Output 48 kHz 16-bit; AAC\n",
            "Battery\n",
            "Type LiPo\n",
            "Capacity 1300 mAh\n",
            "Energy 10.01 Wh\n",
            "\n",
            "\n",
            "문서 유사도:\n",
            " 0.45507221416936583\n"
          ]
        }
      ]
    },
    {
      "cell_type": "markdown",
      "source": [
        "# FAISS"
      ],
      "metadata": {
        "id": "TAOXAmRajhu9"
      }
    },
    {
      "cell_type": "code",
      "source": [
        "!pip install faiss-cpu"
      ],
      "metadata": {
        "colab": {
          "base_uri": "https://localhost:8080/"
        },
        "id": "5fj4QmWTjhF1",
        "outputId": "0780e1c8-74be-481c-f2b7-4714b3ed36ff"
      },
      "execution_count": 17,
      "outputs": [
        {
          "output_type": "stream",
          "name": "stdout",
          "text": [
            "Collecting faiss-cpu\n",
            "  Downloading faiss_cpu-1.7.4-cp310-cp310-manylinux_2_17_x86_64.manylinux2014_x86_64.whl (17.6 MB)\n",
            "\u001b[2K     \u001b[90m━━━━━━━━━━━━━━━━━━━━━━━━━━━━━━━━━━━━━━━━\u001b[0m \u001b[32m17.6/17.6 MB\u001b[0m \u001b[31m40.7 MB/s\u001b[0m eta \u001b[36m0:00:00\u001b[0m\n",
            "\u001b[?25hInstalling collected packages: faiss-cpu\n",
            "Successfully installed faiss-cpu-1.7.4\n"
          ]
        }
      ]
    },
    {
      "cell_type": "code",
      "source": [
        "from langchain.vectorstores import FAISS\n",
        "\n",
        "pages = loader.load_and_split()\n",
        "\n",
        "text_splitter = RecursiveCharacterTextSplitter(\n",
        "    chunk_size=500,\n",
        "    chunk_overlap=0,\n",
        "    length_function=tiktoken_len\n",
        ")\n",
        "docs = text_splitter.split_documents(pages)\n",
        "\n",
        "model_name='jhgan/ko-sbert-nli'\n",
        "model_kwargs={'device':'cpu'}\n",
        "encode_kwargs={'normalize_embeddings':True}\n",
        "ko=HuggingFaceEmbeddings(\n",
        "    model_name = model_name,\n",
        "    model_kwargs = model_kwargs,\n",
        "    encode_kwargs = encode_kwargs\n",
        ")"
      ],
      "metadata": {
        "id": "aACiPDkNjdC7"
      },
      "execution_count": 18,
      "outputs": []
    },
    {
      "cell_type": "code",
      "source": [
        "db = FAISS.from_documents(docs, ko)"
      ],
      "metadata": {
        "id": "IuPawwXRkuMx"
      },
      "execution_count": 19,
      "outputs": []
    },
    {
      "cell_type": "code",
      "source": [
        "query = 'Who is DJI'\n",
        "docs = db.similarity_search(query)\n",
        "print(docs[0].page_content)\n"
      ],
      "metadata": {
        "colab": {
          "base_uri": "https://localhost:8080/"
        },
        "id": "NEtztpZbk0Zu",
        "outputId": "436dd74c-6b0d-43d3-c913-6ef2962346f8"
      },
      "execution_count": 20,
      "outputs": [
        {
          "output_type": "stream",
          "name": "stdout",
          "text": [
            "If you have any questions about this document, please \n",
            "contact DJI by sending a message to DocSupport@dji.com .\n",
            "DJI and OSMO are trademarks of DJI. \n",
            "Copyright © 2023 DJI OSMO All Rights Reserved.WE ARE HERE FOR YOU\n",
            "Contact \n",
            "DJI SUPPORT\n",
            "https://www.dji.com/osmo-pocket-3/downloadsThis content is subject to change.\n"
          ]
        }
      ]
    },
    {
      "cell_type": "code",
      "source": [
        "docs_and_scores = db.similarity_search_with_score(query)\n",
        "docs_and_scores"
      ],
      "metadata": {
        "colab": {
          "base_uri": "https://localhost:8080/"
        },
        "id": "_kuIukyMllYX",
        "outputId": "e7e5f04f-8eb4-46f2-aaa3-b90b4dbe65e1"
      },
      "execution_count": 24,
      "outputs": [
        {
          "output_type": "execute_result",
          "data": {
            "text/plain": [
              "[(Document(page_content='If you have any questions about this document, please \\ncontact DJI by sending a message to DocSupport@dji.com .\\nDJI and OSMO are trademarks of DJI. \\nCopyright © 2023 DJI OSMO All Rights Reserved.WE ARE HERE FOR YOU\\nContact \\nDJI SUPPORT\\nhttps://www.dji.com/osmo-pocket-3/downloadsThis content is subject to change.', metadata={'source': '/content/DJI_Osmo_Pocket_3_User_Manual_v1.0_en.pdf', 'page': 39}),\n",
              "  0.81629145),\n",
              " (Document(page_content='DJI Osmo Pocket 3 User Manual© 2023 DJI All Rights Reserved. \\u200327DJI Mic 2 Transmitter Status LEDs\\n1 2\\nDJI Mic 2 Transmitter Connection\\nFollow the steps below to connect to DJI Mic 2 (hereinafter referred to as “transmitter”).\\n1. Swipe down from the top of the screen and enter the control menu. Tap the settings icon \\nand select Wireless Mic > TX1/TX2, and the camera is ready to link with a transmitter.\\n2. Press and hold the power button of the transmitter for two seconds to power on.1 Recording Status LED\\nBlinking Pattern Descriptions\\n — Solid red The transmitter is recording independently.\\nOff The transmitter is not recording independently.\\n2 System Status LED\\nBlinking Pattern Descriptions\\n Blinks green slowly Reserved Status\\n — Solid blue Linked via Bluetooth\\n Blinks blue slowly Ready to link via Bluetooth\\n Blinks blue quickly Linking\\n  — Solid yellow Noise Cancelling is enabled when the transmitter \\nis linked to the Bluetooth device.\\n  Blinks yellow Noise Cancelling is enabled when the transmitter \\nis not linked to the Bluetooth device. \\nBattery Level Descriptions\\n — Solid red  0-10%\\n Blinks green slowly  0-25%\\n \\u2002 Blinks green twice  26-50%\\n \\u2002 Blinks green three times  51-75%\\n \\u2002 Blinks green four times  76-99%\\n Off  Fully charged', metadata={'source': '/content/DJI_Osmo_Pocket_3_User_Manual_v1.0_en.pdf', 'page': 26}),\n",
              "  0.9551214),\n",
              " (Document(page_content='DJI Osmo Pocket 3 User Manual© 2023 DJI All Rights Reserved. \\u200331Connecting to the DJI Mimo App\\n1. Power on Osmo Pocket 3.\\n2. Enable Wi-Fi and Bluetooth on the mobile device.\\n3. Launch DJI Mimo, tap  and follow the instructions to connect to Osmo Pocket 3. \\n• When Osmo Pocket 3 is linked with DJI Mic 2 Transmitter and working in the 2.4GHz \\nWi-Fi frequency band, DJI Mimo cannot connect to Osmo Pocket 3. Either change the \\nWi-Fi frequency band of Osmo Pocket 3 to 5.8GHz or disconnect DJI Mic 2 Transmitter \\nbefore connecting to the DJI Mimo app.\\n• If there is a problem when connecting to DJI Mimo, follow the steps below:\\na. Make sure both Wi-Fi and Bluetooth are enabled on the mobile device.\\nb. Make sure DJI Mimo is updated to the latest firmware version.\\nc. Swipe down from the top of the screen to enter the control menu, tap the settings \\nicon, and select Wireless Connection > Reset Connection. The camera will reset all \\nconnections and Wi-Fi passwords.\\nDJI Mimo App Home Screen\\nLaunch DJI Mimo and enter the home screen.\\n Device: tap to connect to Osmo Pocket 3. Once connected, DJI Mimo enters the camera \\nview.', metadata={'source': '/content/DJI_Osmo_Pocket_3_User_Manual_v1.0_en.pdf', 'page': 30}),\n",
              "  0.978729),\n",
              " (Document(page_content='DJI Osmo Pocket 3  User Manual22\\u2003© 2023 DJI All Rights Reserved. Selecting the Gimbal Mode\\nSwipe down from the top of the screen to enter the control menu. Tap the icon to select the \\ngimbal mode.\\nFollow\\nFollow is selected by default. In this mode, the pan and tilt axes follow the \\nhandle while the roll axis remains level. This mode is suitable for most \\nscenarios, including vlogs and selfie videos.\\nTilt Locked\\nIn this mode, only the pan axis follows while the tilt axis is locked and the \\nroll axis remains level. This mode is suitable for scenarios such as where \\nthe camera position switches between high and low.\\nFPV\\nIn this mode, the camera rotates freely and follows the handle movement. \\nThis mode is suitable for scenarios where the camera position is \\ncontinuously rotating and there is less stability.TiltRoll\\nPan', metadata={'source': '/content/DJI_Osmo_Pocket_3_User_Manual_v1.0_en.pdf', 'page': 21}),\n",
              "  0.99436176)]"
            ]
          },
          "metadata": {},
          "execution_count": 24
        }
      ]
    },
    {
      "cell_type": "code",
      "source": [
        "db.save_local('faiss_index')"
      ],
      "metadata": {
        "id": "e2uSmFrGlAN7"
      },
      "execution_count": 25,
      "outputs": []
    },
    {
      "cell_type": "code",
      "source": [
        "new_db = FAISS.load_local('faiss_index', ko)\n",
        "\n",
        "query = 'video edit'\n",
        "docs = new_db.similarity_search_with_relevance_scores(query, k=3)"
      ],
      "metadata": {
        "id": "Pcu1SLmIlSjr"
      },
      "execution_count": 26,
      "outputs": []
    },
    {
      "cell_type": "code",
      "source": [
        "print('질문: {} \\n'.format(query))\n",
        "for i in range(len(docs)):\n",
        "  print('{0}번째 유사 문서 유사도 \\n{1}'.format(i+1, round(docs[i][1],2)))\n",
        "  print('-' * 100)\n",
        "  print(docs[i][0].page_content)\n",
        "  print('\\n')\n",
        "  print(docs[i][0].metadata)\n",
        "  print('-' * 100)"
      ],
      "metadata": {
        "colab": {
          "base_uri": "https://localhost:8080/"
        },
        "id": "w6Qg4Amhbbvv",
        "outputId": "f76b8029-14e7-4b62-a313-241e3c573e13"
      },
      "execution_count": 28,
      "outputs": [
        {
          "output_type": "stream",
          "name": "stdout",
          "text": [
            "질문: video edit \n",
            "\n",
            "1번째 유사 문서 유사도 \n",
            "0.49\n",
            "----------------------------------------------------------------------------------------------------\n",
            "DJI Osmo Pocket 3  User Manual26 © 2023 DJI All Rights Reserved. screen displays Webcam. Press the shutter/record button to start recording. Swipe left from the \n",
            "right edge of the screen to view parameters such as, Exposure, White Balance, and Focus Mode. \n",
            "Users can preview recorded videos after exiting the Webcam mode.\n",
            "Microphone Connection\n",
            "Osmo Pocket 3 can be linked to an external microphone, including DJI Mic, DJI Mic 2, or any \n",
            "third-party digital USB-C microphones that support 48K/16bit.\n",
            "Connecting to DJI Mic 2\n",
            "DJI Mic 2 Transmitter Overview\n",
            "1\n",
            "2\n",
            "3\n",
            "4 567\n",
            "1.  Recording Status LED\n",
            " Indicates the record status of the transmitter.\n",
            "2.  Data Port (USB-C)\n",
            " For charging and copying audio files or updating firmware after connecting to a computer. \n",
            "3.  Record Button\n",
            " Press once to start or stop recording in standalone recording mode.\n",
            "4.  3.5mm TRS Input\n",
            " For connecting an external microphone. DO NOT connect a microphone with a power supply \n",
            "of 24 V or 48 V.\n",
            "5.  System Status LED\n",
            " Indicates the system status of the transmitter.\n",
            "6.  Linking Button\n",
            " Press and hold for two seconds to start linking via Bluetooth. Press once to start/stop \n",
            "recording when the transmitter is successfully linked with the camera.\n",
            "7.  Power Button\n",
            " Press and hold for two seconds to power on or off. Press once to enable or disable noise \n",
            "cancelling.\n",
            "\n",
            "\n",
            "{'source': '/content/DJI_Osmo_Pocket_3_User_Manual_v1.0_en.pdf', 'page': 25}\n",
            "----------------------------------------------------------------------------------------------------\n",
            "2번째 유사 문서 유사도 \n",
            "0.44\n",
            "----------------------------------------------------------------------------------------------------\n",
            "DJI Osmo Pocket 3  User Manual18 © 2023 DJI All Rights Reserved. Shooting Modes Settings\n",
            "Panorama Select 180° or 3×3 panorama photo and set Countdown Timer.\n",
            "Photo Set Aspect Ratio and Countdown Timer.\n",
            "Video Set video resolution, frame rate, and aspect ratio.\n",
            "Low-Light Set video resolution and frame rate.\n",
            "Slow Motion Set the video resolution and speed ratio.\n",
            "Timelapse Select Hyperlapse, Timelapse, or Motionlapse. Tap the upper right \n",
            "corner to set the resolution and frame rate.\n",
            "Swipe Right - Playback\n",
            "Swipe right from the left edge of the screen to view the last taken footage. Swipe left from the \n",
            "right edge of the screen to go back to live view.\n",
            "After connected to DJI Mimo, the favorite photos or videos can be viewed from Favorites \n",
            "of the DJI Mimo Album.\n",
            "Tap to mark as Favorites.\n",
            "Delete the photo or video.\n",
            "Swipe Left - Image Settings\n",
            "Swipe left from the right edge of the screen to enter image and audio settings. Tap PRO to \n",
            "adjust pro parameters. Different parameters can be set in different shooting modes as shown \n",
            "in the below table.\n",
            "Shooting \n",
            "ModesPRO Mode\n",
            "Settings ExposureWhite \n",
            "BalanceFormatFocus \n",
            "ModeImage \n",
            "AdjustmentGlamour \n",
            "EffectsColorsAudio \n",
            "Parameters\n",
            "Panorama √ √ √ √\n",
            "Photo √ √ √ √\n",
            "Video √ √ √ √ √ √ √\n",
            "Low-Light √ √ √ √ √\n",
            "Slow Motion √ √ √ √ √\n",
            "Timelapse √ √ √ √\n",
            "Hyperlapse √ √ √ √ √\n",
            "Motionlapse √ √ √\n",
            "\n",
            "\n",
            "{'source': '/content/DJI_Osmo_Pocket_3_User_Manual_v1.0_en.pdf', 'page': 17}\n",
            "----------------------------------------------------------------------------------------------------\n",
            "3번째 유사 문서 유사도 \n",
            "0.41\n",
            "----------------------------------------------------------------------------------------------------\n",
            "DJI Osmo Pocket 3  User Manual38 © 2023 DJI All Rights Reserved. Max Image Size 16:9, 3840×2160\n",
            "1:1, 3072×3072\n",
            "Zoom Digital Zoom\n",
            "Photo: 3840×2160, 2x\n",
            "Video: 1080p, 4x; 2.7K, 3x; 4K, 2x\n",
            "UVC & Livestream: 1080p, 4x\n",
            "Slow Motion/Timelapse/Low-Light Video/Panorama: Not available\n",
            "Still Photography \n",
            "ModesSingle Shot: Approx. 9.4 MP\n",
            "Countdown: Off/3/5/7 s\n",
            "Panorama: 180°, 3×3\n",
            "Normal Video 4K (16:9): 3840×2160@24/25/30/48/50/60fps\n",
            "2.7K (16:9): 2688×1512@24/25/30/48/50/60fps\n",
            "1080p (16:9): 1920×1080@24/25/30/48/50/60fps\n",
            "3K (1:1): 3072×3072@24/25/30/48/50/60fps\n",
            "2160p (1:1): 2160×2160@24/25/30/48/50/60fps\n",
            "1080p (1:1): 1080×1080@24/25/30/48/50/60fps\n",
            "3K (9:16): 1728×3072@24/25/30/48/50/60fps\n",
            "2.7K (9:16): 1512×2688@24/25/30/48/50/60fps\n",
            "1080p (9:16): 1080×1920@24/25/30/48/50/60fps\n",
            "Slow Motion 4K: 3840×2160@100/120fps   \n",
            "2.7K: 2688×1512@120fps\n",
            "1080p: 1920×1080@120/240fps\n",
            "\n",
            "\n",
            "{'source': '/content/DJI_Osmo_Pocket_3_User_Manual_v1.0_en.pdf', 'page': 37}\n",
            "----------------------------------------------------------------------------------------------------\n"
          ]
        }
      ]
    },
    {
      "cell_type": "code",
      "source": [
        "query = 'Is an app provided?'\n",
        "docs = new_db.max_marginal_relevance_search(query, k=3, fetck_k=10, lamda_mult=0.3)  # 다양성을 추구한다.\n",
        "len(docs)"
      ],
      "metadata": {
        "colab": {
          "base_uri": "https://localhost:8080/"
        },
        "id": "M5HTLQPGbdVG",
        "outputId": "3f364c4c-8e03-40fb-e21c-f462eefdff5c"
      },
      "execution_count": 40,
      "outputs": [
        {
          "output_type": "execute_result",
          "data": {
            "text/plain": [
              "3"
            ]
          },
          "metadata": {},
          "execution_count": 40
        }
      ]
    },
    {
      "cell_type": "code",
      "source": [
        "print('질문: {} \\n'.format(query))\n",
        "for i in range(len(docs)):\n",
        "  print('{0}번째 유사 문서 유사도'.format(i+1))\n",
        "  print('-' * 100)\n",
        "  print(docs[i].page_content)\n",
        "  print('\\n')\n",
        "  print(docs[i].metadata)\n",
        "  print('-' * 100)"
      ],
      "metadata": {
        "colab": {
          "base_uri": "https://localhost:8080/"
        },
        "id": "fLl-cIjhdQyz",
        "outputId": "0c69443d-345f-4c23-fe51-b6a0bb7b993d"
      },
      "execution_count": 41,
      "outputs": [
        {
          "output_type": "stream",
          "name": "stdout",
          "text": [
            "질문: Is an app provided? \n",
            "\n",
            "1번째 유사 문서 유사도\n",
            "----------------------------------------------------------------------------------------------------\n",
            "DJI Osmo Pocket 3 User Manual© 2023 DJI All Rights Reserved.  31Connecting to the DJI Mimo App\n",
            "1. Power on Osmo Pocket 3.\n",
            "2. Enable Wi-Fi and Bluetooth on the mobile device.\n",
            "3. Launch DJI Mimo, tap  and follow the instructions to connect to Osmo Pocket 3. \n",
            "• When Osmo Pocket 3 is linked with DJI Mic 2 Transmitter and working in the 2.4GHz \n",
            "Wi-Fi frequency band, DJI Mimo cannot connect to Osmo Pocket 3. Either change the \n",
            "Wi-Fi frequency band of Osmo Pocket 3 to 5.8GHz or disconnect DJI Mic 2 Transmitter \n",
            "before connecting to the DJI Mimo app.\n",
            "• If there is a problem when connecting to DJI Mimo, follow the steps below:\n",
            "a. Make sure both Wi-Fi and Bluetooth are enabled on the mobile device.\n",
            "b. Make sure DJI Mimo is updated to the latest firmware version.\n",
            "c. Swipe down from the top of the screen to enter the control menu, tap the settings \n",
            "icon, and select Wireless Connection > Reset Connection. The camera will reset all \n",
            "connections and Wi-Fi passwords.\n",
            "DJI Mimo App Home Screen\n",
            "Launch DJI Mimo and enter the home screen.\n",
            " Device: tap to connect to Osmo Pocket 3. Once connected, DJI Mimo enters the camera \n",
            "view.\n",
            "\n",
            "\n",
            "{'source': '/content/DJI_Osmo_Pocket_3_User_Manual_v1.0_en.pdf', 'page': 30}\n",
            "----------------------------------------------------------------------------------------------------\n",
            "2번째 유사 문서 유사도\n",
            "----------------------------------------------------------------------------------------------------\n",
            "Swipe Up - Parameters Settings\n",
            "Swipe up from the bottom of the screen to set the parameters for each shooting mode.\n",
            "\n",
            "\n",
            "{'source': '/content/DJI_Osmo_Pocket_3_User_Manual_v1.0_en.pdf', 'page': 16}\n",
            "----------------------------------------------------------------------------------------------------\n",
            "3번째 유사 문서 유사도\n",
            "----------------------------------------------------------------------------------------------------\n",
            "Reduction does not work when connected to the external microphone.\n",
            "• Directional Audio: when Front is selected, the built-in microphone will \n",
            "enhance the reception of the sound in front of the camera. When Front \n",
            "and Back is selected, the built-in microphone will enhance the sound \n",
            "recording at the front and rear of the camera. When All is selected, sounds \n",
            "from all directions around the camera will be recorded. Directional Audio \n",
            "is not supported when external microphones are used.\n",
            "• Gain: when an external microphone is connected, the input gain of the \n",
            "microphone can be adjusted.\n",
            "\n",
            "\n",
            "{'source': '/content/DJI_Osmo_Pocket_3_User_Manual_v1.0_en.pdf', 'page': 18}\n",
            "----------------------------------------------------------------------------------------------------\n"
          ]
        }
      ]
    },
    {
      "cell_type": "code",
      "source": [],
      "metadata": {
        "id": "PsrjJwqsdR4U"
      },
      "execution_count": null,
      "outputs": []
    }
  ]
}