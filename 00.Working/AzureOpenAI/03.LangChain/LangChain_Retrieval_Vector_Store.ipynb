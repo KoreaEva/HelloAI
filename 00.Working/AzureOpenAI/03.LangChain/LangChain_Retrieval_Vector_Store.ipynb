{
  "nbformat": 4,
  "nbformat_minor": 0,
  "metadata": {
    "colab": {
      "provenance": []
    },
    "kernelspec": {
      "name": "python3",
      "display_name": "Python 3"
    },
    "language_info": {
      "name": "python"
    }
  },
  "cells": [
    {
      "cell_type": "markdown",
      "source": [],
      "metadata": {
        "id": "GzAPgRfWfS59"
      }
    },
    {
      "cell_type": "code",
      "execution_count": 14,
      "metadata": {
        "colab": {
          "base_uri": "https://localhost:8080/"
        },
        "id": "B36RoXBoby6o",
        "outputId": "ac266f54-9a68-4bfd-a314-6260fc090c34"
      },
      "outputs": [
        {
          "output_type": "stream",
          "name": "stdout",
          "text": [
            "Requirement already satisfied: langchain in /usr/local/lib/python3.10/dist-packages (0.0.350)\n",
            "Requirement already satisfied: chromadb in /usr/local/lib/python3.10/dist-packages (0.4.19)\n",
            "Requirement already satisfied: tiktoken in /usr/local/lib/python3.10/dist-packages (0.5.2)\n",
            "Requirement already satisfied: transformers in /usr/local/lib/python3.10/dist-packages (4.35.2)\n",
            "Requirement already satisfied: sentence_transformers in /usr/local/lib/python3.10/dist-packages (2.2.2)\n",
            "Collecting pypdf\n",
            "  Downloading pypdf-3.17.2-py3-none-any.whl (277 kB)\n",
            "\u001b[2K     \u001b[90m━━━━━━━━━━━━━━━━━━━━━━━━━━━━━━━━━━━━━━━━\u001b[0m \u001b[32m277.9/277.9 kB\u001b[0m \u001b[31m4.2 MB/s\u001b[0m eta \u001b[36m0:00:00\u001b[0m\n",
            "\u001b[?25hRequirement already satisfied: PyYAML>=5.3 in /usr/local/lib/python3.10/dist-packages (from langchain) (6.0.1)\n",
            "Requirement already satisfied: SQLAlchemy<3,>=1.4 in /usr/local/lib/python3.10/dist-packages (from langchain) (2.0.23)\n",
            "Requirement already satisfied: aiohttp<4.0.0,>=3.8.3 in /usr/local/lib/python3.10/dist-packages (from langchain) (3.9.1)\n",
            "Requirement already satisfied: async-timeout<5.0.0,>=4.0.0 in /usr/local/lib/python3.10/dist-packages (from langchain) (4.0.3)\n",
            "Requirement already satisfied: dataclasses-json<0.7,>=0.5.7 in /usr/local/lib/python3.10/dist-packages (from langchain) (0.6.3)\n",
            "Requirement already satisfied: jsonpatch<2.0,>=1.33 in /usr/local/lib/python3.10/dist-packages (from langchain) (1.33)\n",
            "Requirement already satisfied: langchain-community<0.1,>=0.0.2 in /usr/local/lib/python3.10/dist-packages (from langchain) (0.0.3)\n",
            "Requirement already satisfied: langchain-core<0.2,>=0.1 in /usr/local/lib/python3.10/dist-packages (from langchain) (0.1.0)\n",
            "Requirement already satisfied: langsmith<0.1.0,>=0.0.63 in /usr/local/lib/python3.10/dist-packages (from langchain) (0.0.69)\n",
            "Requirement already satisfied: numpy<2,>=1 in /usr/local/lib/python3.10/dist-packages (from langchain) (1.23.5)\n",
            "Requirement already satisfied: pydantic<3,>=1 in /usr/local/lib/python3.10/dist-packages (from langchain) (1.10.13)\n",
            "Requirement already satisfied: requests<3,>=2 in /usr/local/lib/python3.10/dist-packages (from langchain) (2.31.0)\n",
            "Requirement already satisfied: tenacity<9.0.0,>=8.1.0 in /usr/local/lib/python3.10/dist-packages (from langchain) (8.2.3)\n",
            "Requirement already satisfied: chroma-hnswlib==0.7.3 in /usr/local/lib/python3.10/dist-packages (from chromadb) (0.7.3)\n",
            "Requirement already satisfied: fastapi>=0.95.2 in /usr/local/lib/python3.10/dist-packages (from chromadb) (0.105.0)\n",
            "Requirement already satisfied: uvicorn[standard]>=0.18.3 in /usr/local/lib/python3.10/dist-packages (from chromadb) (0.24.0.post1)\n",
            "Requirement already satisfied: posthog>=2.4.0 in /usr/local/lib/python3.10/dist-packages (from chromadb) (3.1.0)\n",
            "Requirement already satisfied: typing-extensions>=4.5.0 in /usr/local/lib/python3.10/dist-packages (from chromadb) (4.9.0)\n",
            "Requirement already satisfied: pulsar-client>=3.1.0 in /usr/local/lib/python3.10/dist-packages (from chromadb) (3.3.0)\n",
            "Requirement already satisfied: onnxruntime>=1.14.1 in /usr/local/lib/python3.10/dist-packages (from chromadb) (1.16.3)\n",
            "Requirement already satisfied: opentelemetry-api>=1.2.0 in /usr/local/lib/python3.10/dist-packages (from chromadb) (1.21.0)\n",
            "Requirement already satisfied: opentelemetry-exporter-otlp-proto-grpc>=1.2.0 in /usr/local/lib/python3.10/dist-packages (from chromadb) (1.21.0)\n",
            "Requirement already satisfied: opentelemetry-instrumentation-fastapi>=0.41b0 in /usr/local/lib/python3.10/dist-packages (from chromadb) (0.42b0)\n",
            "Requirement already satisfied: opentelemetry-sdk>=1.2.0 in /usr/local/lib/python3.10/dist-packages (from chromadb) (1.21.0)\n",
            "Requirement already satisfied: tokenizers>=0.13.2 in /usr/local/lib/python3.10/dist-packages (from chromadb) (0.15.0)\n",
            "Requirement already satisfied: pypika>=0.48.9 in /usr/local/lib/python3.10/dist-packages (from chromadb) (0.48.9)\n",
            "Requirement already satisfied: tqdm>=4.65.0 in /usr/local/lib/python3.10/dist-packages (from chromadb) (4.66.1)\n",
            "Requirement already satisfied: overrides>=7.3.1 in /usr/local/lib/python3.10/dist-packages (from chromadb) (7.4.0)\n",
            "Requirement already satisfied: importlib-resources in /usr/local/lib/python3.10/dist-packages (from chromadb) (6.1.1)\n",
            "Requirement already satisfied: grpcio>=1.58.0 in /usr/local/lib/python3.10/dist-packages (from chromadb) (1.59.3)\n",
            "Requirement already satisfied: bcrypt>=4.0.1 in /usr/local/lib/python3.10/dist-packages (from chromadb) (4.1.1)\n",
            "Requirement already satisfied: typer>=0.9.0 in /usr/local/lib/python3.10/dist-packages (from chromadb) (0.9.0)\n",
            "Requirement already satisfied: kubernetes>=28.1.0 in /usr/local/lib/python3.10/dist-packages (from chromadb) (28.1.0)\n",
            "Requirement already satisfied: mmh3>=4.0.1 in /usr/local/lib/python3.10/dist-packages (from chromadb) (4.0.1)\n",
            "Requirement already satisfied: regex>=2022.1.18 in /usr/local/lib/python3.10/dist-packages (from tiktoken) (2023.6.3)\n",
            "Requirement already satisfied: filelock in /usr/local/lib/python3.10/dist-packages (from transformers) (3.13.1)\n",
            "Requirement already satisfied: huggingface-hub<1.0,>=0.16.4 in /usr/local/lib/python3.10/dist-packages (from transformers) (0.19.4)\n",
            "Requirement already satisfied: packaging>=20.0 in /usr/local/lib/python3.10/dist-packages (from transformers) (23.2)\n",
            "Requirement already satisfied: safetensors>=0.3.1 in /usr/local/lib/python3.10/dist-packages (from transformers) (0.4.1)\n",
            "Requirement already satisfied: torch>=1.6.0 in /usr/local/lib/python3.10/dist-packages (from sentence_transformers) (2.1.0+cu118)\n",
            "Requirement already satisfied: torchvision in /usr/local/lib/python3.10/dist-packages (from sentence_transformers) (0.16.0+cu118)\n",
            "Requirement already satisfied: scikit-learn in /usr/local/lib/python3.10/dist-packages (from sentence_transformers) (1.2.2)\n",
            "Requirement already satisfied: scipy in /usr/local/lib/python3.10/dist-packages (from sentence_transformers) (1.11.4)\n",
            "Requirement already satisfied: nltk in /usr/local/lib/python3.10/dist-packages (from sentence_transformers) (3.8.1)\n",
            "Requirement already satisfied: sentencepiece in /usr/local/lib/python3.10/dist-packages (from sentence_transformers) (0.1.99)\n",
            "Requirement already satisfied: attrs>=17.3.0 in /usr/local/lib/python3.10/dist-packages (from aiohttp<4.0.0,>=3.8.3->langchain) (23.1.0)\n",
            "Requirement already satisfied: multidict<7.0,>=4.5 in /usr/local/lib/python3.10/dist-packages (from aiohttp<4.0.0,>=3.8.3->langchain) (6.0.4)\n",
            "Requirement already satisfied: yarl<2.0,>=1.0 in /usr/local/lib/python3.10/dist-packages (from aiohttp<4.0.0,>=3.8.3->langchain) (1.9.3)\n",
            "Requirement already satisfied: frozenlist>=1.1.1 in /usr/local/lib/python3.10/dist-packages (from aiohttp<4.0.0,>=3.8.3->langchain) (1.4.0)\n",
            "Requirement already satisfied: aiosignal>=1.1.2 in /usr/local/lib/python3.10/dist-packages (from aiohttp<4.0.0,>=3.8.3->langchain) (1.3.1)\n",
            "Requirement already satisfied: marshmallow<4.0.0,>=3.18.0 in /usr/local/lib/python3.10/dist-packages (from dataclasses-json<0.7,>=0.5.7->langchain) (3.20.1)\n",
            "Requirement already satisfied: typing-inspect<1,>=0.4.0 in /usr/local/lib/python3.10/dist-packages (from dataclasses-json<0.7,>=0.5.7->langchain) (0.9.0)\n",
            "Requirement already satisfied: anyio<4.0.0,>=3.7.1 in /usr/local/lib/python3.10/dist-packages (from fastapi>=0.95.2->chromadb) (3.7.1)\n",
            "Requirement already satisfied: starlette<0.28.0,>=0.27.0 in /usr/local/lib/python3.10/dist-packages (from fastapi>=0.95.2->chromadb) (0.27.0)\n",
            "Requirement already satisfied: fsspec>=2023.5.0 in /usr/local/lib/python3.10/dist-packages (from huggingface-hub<1.0,>=0.16.4->transformers) (2023.6.0)\n",
            "Requirement already satisfied: jsonpointer>=1.9 in /usr/local/lib/python3.10/dist-packages (from jsonpatch<2.0,>=1.33->langchain) (2.4)\n",
            "Requirement already satisfied: certifi>=14.05.14 in /usr/local/lib/python3.10/dist-packages (from kubernetes>=28.1.0->chromadb) (2023.11.17)\n",
            "Requirement already satisfied: six>=1.9.0 in /usr/local/lib/python3.10/dist-packages (from kubernetes>=28.1.0->chromadb) (1.16.0)\n",
            "Requirement already satisfied: python-dateutil>=2.5.3 in /usr/local/lib/python3.10/dist-packages (from kubernetes>=28.1.0->chromadb) (2.8.2)\n",
            "Requirement already satisfied: google-auth>=1.0.1 in /usr/local/lib/python3.10/dist-packages (from kubernetes>=28.1.0->chromadb) (2.17.3)\n",
            "Requirement already satisfied: websocket-client!=0.40.0,!=0.41.*,!=0.42.*,>=0.32.0 in /usr/local/lib/python3.10/dist-packages (from kubernetes>=28.1.0->chromadb) (1.7.0)\n",
            "Requirement already satisfied: requests-oauthlib in /usr/local/lib/python3.10/dist-packages (from kubernetes>=28.1.0->chromadb) (1.3.1)\n",
            "Requirement already satisfied: oauthlib>=3.2.2 in /usr/local/lib/python3.10/dist-packages (from kubernetes>=28.1.0->chromadb) (3.2.2)\n",
            "Requirement already satisfied: urllib3<2.0,>=1.24.2 in /usr/local/lib/python3.10/dist-packages (from kubernetes>=28.1.0->chromadb) (1.26.18)\n",
            "Requirement already satisfied: coloredlogs in /usr/local/lib/python3.10/dist-packages (from onnxruntime>=1.14.1->chromadb) (15.0.1)\n",
            "Requirement already satisfied: flatbuffers in /usr/local/lib/python3.10/dist-packages (from onnxruntime>=1.14.1->chromadb) (23.5.26)\n",
            "Requirement already satisfied: protobuf in /usr/local/lib/python3.10/dist-packages (from onnxruntime>=1.14.1->chromadb) (3.20.3)\n",
            "Requirement already satisfied: sympy in /usr/local/lib/python3.10/dist-packages (from onnxruntime>=1.14.1->chromadb) (1.12)\n",
            "Requirement already satisfied: deprecated>=1.2.6 in /usr/local/lib/python3.10/dist-packages (from opentelemetry-api>=1.2.0->chromadb) (1.2.14)\n",
            "Requirement already satisfied: importlib-metadata<7.0,>=6.0 in /usr/local/lib/python3.10/dist-packages (from opentelemetry-api>=1.2.0->chromadb) (6.11.0)\n",
            "Requirement already satisfied: backoff<3.0.0,>=1.10.0 in /usr/local/lib/python3.10/dist-packages (from opentelemetry-exporter-otlp-proto-grpc>=1.2.0->chromadb) (2.2.1)\n",
            "Requirement already satisfied: googleapis-common-protos~=1.52 in /usr/local/lib/python3.10/dist-packages (from opentelemetry-exporter-otlp-proto-grpc>=1.2.0->chromadb) (1.61.0)\n",
            "Requirement already satisfied: opentelemetry-exporter-otlp-proto-common==1.21.0 in /usr/local/lib/python3.10/dist-packages (from opentelemetry-exporter-otlp-proto-grpc>=1.2.0->chromadb) (1.21.0)\n",
            "Requirement already satisfied: opentelemetry-proto==1.21.0 in /usr/local/lib/python3.10/dist-packages (from opentelemetry-exporter-otlp-proto-grpc>=1.2.0->chromadb) (1.21.0)\n",
            "Requirement already satisfied: opentelemetry-instrumentation-asgi==0.42b0 in /usr/local/lib/python3.10/dist-packages (from opentelemetry-instrumentation-fastapi>=0.41b0->chromadb) (0.42b0)\n",
            "Requirement already satisfied: opentelemetry-instrumentation==0.42b0 in /usr/local/lib/python3.10/dist-packages (from opentelemetry-instrumentation-fastapi>=0.41b0->chromadb) (0.42b0)\n",
            "Requirement already satisfied: opentelemetry-semantic-conventions==0.42b0 in /usr/local/lib/python3.10/dist-packages (from opentelemetry-instrumentation-fastapi>=0.41b0->chromadb) (0.42b0)\n",
            "Requirement already satisfied: opentelemetry-util-http==0.42b0 in /usr/local/lib/python3.10/dist-packages (from opentelemetry-instrumentation-fastapi>=0.41b0->chromadb) (0.42b0)\n",
            "Requirement already satisfied: setuptools>=16.0 in /usr/local/lib/python3.10/dist-packages (from opentelemetry-instrumentation==0.42b0->opentelemetry-instrumentation-fastapi>=0.41b0->chromadb) (67.7.2)\n",
            "Requirement already satisfied: wrapt<2.0.0,>=1.0.0 in /usr/local/lib/python3.10/dist-packages (from opentelemetry-instrumentation==0.42b0->opentelemetry-instrumentation-fastapi>=0.41b0->chromadb) (1.14.1)\n",
            "Requirement already satisfied: asgiref~=3.0 in /usr/local/lib/python3.10/dist-packages (from opentelemetry-instrumentation-asgi==0.42b0->opentelemetry-instrumentation-fastapi>=0.41b0->chromadb) (3.7.2)\n",
            "Requirement already satisfied: monotonic>=1.5 in /usr/local/lib/python3.10/dist-packages (from posthog>=2.4.0->chromadb) (1.6)\n",
            "Requirement already satisfied: charset-normalizer<4,>=2 in /usr/local/lib/python3.10/dist-packages (from requests<3,>=2->langchain) (3.3.2)\n",
            "Requirement already satisfied: idna<4,>=2.5 in /usr/local/lib/python3.10/dist-packages (from requests<3,>=2->langchain) (3.6)\n",
            "Requirement already satisfied: greenlet!=0.4.17 in /usr/local/lib/python3.10/dist-packages (from SQLAlchemy<3,>=1.4->langchain) (3.0.1)\n",
            "Requirement already satisfied: networkx in /usr/local/lib/python3.10/dist-packages (from torch>=1.6.0->sentence_transformers) (3.2.1)\n",
            "Requirement already satisfied: jinja2 in /usr/local/lib/python3.10/dist-packages (from torch>=1.6.0->sentence_transformers) (3.1.2)\n",
            "Requirement already satisfied: triton==2.1.0 in /usr/local/lib/python3.10/dist-packages (from torch>=1.6.0->sentence_transformers) (2.1.0)\n",
            "Requirement already satisfied: click<9.0.0,>=7.1.1 in /usr/local/lib/python3.10/dist-packages (from typer>=0.9.0->chromadb) (8.1.7)\n",
            "Requirement already satisfied: h11>=0.8 in /usr/local/lib/python3.10/dist-packages (from uvicorn[standard]>=0.18.3->chromadb) (0.14.0)\n",
            "Requirement already satisfied: httptools>=0.5.0 in /usr/local/lib/python3.10/dist-packages (from uvicorn[standard]>=0.18.3->chromadb) (0.6.1)\n",
            "Requirement already satisfied: python-dotenv>=0.13 in /usr/local/lib/python3.10/dist-packages (from uvicorn[standard]>=0.18.3->chromadb) (1.0.0)\n",
            "Requirement already satisfied: uvloop!=0.15.0,!=0.15.1,>=0.14.0 in /usr/local/lib/python3.10/dist-packages (from uvicorn[standard]>=0.18.3->chromadb) (0.19.0)\n",
            "Requirement already satisfied: watchfiles>=0.13 in /usr/local/lib/python3.10/dist-packages (from uvicorn[standard]>=0.18.3->chromadb) (0.21.0)\n",
            "Requirement already satisfied: websockets>=10.4 in /usr/local/lib/python3.10/dist-packages (from uvicorn[standard]>=0.18.3->chromadb) (12.0)\n",
            "Requirement already satisfied: joblib in /usr/local/lib/python3.10/dist-packages (from nltk->sentence_transformers) (1.3.2)\n",
            "Requirement already satisfied: threadpoolctl>=2.0.0 in /usr/local/lib/python3.10/dist-packages (from scikit-learn->sentence_transformers) (3.2.0)\n",
            "Requirement already satisfied: pillow!=8.3.*,>=5.3.0 in /usr/local/lib/python3.10/dist-packages (from torchvision->sentence_transformers) (9.4.0)\n",
            "Requirement already satisfied: sniffio>=1.1 in /usr/local/lib/python3.10/dist-packages (from anyio<4.0.0,>=3.7.1->fastapi>=0.95.2->chromadb) (1.3.0)\n",
            "Requirement already satisfied: exceptiongroup in /usr/local/lib/python3.10/dist-packages (from anyio<4.0.0,>=3.7.1->fastapi>=0.95.2->chromadb) (1.2.0)\n",
            "Requirement already satisfied: cachetools<6.0,>=2.0.0 in /usr/local/lib/python3.10/dist-packages (from google-auth>=1.0.1->kubernetes>=28.1.0->chromadb) (5.3.2)\n",
            "Requirement already satisfied: pyasn1-modules>=0.2.1 in /usr/local/lib/python3.10/dist-packages (from google-auth>=1.0.1->kubernetes>=28.1.0->chromadb) (0.3.0)\n",
            "Requirement already satisfied: rsa<5,>=3.1.4 in /usr/local/lib/python3.10/dist-packages (from google-auth>=1.0.1->kubernetes>=28.1.0->chromadb) (4.9)\n",
            "Requirement already satisfied: zipp>=0.5 in /usr/local/lib/python3.10/dist-packages (from importlib-metadata<7.0,>=6.0->opentelemetry-api>=1.2.0->chromadb) (3.17.0)\n",
            "Requirement already satisfied: mypy-extensions>=0.3.0 in /usr/local/lib/python3.10/dist-packages (from typing-inspect<1,>=0.4.0->dataclasses-json<0.7,>=0.5.7->langchain) (1.0.0)\n",
            "Requirement already satisfied: humanfriendly>=9.1 in /usr/local/lib/python3.10/dist-packages (from coloredlogs->onnxruntime>=1.14.1->chromadb) (10.0)\n",
            "Requirement already satisfied: MarkupSafe>=2.0 in /usr/local/lib/python3.10/dist-packages (from jinja2->torch>=1.6.0->sentence_transformers) (2.1.3)\n",
            "Requirement already satisfied: mpmath>=0.19 in /usr/local/lib/python3.10/dist-packages (from sympy->onnxruntime>=1.14.1->chromadb) (1.3.0)\n",
            "Requirement already satisfied: pyasn1<0.6.0,>=0.4.6 in /usr/local/lib/python3.10/dist-packages (from pyasn1-modules>=0.2.1->google-auth>=1.0.1->kubernetes>=28.1.0->chromadb) (0.5.1)\n",
            "Installing collected packages: pypdf\n",
            "Successfully installed pypdf-3.17.2\n"
          ]
        }
      ],
      "source": [
        "!pip install langchain chromadb tiktoken transformers sentence_transformers pypdf"
      ]
    },
    {
      "cell_type": "code",
      "source": [
        "import tiktoken\n",
        "from langchain.text_splitter import RecursiveCharacterTextSplitter\n",
        "\n",
        "tokenizer = tiktoken.get_encoding('cl100k_base')\n",
        "\n",
        "def tiktoken_len(text):\n",
        "  tokens = tokenizer.encode(text)\n",
        "  return len(tokens)"
      ],
      "metadata": {
        "id": "VZmyM_pscvTO"
      },
      "execution_count": 9,
      "outputs": []
    },
    {
      "cell_type": "code",
      "source": [
        "#from langchain.embeddings.sentence_transformer import SentenceTransformerEmbeddings\n",
        "from langchain.vectorstores import Chroma\n",
        "from langchain.document_loaders import PyPDFLoader\n",
        "\n",
        "loader = PyPDFLoader('/content/DJI_Osmo_Pocket_3_User_Manual_v1.0_en.pdf')\n",
        "pages = loader.load_and_split()"
      ],
      "metadata": {
        "id": "rBYTpR6wdRsI"
      },
      "execution_count": 21,
      "outputs": []
    },
    {
      "cell_type": "code",
      "source": [
        "# split it into chunks\n",
        "text_splitter = RecursiveCharacterTextSplitter(\n",
        "    chunk_size=500,\n",
        "    chunk_overlap=0,\n",
        "    length_function=tiktoken_len\n",
        ")\n",
        "\n",
        "docs = text_splitter.split_documents(pages)"
      ],
      "metadata": {
        "id": "l3P9gJ5GeIlB"
      },
      "execution_count": 22,
      "outputs": []
    },
    {
      "cell_type": "code",
      "source": [
        "from langchain.embeddings import HuggingFaceEmbeddings\n",
        "\n",
        "model_name = 'jhgan/ko-sbert-nli'\n",
        "model_kwargs = {'device':'cpu'}\n",
        "encode_kwargs = {'normalize_embeddings':True}\n",
        "hf = HuggingFaceEmbeddings(\n",
        "    model_name = model_name,\n",
        "    model_kwargs = model_kwargs,\n",
        "    encode_kwargs = encode_kwargs\n",
        ")"
      ],
      "metadata": {
        "id": "1OOd2a6Pf5vb"
      },
      "execution_count": 23,
      "outputs": []
    },
    {
      "cell_type": "code",
      "source": [
        "db = Chroma.from_documents(docs, hf)"
      ],
      "metadata": {
        "id": "cCjOcxYbgtoT"
      },
      "execution_count": 24,
      "outputs": []
    },
    {
      "cell_type": "code",
      "source": [
        "# query it\n",
        "query = '4k recording'\n",
        "docs = db.similarity_search(query)\n",
        "\n",
        "print(docs[0].page_content)"
      ],
      "metadata": {
        "colab": {
          "base_uri": "https://localhost:8080/"
        },
        "id": "q0BMHCaBhjtQ",
        "outputId": "60ea434f-f912-4059-eaf8-5e3a2ad71531"
      },
      "execution_count": 26,
      "outputs": [
        {
          "output_type": "stream",
          "name": "stdout",
          "text": [
            "DJI Osmo Pocket 3 User Manual© 2023 DJI All Rights Reserved.  29Audio-to-video Sync When enabled, the transmitter will record audio files independently \n",
            "while the camera is recording video. The recorded audio format \n",
            "of the transmitter is 24-bit mono WAV. When recording for an \n",
            "extended period, the audio file will be separated automatically every \n",
            "30 minutes. The transmitter stops recording when the storage is full.\n",
            "Low Cut When enabled, the transmitter will automatically filter low-frequency \n",
            "(below 150 Hz) sounds, thereby making recordings cleaner.\n",
            "32-Bit Float Recording When enabled, the transmitter can independently record audio \n",
            "files in 32-bit float, which provides larger dynamic range in post-\n",
            "production audio correction.\n",
            "Format Transmitter 1/\n",
            "Transmitter 2Tap to format transmitter 1 or transmitter 2. Formatting will \n",
            "permanently delete all data on transmitter 1 or transmitter 2. Make \n",
            "sure to back up all required data before formatting.\n",
            "Transmitter Version Displays the firmware version of the transmitter.\n",
            "Connecting to DJI Mic\n",
            "Follow the steps below to connect the DJI Mic to the camera: \n",
            "1. Power on the DJI Mic receiver and transmitter, and make sure the receiver and transmitter \n",
            "are linked.\n",
            "2. Use the USB-C mobile phone adapter (included) to connect the receiver to the USB-C port on \n",
            "the camera. When connected, an input volume bar is displayed on the touchscreen of the \n",
            "camera.\n",
            "3. Press the linking button on the transmitter to start recording while using the transmitter for \n",
            "audio. Press the linking button again to stop recording.\n",
            "USB-C Adapter DJI Mic Receiver\n"
          ]
        }
      ]
    },
    {
      "cell_type": "code",
      "source": [
        "# save to disk\n",
        "db2 = Chroma.from_documents(docs, hf , persist_directory='./chroma_db')\n",
        "docs = db2.similarity_search(query)"
      ],
      "metadata": {
        "id": "eqi8Os1hiEIH"
      },
      "execution_count": 27,
      "outputs": []
    },
    {
      "cell_type": "code",
      "source": [
        "db3 = Chroma(persist_directory='./chroma_db', embedding_function=hf)\n",
        "docs= db3.similarity_search(query)\n",
        "\n",
        "print(docs[0].page_content)"
      ],
      "metadata": {
        "colab": {
          "base_uri": "https://localhost:8080/"
        },
        "id": "GFkIFrGvijvm",
        "outputId": "ec93f888-1cd3-47a3-f897-063926017292"
      },
      "execution_count": 28,
      "outputs": [
        {
          "output_type": "stream",
          "name": "stdout",
          "text": [
            "DJI Osmo Pocket 3 User Manual© 2023 DJI All Rights Reserved.  29Audio-to-video Sync When enabled, the transmitter will record audio files independently \n",
            "while the camera is recording video. The recorded audio format \n",
            "of the transmitter is 24-bit mono WAV. When recording for an \n",
            "extended period, the audio file will be separated automatically every \n",
            "30 minutes. The transmitter stops recording when the storage is full.\n",
            "Low Cut When enabled, the transmitter will automatically filter low-frequency \n",
            "(below 150 Hz) sounds, thereby making recordings cleaner.\n",
            "32-Bit Float Recording When enabled, the transmitter can independently record audio \n",
            "files in 32-bit float, which provides larger dynamic range in post-\n",
            "production audio correction.\n",
            "Format Transmitter 1/\n",
            "Transmitter 2Tap to format transmitter 1 or transmitter 2. Formatting will \n",
            "permanently delete all data on transmitter 1 or transmitter 2. Make \n",
            "sure to back up all required data before formatting.\n",
            "Transmitter Version Displays the firmware version of the transmitter.\n",
            "Connecting to DJI Mic\n",
            "Follow the steps below to connect the DJI Mic to the camera: \n",
            "1. Power on the DJI Mic receiver and transmitter, and make sure the receiver and transmitter \n",
            "are linked.\n",
            "2. Use the USB-C mobile phone adapter (included) to connect the receiver to the USB-C port on \n",
            "the camera. When connected, an input volume bar is displayed on the touchscreen of the \n",
            "camera.\n",
            "3. Press the linking button on the transmitter to start recording while using the transmitter for \n",
            "audio. Press the linking button again to stop recording.\n",
            "USB-C Adapter DJI Mic Receiver\n"
          ]
        }
      ]
    },
    {
      "cell_type": "code",
      "source": [
        "docs = db3.similarity_search_with_relevance_scores(query, k=3)\n",
        "\n",
        "print('가장 유사한 문서: \\n\\n {}\\n\\n'.format(docs[0][0].page_content))\n",
        "print('문서 유사도:\\n {}'.format(docs[0][1]))"
      ],
      "metadata": {
        "colab": {
          "base_uri": "https://localhost:8080/"
        },
        "id": "Ak85cqCci6hR",
        "outputId": "5204f97e-9f94-488b-f279-7b6aee43130b"
      },
      "execution_count": 29,
      "outputs": [
        {
          "output_type": "stream",
          "name": "stdout",
          "text": [
            "가장 유사한 문서: \n",
            "\n",
            " DJI Osmo Pocket 3 User Manual© 2023 DJI All Rights Reserved.  29Audio-to-video Sync When enabled, the transmitter will record audio files independently \n",
            "while the camera is recording video. The recorded audio format \n",
            "of the transmitter is 24-bit mono WAV. When recording for an \n",
            "extended period, the audio file will be separated automatically every \n",
            "30 minutes. The transmitter stops recording when the storage is full.\n",
            "Low Cut When enabled, the transmitter will automatically filter low-frequency \n",
            "(below 150 Hz) sounds, thereby making recordings cleaner.\n",
            "32-Bit Float Recording When enabled, the transmitter can independently record audio \n",
            "files in 32-bit float, which provides larger dynamic range in post-\n",
            "production audio correction.\n",
            "Format Transmitter 1/\n",
            "Transmitter 2Tap to format transmitter 1 or transmitter 2. Formatting will \n",
            "permanently delete all data on transmitter 1 or transmitter 2. Make \n",
            "sure to back up all required data before formatting.\n",
            "Transmitter Version Displays the firmware version of the transmitter.\n",
            "Connecting to DJI Mic\n",
            "Follow the steps below to connect the DJI Mic to the camera: \n",
            "1. Power on the DJI Mic receiver and transmitter, and make sure the receiver and transmitter \n",
            "are linked.\n",
            "2. Use the USB-C mobile phone adapter (included) to connect the receiver to the USB-C port on \n",
            "the camera. When connected, an input volume bar is displayed on the touchscreen of the \n",
            "camera.\n",
            "3. Press the linking button on the transmitter to start recording while using the transmitter for \n",
            "audio. Press the linking button again to stop recording.\n",
            "USB-C Adapter DJI Mic Receiver\n",
            "\n",
            "\n",
            "문서 유사도:\n",
            " 0.38476980669140426\n"
          ]
        }
      ]
    },
    {
      "cell_type": "markdown",
      "source": [
        "# FAISS"
      ],
      "metadata": {
        "id": "TAOXAmRajhu9"
      }
    },
    {
      "cell_type": "code",
      "source": [
        "!pip install faiss-cpu"
      ],
      "metadata": {
        "colab": {
          "base_uri": "https://localhost:8080/"
        },
        "id": "5fj4QmWTjhF1",
        "outputId": "b404ed6c-0b3f-4b90-cbdd-035a4c57953f"
      },
      "execution_count": 30,
      "outputs": [
        {
          "output_type": "stream",
          "name": "stdout",
          "text": [
            "Collecting faiss-cpu\n",
            "  Downloading faiss_cpu-1.7.4-cp310-cp310-manylinux_2_17_x86_64.manylinux2014_x86_64.whl (17.6 MB)\n",
            "\u001b[2K     \u001b[90m━━━━━━━━━━━━━━━━━━━━━━━━━━━━━━━━━━━━━━━━\u001b[0m \u001b[32m17.6/17.6 MB\u001b[0m \u001b[31m29.7 MB/s\u001b[0m eta \u001b[36m0:00:00\u001b[0m\n",
            "\u001b[?25hInstalling collected packages: faiss-cpu\n",
            "Successfully installed faiss-cpu-1.7.4\n"
          ]
        }
      ]
    },
    {
      "cell_type": "code",
      "source": [
        "from langchain.vectorstores import FAISS\n",
        "\n",
        "pages = loader.load_and_split()\n",
        "\n",
        "text_splitter = RecursiveCharacterTextSplitter(\n",
        "    chunk_size=500,\n",
        "    chunk_overlap=0,\n",
        "    length_function=tiktoken_len\n",
        ")\n",
        "docs = text_splitter.split_documents(pages)\n",
        "\n",
        "model_name='jhgan/ko-sbert-nli'\n",
        "model_kwargs={'device':'cpu'}\n",
        "encode_kwargs={'normalize_embeddings':True}\n",
        "ko=HuggingFaceEmbeddings(\n",
        "    model_name = model_name,\n",
        "    model_kwargs = model_kwargs,\n",
        "    encode_kwargs = encode_kwargs\n",
        ")"
      ],
      "metadata": {
        "id": "aACiPDkNjdC7"
      },
      "execution_count": 31,
      "outputs": []
    },
    {
      "cell_type": "code",
      "source": [
        "db = FAISS.from_documents(docs, ko)"
      ],
      "metadata": {
        "id": "IuPawwXRkuMx"
      },
      "execution_count": 32,
      "outputs": []
    },
    {
      "cell_type": "code",
      "source": [
        "query = 'Who is DJI'\n",
        "docs = db.similarity_search(query)\n",
        "print(docs[0].page_content)\n"
      ],
      "metadata": {
        "colab": {
          "base_uri": "https://localhost:8080/"
        },
        "id": "NEtztpZbk0Zu",
        "outputId": "2a822b20-00dd-425f-c4e6-363e073c2ba4"
      },
      "execution_count": 33,
      "outputs": [
        {
          "output_type": "stream",
          "name": "stdout",
          "text": [
            "If you have any questions about this document, please \n",
            "contact DJI by sending a message to DocSupport@dji.com .\n",
            "DJI and OSMO are trademarks of DJI. \n",
            "Copyright © 2023 DJI OSMO All Rights Reserved.WE ARE HERE FOR YOU\n",
            "Contact \n",
            "DJI SUPPORT\n",
            "https://www.dji.com/osmo-pocket-3/downloadsThis content is subject to change.\n"
          ]
        }
      ]
    },
    {
      "cell_type": "code",
      "source": [
        "docs_and_scores = db.similarity_search_with_relevance_scores(query)\n",
        "docs_and_scores"
      ],
      "metadata": {
        "colab": {
          "base_uri": "https://localhost:8080/"
        },
        "id": "_kuIukyMllYX",
        "outputId": "9880b5da-f381-430d-d2b3-9e9a292ee0f2"
      },
      "execution_count": 36,
      "outputs": [
        {
          "output_type": "execute_result",
          "data": {
            "text/plain": [
              "[(Document(page_content='If you have any questions about this document, please \\ncontact DJI by sending a message to DocSupport@dji.com .\\nDJI and OSMO are trademarks of DJI. \\nCopyright © 2023 DJI OSMO All Rights Reserved.WE ARE HERE FOR YOU\\nContact \\nDJI SUPPORT\\nhttps://www.dji.com/osmo-pocket-3/downloadsThis content is subject to change.', metadata={'source': '/content/DJI_Osmo_Pocket_3_User_Manual_v1.0_en.pdf', 'page': 39}),\n",
              "  0.42279477925215225),\n",
              " (Document(page_content='DJI Osmo Pocket 3 User Manual© 2023 DJI All Rights Reserved. \\u200327DJI Mic 2 Transmitter Status LEDs\\n1 2\\nDJI Mic 2 Transmitter Connection\\nFollow the steps below to connect to DJI Mic 2 (hereinafter referred to as “transmitter”).\\n1. Swipe down from the top of the screen and enter the control menu. Tap the settings icon \\nand select Wireless Mic > TX1/TX2, and the camera is ready to link with a transmitter.\\n2. Press and hold the power button of the transmitter for two seconds to power on.1 Recording Status LED\\nBlinking Pattern Descriptions\\n — Solid red The transmitter is recording independently.\\nOff The transmitter is not recording independently.\\n2 System Status LED\\nBlinking Pattern Descriptions\\n Blinks green slowly Reserved Status\\n — Solid blue Linked via Bluetooth\\n Blinks blue slowly Ready to link via Bluetooth\\n Blinks blue quickly Linking\\n  — Solid yellow Noise Cancelling is enabled when the transmitter \\nis linked to the Bluetooth device.\\n  Blinks yellow Noise Cancelling is enabled when the transmitter \\nis not linked to the Bluetooth device. \\nBattery Level Descriptions\\n — Solid red  0-10%\\n Blinks green slowly  0-25%\\n \\u2002 Blinks green twice  26-50%\\n \\u2002 Blinks green three times  51-75%\\n \\u2002 Blinks green four times  76-99%\\n Off  Fully charged', metadata={'source': '/content/DJI_Osmo_Pocket_3_User_Manual_v1.0_en.pdf', 'page': 26}),\n",
              "  0.3246271826375481),\n",
              " (Document(page_content='DJI Osmo Pocket 3 User Manual© 2023 DJI All Rights Reserved. \\u200331Connecting to the DJI Mimo App\\n1. Power on Osmo Pocket 3.\\n2. Enable Wi-Fi and Bluetooth on the mobile device.\\n3. Launch DJI Mimo, tap  and follow the instructions to connect to Osmo Pocket 3. \\n• When Osmo Pocket 3 is linked with DJI Mic 2 Transmitter and working in the 2.4GHz \\nWi-Fi frequency band, DJI Mimo cannot connect to Osmo Pocket 3. Either change the \\nWi-Fi frequency band of Osmo Pocket 3 to 5.8GHz or disconnect DJI Mic 2 Transmitter \\nbefore connecting to the DJI Mimo app.\\n• If there is a problem when connecting to DJI Mimo, follow the steps below:\\na. Make sure both Wi-Fi and Bluetooth are enabled on the mobile device.\\nb. Make sure DJI Mimo is updated to the latest firmware version.\\nc. Swipe down from the top of the screen to enter the control menu, tap the settings \\nicon, and select Wireless Connection > Reset Connection. The camera will reset all \\nconnections and Wi-Fi passwords.\\nDJI Mimo App Home Screen\\nLaunch DJI Mimo and enter the home screen.\\n Device: tap to connect to Osmo Pocket 3. Once connected, DJI Mimo enters the camera \\nview.', metadata={'source': '/content/DJI_Osmo_Pocket_3_User_Manual_v1.0_en.pdf', 'page': 30}),\n",
              "  0.3079340803478382),\n",
              " (Document(page_content='DJI Osmo Pocket 3  User Manual22\\u2003© 2023 DJI All Rights Reserved. Selecting the Gimbal Mode\\nSwipe down from the top of the screen to enter the control menu. Tap the icon to select the \\ngimbal mode.\\nFollow\\nFollow is selected by default. In this mode, the pan and tilt axes follow the \\nhandle while the roll axis remains level. This mode is suitable for most \\nscenarios, including vlogs and selfie videos.\\nTilt Locked\\nIn this mode, only the pan axis follows while the tilt axis is locked and the \\nroll axis remains level. This mode is suitable for scenarios such as where \\nthe camera position switches between high and low.\\nFPV\\nIn this mode, the camera rotates freely and follows the handle movement. \\nThis mode is suitable for scenarios where the camera position is \\ncontinuously rotating and there is less stability.TiltRoll\\nPan', metadata={'source': '/content/DJI_Osmo_Pocket_3_User_Manual_v1.0_en.pdf', 'page': 21}),\n",
              "  0.29688005780149207)]"
            ]
          },
          "metadata": {},
          "execution_count": 36
        }
      ]
    },
    {
      "cell_type": "code",
      "source": [
        "db.save_local('faiss_index')"
      ],
      "metadata": {
        "id": "e2uSmFrGlAN7"
      },
      "execution_count": 37,
      "outputs": []
    },
    {
      "cell_type": "code",
      "source": [
        "new_db ="
      ],
      "metadata": {
        "id": "Pcu1SLmIlSjr"
      },
      "execution_count": null,
      "outputs": []
    }
  ]
}