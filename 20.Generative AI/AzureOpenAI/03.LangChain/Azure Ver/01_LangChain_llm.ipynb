{
  "nbformat": 4,
  "nbformat_minor": 0,
  "metadata": {
    "colab": {
      "provenance": []
    },
    "kernelspec": {
      "name": "python3",
      "display_name": "Python 3"
    },
    "language_info": {
      "name": "python"
    }
  },
  "cells": [
    {
      "cell_type": "code",
      "execution_count": 1,
      "metadata": {
        "colab": {
          "base_uri": "https://localhost:8080/"
        },
        "id": "uQYceflXlAHC",
        "outputId": "5a120826-463e-4f6a-9976-35c29abeb684"
      },
      "outputs": [
        {
          "output_type": "stream",
          "name": "stdout",
          "text": [
            "Collecting langchain\n",
            "  Downloading langchain-0.1.0-py3-none-any.whl (797 kB)\n",
            "\u001b[2K     \u001b[90m━━━━━━━━━━━━━━━━━━━━━━━━━━━━━━━━━━━━━━━━\u001b[0m \u001b[32m798.0/798.0 kB\u001b[0m \u001b[31m7.0 MB/s\u001b[0m eta \u001b[36m0:00:00\u001b[0m\n",
            "\u001b[?25hRequirement already satisfied: PyYAML>=5.3 in /usr/local/lib/python3.10/dist-packages (from langchain) (6.0.1)\n",
            "Requirement already satisfied: SQLAlchemy<3,>=1.4 in /usr/local/lib/python3.10/dist-packages (from langchain) (2.0.24)\n",
            "Requirement already satisfied: aiohttp<4.0.0,>=3.8.3 in /usr/local/lib/python3.10/dist-packages (from langchain) (3.9.1)\n",
            "Requirement already satisfied: async-timeout<5.0.0,>=4.0.0 in /usr/local/lib/python3.10/dist-packages (from langchain) (4.0.3)\n",
            "Collecting dataclasses-json<0.7,>=0.5.7 (from langchain)\n",
            "  Downloading dataclasses_json-0.6.3-py3-none-any.whl (28 kB)\n",
            "Collecting jsonpatch<2.0,>=1.33 (from langchain)\n",
            "  Downloading jsonpatch-1.33-py2.py3-none-any.whl (12 kB)\n",
            "Collecting langchain-community<0.1,>=0.0.9 (from langchain)\n",
            "  Downloading langchain_community-0.0.12-py3-none-any.whl (1.6 MB)\n",
            "\u001b[2K     \u001b[90m━━━━━━━━━━━━━━━━━━━━━━━━━━━━━━━━━━━━━━━━\u001b[0m \u001b[32m1.6/1.6 MB\u001b[0m \u001b[31m14.3 MB/s\u001b[0m eta \u001b[36m0:00:00\u001b[0m\n",
            "\u001b[?25hCollecting langchain-core<0.2,>=0.1.7 (from langchain)\n",
            "  Downloading langchain_core-0.1.10-py3-none-any.whl (216 kB)\n",
            "\u001b[2K     \u001b[90m━━━━━━━━━━━━━━━━━━━━━━━━━━━━━━━━━━━━━━━━\u001b[0m \u001b[32m216.6/216.6 kB\u001b[0m \u001b[31m8.7 MB/s\u001b[0m eta \u001b[36m0:00:00\u001b[0m\n",
            "\u001b[?25hCollecting langsmith<0.1.0,>=0.0.77 (from langchain)\n",
            "  Downloading langsmith-0.0.80-py3-none-any.whl (48 kB)\n",
            "\u001b[2K     \u001b[90m━━━━━━━━━━━━━━━━━━━━━━━━━━━━━━━━━━━━━━━━\u001b[0m \u001b[32m48.3/48.3 kB\u001b[0m \u001b[31m1.3 MB/s\u001b[0m eta \u001b[36m0:00:00\u001b[0m\n",
            "\u001b[?25hRequirement already satisfied: numpy<2,>=1 in /usr/local/lib/python3.10/dist-packages (from langchain) (1.23.5)\n",
            "Requirement already satisfied: pydantic<3,>=1 in /usr/local/lib/python3.10/dist-packages (from langchain) (1.10.13)\n",
            "Requirement already satisfied: requests<3,>=2 in /usr/local/lib/python3.10/dist-packages (from langchain) (2.31.0)\n",
            "Requirement already satisfied: tenacity<9.0.0,>=8.1.0 in /usr/local/lib/python3.10/dist-packages (from langchain) (8.2.3)\n",
            "Requirement already satisfied: attrs>=17.3.0 in /usr/local/lib/python3.10/dist-packages (from aiohttp<4.0.0,>=3.8.3->langchain) (23.2.0)\n",
            "Requirement already satisfied: multidict<7.0,>=4.5 in /usr/local/lib/python3.10/dist-packages (from aiohttp<4.0.0,>=3.8.3->langchain) (6.0.4)\n",
            "Requirement already satisfied: yarl<2.0,>=1.0 in /usr/local/lib/python3.10/dist-packages (from aiohttp<4.0.0,>=3.8.3->langchain) (1.9.4)\n",
            "Requirement already satisfied: frozenlist>=1.1.1 in /usr/local/lib/python3.10/dist-packages (from aiohttp<4.0.0,>=3.8.3->langchain) (1.4.1)\n",
            "Requirement already satisfied: aiosignal>=1.1.2 in /usr/local/lib/python3.10/dist-packages (from aiohttp<4.0.0,>=3.8.3->langchain) (1.3.1)\n",
            "Collecting marshmallow<4.0.0,>=3.18.0 (from dataclasses-json<0.7,>=0.5.7->langchain)\n",
            "  Downloading marshmallow-3.20.2-py3-none-any.whl (49 kB)\n",
            "\u001b[2K     \u001b[90m━━━━━━━━━━━━━━━━━━━━━━━━━━━━━━━━━━━━━━━━\u001b[0m \u001b[32m49.4/49.4 kB\u001b[0m \u001b[31m1.0 MB/s\u001b[0m eta \u001b[36m0:00:00\u001b[0m\n",
            "\u001b[?25hCollecting typing-inspect<1,>=0.4.0 (from dataclasses-json<0.7,>=0.5.7->langchain)\n",
            "  Downloading typing_inspect-0.9.0-py3-none-any.whl (8.8 kB)\n",
            "Collecting jsonpointer>=1.9 (from jsonpatch<2.0,>=1.33->langchain)\n",
            "  Downloading jsonpointer-2.4-py2.py3-none-any.whl (7.8 kB)\n",
            "Requirement already satisfied: anyio<5,>=3 in /usr/local/lib/python3.10/dist-packages (from langchain-core<0.2,>=0.1.7->langchain) (3.7.1)\n",
            "Requirement already satisfied: packaging<24.0,>=23.2 in /usr/local/lib/python3.10/dist-packages (from langchain-core<0.2,>=0.1.7->langchain) (23.2)\n",
            "Requirement already satisfied: typing-extensions>=4.2.0 in /usr/local/lib/python3.10/dist-packages (from pydantic<3,>=1->langchain) (4.5.0)\n",
            "Requirement already satisfied: charset-normalizer<4,>=2 in /usr/local/lib/python3.10/dist-packages (from requests<3,>=2->langchain) (3.3.2)\n",
            "Requirement already satisfied: idna<4,>=2.5 in /usr/local/lib/python3.10/dist-packages (from requests<3,>=2->langchain) (3.6)\n",
            "Requirement already satisfied: urllib3<3,>=1.21.1 in /usr/local/lib/python3.10/dist-packages (from requests<3,>=2->langchain) (2.0.7)\n",
            "Requirement already satisfied: certifi>=2017.4.17 in /usr/local/lib/python3.10/dist-packages (from requests<3,>=2->langchain) (2023.11.17)\n",
            "Requirement already satisfied: greenlet!=0.4.17 in /usr/local/lib/python3.10/dist-packages (from SQLAlchemy<3,>=1.4->langchain) (3.0.3)\n",
            "Requirement already satisfied: sniffio>=1.1 in /usr/local/lib/python3.10/dist-packages (from anyio<5,>=3->langchain-core<0.2,>=0.1.7->langchain) (1.3.0)\n",
            "Requirement already satisfied: exceptiongroup in /usr/local/lib/python3.10/dist-packages (from anyio<5,>=3->langchain-core<0.2,>=0.1.7->langchain) (1.2.0)\n",
            "Collecting mypy-extensions>=0.3.0 (from typing-inspect<1,>=0.4.0->dataclasses-json<0.7,>=0.5.7->langchain)\n",
            "  Downloading mypy_extensions-1.0.0-py3-none-any.whl (4.7 kB)\n",
            "Installing collected packages: mypy-extensions, marshmallow, jsonpointer, typing-inspect, langsmith, jsonpatch, langchain-core, dataclasses-json, langchain-community, langchain\n",
            "Successfully installed dataclasses-json-0.6.3 jsonpatch-1.33 jsonpointer-2.4 langchain-0.1.0 langchain-community-0.0.12 langchain-core-0.1.10 langsmith-0.0.80 marshmallow-3.20.2 mypy-extensions-1.0.0 typing-inspect-0.9.0\n",
            "Collecting openai\n",
            "  Downloading openai-1.7.2-py3-none-any.whl (212 kB)\n",
            "\u001b[2K     \u001b[90m━━━━━━━━━━━━━━━━━━━━━━━━━━━━━━━━━━━━━━━━\u001b[0m \u001b[32m212.1/212.1 kB\u001b[0m \u001b[31m2.6 MB/s\u001b[0m eta \u001b[36m0:00:00\u001b[0m\n",
            "\u001b[?25hRequirement already satisfied: anyio<5,>=3.5.0 in /usr/local/lib/python3.10/dist-packages (from openai) (3.7.1)\n",
            "Requirement already satisfied: distro<2,>=1.7.0 in /usr/lib/python3/dist-packages (from openai) (1.7.0)\n",
            "Collecting httpx<1,>=0.23.0 (from openai)\n",
            "  Downloading httpx-0.26.0-py3-none-any.whl (75 kB)\n",
            "\u001b[2K     \u001b[90m━━━━━━━━━━━━━━━━━━━━━━━━━━━━━━━━━━━━━━━━\u001b[0m \u001b[32m75.9/75.9 kB\u001b[0m \u001b[31m3.1 MB/s\u001b[0m eta \u001b[36m0:00:00\u001b[0m\n",
            "\u001b[?25hRequirement already satisfied: pydantic<3,>=1.9.0 in /usr/local/lib/python3.10/dist-packages (from openai) (1.10.13)\n",
            "Requirement already satisfied: sniffio in /usr/local/lib/python3.10/dist-packages (from openai) (1.3.0)\n",
            "Requirement already satisfied: tqdm>4 in /usr/local/lib/python3.10/dist-packages (from openai) (4.66.1)\n",
            "Collecting typing-extensions<5,>=4.7 (from openai)\n",
            "  Downloading typing_extensions-4.9.0-py3-none-any.whl (32 kB)\n",
            "Requirement already satisfied: idna>=2.8 in /usr/local/lib/python3.10/dist-packages (from anyio<5,>=3.5.0->openai) (3.6)\n",
            "Requirement already satisfied: exceptiongroup in /usr/local/lib/python3.10/dist-packages (from anyio<5,>=3.5.0->openai) (1.2.0)\n",
            "Requirement already satisfied: certifi in /usr/local/lib/python3.10/dist-packages (from httpx<1,>=0.23.0->openai) (2023.11.17)\n",
            "Collecting httpcore==1.* (from httpx<1,>=0.23.0->openai)\n",
            "  Downloading httpcore-1.0.2-py3-none-any.whl (76 kB)\n",
            "\u001b[2K     \u001b[90m━━━━━━━━━━━━━━━━━━━━━━━━━━━━━━━━━━━━━━━━\u001b[0m \u001b[32m76.9/76.9 kB\u001b[0m \u001b[31m5.0 MB/s\u001b[0m eta \u001b[36m0:00:00\u001b[0m\n",
            "\u001b[?25hCollecting h11<0.15,>=0.13 (from httpcore==1.*->httpx<1,>=0.23.0->openai)\n",
            "  Downloading h11-0.14.0-py3-none-any.whl (58 kB)\n",
            "\u001b[2K     \u001b[90m━━━━━━━━━━━━━━━━━━━━━━━━━━━━━━━━━━━━━━━━\u001b[0m \u001b[32m58.3/58.3 kB\u001b[0m \u001b[31m6.0 MB/s\u001b[0m eta \u001b[36m0:00:00\u001b[0m\n",
            "\u001b[?25hInstalling collected packages: typing-extensions, h11, httpcore, httpx, openai\n",
            "  Attempting uninstall: typing-extensions\n",
            "    Found existing installation: typing_extensions 4.5.0\n",
            "    Uninstalling typing_extensions-4.5.0:\n",
            "      Successfully uninstalled typing_extensions-4.5.0\n",
            "\u001b[31mERROR: pip's dependency resolver does not currently take into account all the packages that are installed. This behaviour is the source of the following dependency conflicts.\n",
            "llmx 0.0.15a0 requires cohere, which is not installed.\n",
            "llmx 0.0.15a0 requires tiktoken, which is not installed.\n",
            "tensorflow-probability 0.22.0 requires typing-extensions<4.6.0, but you have typing-extensions 4.9.0 which is incompatible.\u001b[0m\u001b[31m\n",
            "\u001b[0mSuccessfully installed h11-0.14.0 httpcore-1.0.2 httpx-0.26.0 openai-1.7.2 typing-extensions-4.9.0\n"
          ]
        }
      ],
      "source": [
        "!pip install langchain\n",
        "!pip install openai"
      ]
    },
    {
      "cell_type": "code",
      "source": [
        "import os\n",
        "\n",
        "os.environ['OPENAI_API_KEY'] = '9981e226aeb7496e8c0f7739e96bfb03'\n",
        "os.environ['OPENAI_API_TYPE'] = 'azure'\n",
        "os.environ['AZURE_OPENAI_ENDPOINT'] = 'https://labuser101openai2.openai.azure.com/'\n",
        "os.environ['OPENAI_API_VERSION'] = '2023-05-15'"
      ],
      "metadata": {
        "id": "695iuOvtlJ4V"
      },
      "execution_count": 4,
      "outputs": []
    },
    {
      "cell_type": "code",
      "source": [
        "from langchain.llms import AzureOpenAI\n",
        "llm = AzureOpenAI(\n",
        "    deployment_name=\"dev-davinci-002\",\n",
        ")\n",
        "llm.invoke('why python is the most popular language? answer the Korean.')"
      ],
      "metadata": {
        "colab": {
          "base_uri": "https://localhost:8080/",
          "height": 197
        },
        "id": "fYKIXHTMlmsL",
        "outputId": "1186515b-fbca-4262-adb7-5799982dd741"
      },
      "execution_count": 6,
      "outputs": [
        {
          "output_type": "execute_result",
          "data": {
            "text/plain": [
              "' Python is used in thousands of open source projects, e-commerce applications, ad networks, and data visualization tools. Python is one of the most popular general-purpose programming languages used for both large and small-scale applications. Python is a very simple, powerful and popular programming language. Python is used for web development, development of desktop GUI applications, development of console applications, machine learning, data science, big data, etc. [22] Python is used by large organizations, including NASA, Google, Facebook, Dropbox, and Instagram. FREE! It is free and open-source, which makes it more accessible for developers. If you have any query related to this post, then feel free to ask in the comment section. This course will help you to learn the basics of Python in a few hours. Python is one of the most popular languages in 2020. Open Source: Python is free and open-source software. Python is currently being used to teach programming in over 1500 universities around the world. Python is a general-purpose, high-level programming language. The future of programming is in the hands of Python. It is free and open-source, which makes it more accessible for developers. Python is easy to learn and easy to implement. Python is a high-level, interpreted, interactive'"
            ],
            "application/vnd.google.colaboratory.intrinsic+json": {
              "type": "string"
            }
          },
          "metadata": {},
          "execution_count": 6
        }
      ]
    },
    {
      "cell_type": "code",
      "source": [
        "from langchain.chat_models import AzureChatOpenAI\n",
        "\n",
        "chatgpt = AzureChatOpenAI(azure_deployment='dev-gpt-35-turbo')\n",
        "answer = chatgpt.invoke('why python is the most popular language? answer the Korean')\n",
        "print(answer)"
      ],
      "metadata": {
        "colab": {
          "base_uri": "https://localhost:8080/"
        },
        "id": "YNGhjvMymHq_",
        "outputId": "02b3954f-7f11-4ca5-cc87-0d7c3d83f131"
      },
      "execution_count": 8,
      "outputs": [
        {
          "output_type": "stream",
          "name": "stdout",
          "text": [
            "content='파이썬이 가장 인기 있는 언어인 이유는 다양한 이유가 있습니다. 파이썬은 배우기 쉽고 읽기 쉽습니다. 또한 다양한 분야에서 사용할 수 있으며 강력한 라이브러리와 도구들이 많이 있습니다. 또한 커뮤니티가 크고 활발하여 문제가 발생했을 때 도움을 받을 수 있습니다. 이러한 이유들로 인해 파이썬은 가장 인기 있는 프로그래밍 언어가 되었습니다.'\n"
          ]
        }
      ]
    },
    {
      "cell_type": "code",
      "source": [
        "chatgpt = AzureChatOpenAI(deployment_name='dev-gpt-35-turbo', temperature=0)\n",
        "answer = chatgpt.invoke('why python is the most popular language? answer the Korean')\n",
        "print(answer)"
      ],
      "metadata": {
        "colab": {
          "base_uri": "https://localhost:8080/"
        },
        "id": "azB1opogmr0V",
        "outputId": "9dc47580-e5d3-4a8e-90f6-8348e39c8282"
      },
      "execution_count": 9,
      "outputs": [
        {
          "output_type": "stream",
          "name": "stdout",
          "text": [
            "content='파이썬은 가장 인기 있는 언어 중 하나인데, 그 이유는 다양한 분야에서 사용될 수 있고 배우기 쉽기 때문입니다. 또한 파이썬은 강력한 커뮤니티와 다양한 라이브러리를 가지고 있어서 개발자들이 쉽게 협업하고 프로젝트를 완성할 수 있습니다. 이러한 이유로 파이썬은 많은 사람들에게 선호되는 언어가 되었습니다.'\n"
          ]
        }
      ]
    },
    {
      "cell_type": "code",
      "source": [
        "chatgpt = AzureChatOpenAI(deployment_name='dev-gpt-35-turbo', temperature=1)\n",
        "answer = chatgpt.invoke('why python is the most popular language? answer the Korean')\n",
        "print(answer)"
      ],
      "metadata": {
        "colab": {
          "base_uri": "https://localhost:8080/"
        },
        "id": "QIuyP_ojnBJS",
        "outputId": "6bd7ffa1-cd82-4bf2-9f67-95f839ecdd1f"
      },
      "execution_count": 10,
      "outputs": [
        {
          "output_type": "stream",
          "name": "stdout",
          "text": [
            "content='파이썬이 가장 인기 있는 언어로 여겨지는 이유는 여러 가지가 있습니다. 그 중에서도 파이썬은 사용하기 쉽고 간결한 문법을 가지고 있어 초보자들도 쉽게 배울 수 있습니다. 또한 데이터 분석, 인공 지능, 웹 개발, 자동화 등 다양한 분야에서 사용될 수 있어 유연한 언어로 인기를 얻고 있습니다. 또한 다양한 라이브러리와 프레임워크가 있어 빠른 개발이 가능하고, 오픈 소스이기 때문에 커뮤니티가 활발하여 문제 해결이 빠릅니다. 이러한 이유로 파이썬은 가장 인기 있는 언어 중 하나로 여겨지고 있습니다.'\n"
          ]
        }
      ]
    },
    {
      "cell_type": "code",
      "source": [
        "from langchain.callbacks.streaming_stdout import StreamingStdOutCallbackHandler\n",
        "chatgpt = AzureChatOpenAI(deployment_name='dev-gpt-35-turbo', temperature=1, streaming=True, callbacks=[StreamingStdOutCallbackHandler()])\n",
        "answer = chatgpt.invoke('why python is the most popular language? answer the Korean')\n",
        "#print(answer)"
      ],
      "metadata": {
        "colab": {
          "base_uri": "https://localhost:8080/"
        },
        "id": "3rMiUug6nI8_",
        "outputId": "d7ab72f7-34de-4626-cb4d-1a5d6125fdd2"
      },
      "execution_count": 11,
      "outputs": [
        {
          "output_type": "stream",
          "name": "stdout",
          "text": [
            "파이썬은 다른 프로그래밍 언어보다 인기가 많은 이유가 여러 가지 있습니다. 그 중 하나는 파이썬이 배우기 쉽고 읽기 쉽기 때문입니다. 또한 파이썬은 다양한 용도로 사용할 수 있으며, 데이터 과학, 인공 지능, 웹 개발 등 다양한 분야에서 사용되고 있습니다. 또한 파이썬은 다양한 라이브러리와 패키지가 있어서 개발 속도를 높이고 효율적으로 프로그램을 개발할 수 있습니다. 이러한 이유들로 인해 파이썬은 많은 개발자들에게 선호되는 언어가 되었습니다."
          ]
        }
      ]
    },
    {
      "cell_type": "code",
      "source": [
        "from langchain.chat_models import AzureChatOpenAI\n",
        "from langchain.schema import AIMessage, HumanMessage, SystemMessage\n",
        "\n",
        "chatgpt = AzureChatOpenAI(deployment_name = 'dev-gpt-35-turbo', temperature=0)\n",
        "\n",
        "messages = [\n",
        "    SystemMessage(\n",
        "        content = 'You are a helpful assistant that translates English to Korean'\n",
        "    ),\n",
        "    HumanMessage(\n",
        "        content = 'I love langchain.'\n",
        "    )\n",
        "]\n",
        "\n",
        "response_langchain = chatgpt(messages)\n",
        "response_langchain.content"
      ],
      "metadata": {
        "colab": {
          "base_uri": "https://localhost:8080/",
          "height": 91
        },
        "id": "AuY2L-uvnlSB",
        "outputId": "0fd101d2-46cd-431b-df02-b04084615523"
      },
      "execution_count": 12,
      "outputs": [
        {
          "output_type": "stream",
          "name": "stderr",
          "text": [
            "/usr/local/lib/python3.10/dist-packages/langchain_core/_api/deprecation.py:117: LangChainDeprecationWarning: The function `__call__` was deprecated in LangChain 0.1.7 and will be removed in 0.2.0. Use invoke instead.\n",
            "  warn_deprecated(\n"
          ]
        },
        {
          "output_type": "execute_result",
          "data": {
            "text/plain": [
              "'저는 랭체인을 좋아합니다.'"
            ],
            "application/vnd.google.colaboratory.intrinsic+json": {
              "type": "string"
            }
          },
          "metadata": {},
          "execution_count": 12
        }
      ]
    },
    {
      "cell_type": "code",
      "source": [
        "chat = AzureChatOpenAI(deployment_name='dev-gpt-35-turbo',\n",
        "                       temperature=1,\n",
        "                       streaming=True,\n",
        "                       callbacks=[StreamingStdOutCallbackHandler()])\n",
        "\n",
        "messages = [\n",
        "    SystemMessage(content='당신은 공부 계획을 세워주는 스터디 플래너 머신입니다. 사용자의 공부 주제를 입력 받으면 이를 학습하기 위한 공부 계획을 작성합니다.'),\n",
        "    HumanMessage(content='Large Language Model에 대해서 공부하고 싶어요')\n",
        "]\n",
        "\n",
        "answer = chat(messages)\n",
        "answer.content"
      ],
      "metadata": {
        "colab": {
          "base_uri": "https://localhost:8080/",
          "height": 539
        },
        "id": "dXnVQlmwo58U",
        "outputId": "40f36267-4262-46ac-f97c-07f2723c5266"
      },
      "execution_count": 15,
      "outputs": [
        {
          "output_type": "stream",
          "name": "stdout",
          "text": [
            "좋습니다! Large Language Model에 대해 공부하기 위한 계획을 세워보겠습니다.\n",
            "\n",
            "1. 배경지식 습득:\n",
            "   - Large Language Model이란 무엇인지, 어떤 원리로 작동하는지에 대한 기본적인 이해를 위해 관련 문헌이나 온라인 자료를 참고합니다.\n",
            "\n",
            "2. 딥러닝 및 자연어 처리 기초 학습:\n",
            "   - Large Language Model을 이해하기 위해 딥러닝 및 자연어 처리에 대한 기초적인 지식을 쌓습니다. 관련 온라인 강의나 책을 활용하여 공부합니다.\n",
            "\n",
            "3. 관련 논문 읽기:\n",
            "   - Large Language Model과 관련된 최신 연구 논문들을 읽고 내용을 숙지합니다. 관련 연구자들의 접근 방식과 발견한 결과에 대해 이해합니다.\n",
            "\n",
            "4. 구현 및 실험:\n",
            "   - Large Language Model에 대한 이론적 이해를 바탕으로 관련된 프로젝트를 직접 구현해보고 실험을 진행합니다. 관련된 오픈소스 프로젝트를 참고하여 실습합니다.\n",
            "\n",
            "5. 토론 및 피드백:\n",
            "   - 온라인 커뮤니티나 학술 모임 등을 활용하여 다른 사람들과 Large Language Model에 대해 토론하고 피드백을 받습니다. 생각을 교환하며 깊이있는 이해를 도모합니다.\n",
            "\n",
            "위의 과정을 통해 Large Language Model에 대한 체계적인 이해와 구체적인 실무 경험을 쌓을 수 있을 것입니다. 언제든지 도움이 필요하시면 물어보세요!"
          ]
        },
        {
          "output_type": "execute_result",
          "data": {
            "text/plain": [
              "'좋습니다! Large Language Model에 대해 공부하기 위한 계획을 세워보겠습니다.\\n\\n1. 배경지식 습득:\\n   - Large Language Model이란 무엇인지, 어떤 원리로 작동하는지에 대한 기본적인 이해를 위해 관련 문헌이나 온라인 자료를 참고합니다.\\n\\n2. 딥러닝 및 자연어 처리 기초 학습:\\n   - Large Language Model을 이해하기 위해 딥러닝 및 자연어 처리에 대한 기초적인 지식을 쌓습니다. 관련 온라인 강의나 책을 활용하여 공부합니다.\\n\\n3. 관련 논문 읽기:\\n   - Large Language Model과 관련된 최신 연구 논문들을 읽고 내용을 숙지합니다. 관련 연구자들의 접근 방식과 발견한 결과에 대해 이해합니다.\\n\\n4. 구현 및 실험:\\n   - Large Language Model에 대한 이론적 이해를 바탕으로 관련된 프로젝트를 직접 구현해보고 실험을 진행합니다. 관련된 오픈소스 프로젝트를 참고하여 실습합니다.\\n\\n5. 토론 및 피드백:\\n   - 온라인 커뮤니티나 학술 모임 등을 활용하여 다른 사람들과 Large Language Model에 대해 토론하고 피드백을 받습니다. 생각을 교환하며 깊이있는 이해를 도모합니다.\\n\\n위의 과정을 통해 Large Language Model에 대한 체계적인 이해와 구체적인 실무 경험을 쌓을 수 있을 것입니다. 언제든지 도움이 필요하시면 물어보세요!'"
            ],
            "application/vnd.google.colaboratory.intrinsic+json": {
              "type": "string"
            }
          },
          "metadata": {},
          "execution_count": 15
        }
      ]
    },
    {
      "cell_type": "code",
      "source": [],
      "metadata": {
        "id": "yA1tgkp0qd-y"
      },
      "execution_count": null,
      "outputs": []
    }
  ]
}