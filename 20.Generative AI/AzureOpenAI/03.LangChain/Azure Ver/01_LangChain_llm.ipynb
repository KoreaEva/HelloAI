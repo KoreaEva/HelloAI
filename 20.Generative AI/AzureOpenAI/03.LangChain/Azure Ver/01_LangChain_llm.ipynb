{
  "nbformat": 4,
  "nbformat_minor": 0,
  "metadata": {
    "colab": {
      "provenance": []
    },
    "kernelspec": {
      "name": "python3",
      "display_name": "Python 3"
    },
    "language_info": {
      "name": "python"
    }
  },
  "cells": [
    {
      "cell_type": "code",
      "execution_count": 4,
      "metadata": {
        "colab": {
          "base_uri": "https://localhost:8080/"
        },
        "id": "uQYceflXlAHC",
        "outputId": "f4d66b14-15fc-4415-e327-486bcb366189"
      },
      "outputs": [
        {
          "output_type": "stream",
          "name": "stdout",
          "text": [
            "Requirement already satisfied: langchain in /usr/local/lib/python3.10/dist-packages (0.2.3)\n",
            "Requirement already satisfied: PyYAML>=5.3 in /usr/local/lib/python3.10/dist-packages (from langchain) (6.0.1)\n",
            "Requirement already satisfied: SQLAlchemy<3,>=1.4 in /usr/local/lib/python3.10/dist-packages (from langchain) (2.0.30)\n",
            "Requirement already satisfied: aiohttp<4.0.0,>=3.8.3 in /usr/local/lib/python3.10/dist-packages (from langchain) (3.9.5)\n",
            "Requirement already satisfied: async-timeout<5.0.0,>=4.0.0 in /usr/local/lib/python3.10/dist-packages (from langchain) (4.0.3)\n",
            "Requirement already satisfied: langchain-core<0.3.0,>=0.2.0 in /usr/local/lib/python3.10/dist-packages (from langchain) (0.2.5)\n",
            "Requirement already satisfied: langchain-text-splitters<0.3.0,>=0.2.0 in /usr/local/lib/python3.10/dist-packages (from langchain) (0.2.1)\n",
            "Requirement already satisfied: langsmith<0.2.0,>=0.1.17 in /usr/local/lib/python3.10/dist-packages (from langchain) (0.1.77)\n",
            "Requirement already satisfied: numpy<2,>=1 in /usr/local/lib/python3.10/dist-packages (from langchain) (1.25.2)\n",
            "Requirement already satisfied: pydantic<3,>=1 in /usr/local/lib/python3.10/dist-packages (from langchain) (2.7.3)\n",
            "Requirement already satisfied: requests<3,>=2 in /usr/local/lib/python3.10/dist-packages (from langchain) (2.31.0)\n",
            "Requirement already satisfied: tenacity<9.0.0,>=8.1.0 in /usr/local/lib/python3.10/dist-packages (from langchain) (8.3.0)\n",
            "Requirement already satisfied: aiosignal>=1.1.2 in /usr/local/lib/python3.10/dist-packages (from aiohttp<4.0.0,>=3.8.3->langchain) (1.3.1)\n",
            "Requirement already satisfied: attrs>=17.3.0 in /usr/local/lib/python3.10/dist-packages (from aiohttp<4.0.0,>=3.8.3->langchain) (23.2.0)\n",
            "Requirement already satisfied: frozenlist>=1.1.1 in /usr/local/lib/python3.10/dist-packages (from aiohttp<4.0.0,>=3.8.3->langchain) (1.4.1)\n",
            "Requirement already satisfied: multidict<7.0,>=4.5 in /usr/local/lib/python3.10/dist-packages (from aiohttp<4.0.0,>=3.8.3->langchain) (6.0.5)\n",
            "Requirement already satisfied: yarl<2.0,>=1.0 in /usr/local/lib/python3.10/dist-packages (from aiohttp<4.0.0,>=3.8.3->langchain) (1.9.4)\n",
            "Requirement already satisfied: jsonpatch<2.0,>=1.33 in /usr/local/lib/python3.10/dist-packages (from langchain-core<0.3.0,>=0.2.0->langchain) (1.33)\n",
            "Requirement already satisfied: packaging<24.0,>=23.2 in /usr/local/lib/python3.10/dist-packages (from langchain-core<0.3.0,>=0.2.0->langchain) (23.2)\n",
            "Requirement already satisfied: orjson<4.0.0,>=3.9.14 in /usr/local/lib/python3.10/dist-packages (from langsmith<0.2.0,>=0.1.17->langchain) (3.10.4)\n",
            "Requirement already satisfied: annotated-types>=0.4.0 in /usr/local/lib/python3.10/dist-packages (from pydantic<3,>=1->langchain) (0.7.0)\n",
            "Requirement already satisfied: pydantic-core==2.18.4 in /usr/local/lib/python3.10/dist-packages (from pydantic<3,>=1->langchain) (2.18.4)\n",
            "Requirement already satisfied: typing-extensions>=4.6.1 in /usr/local/lib/python3.10/dist-packages (from pydantic<3,>=1->langchain) (4.12.1)\n",
            "Requirement already satisfied: charset-normalizer<4,>=2 in /usr/local/lib/python3.10/dist-packages (from requests<3,>=2->langchain) (3.3.2)\n",
            "Requirement already satisfied: idna<4,>=2.5 in /usr/local/lib/python3.10/dist-packages (from requests<3,>=2->langchain) (3.7)\n",
            "Requirement already satisfied: urllib3<3,>=1.21.1 in /usr/local/lib/python3.10/dist-packages (from requests<3,>=2->langchain) (2.0.7)\n",
            "Requirement already satisfied: certifi>=2017.4.17 in /usr/local/lib/python3.10/dist-packages (from requests<3,>=2->langchain) (2024.6.2)\n",
            "Requirement already satisfied: greenlet!=0.4.17 in /usr/local/lib/python3.10/dist-packages (from SQLAlchemy<3,>=1.4->langchain) (3.0.3)\n",
            "Requirement already satisfied: jsonpointer>=1.9 in /usr/local/lib/python3.10/dist-packages (from jsonpatch<2.0,>=1.33->langchain-core<0.3.0,>=0.2.0->langchain) (3.0.0)\n",
            "Requirement already satisfied: openai in /usr/local/lib/python3.10/dist-packages (1.33.0)\n",
            "Requirement already satisfied: anyio<5,>=3.5.0 in /usr/local/lib/python3.10/dist-packages (from openai) (3.7.1)\n",
            "Requirement already satisfied: distro<2,>=1.7.0 in /usr/lib/python3/dist-packages (from openai) (1.7.0)\n",
            "Requirement already satisfied: httpx<1,>=0.23.0 in /usr/local/lib/python3.10/dist-packages (from openai) (0.27.0)\n",
            "Requirement already satisfied: pydantic<3,>=1.9.0 in /usr/local/lib/python3.10/dist-packages (from openai) (2.7.3)\n",
            "Requirement already satisfied: sniffio in /usr/local/lib/python3.10/dist-packages (from openai) (1.3.1)\n",
            "Requirement already satisfied: tqdm>4 in /usr/local/lib/python3.10/dist-packages (from openai) (4.66.4)\n",
            "Requirement already satisfied: typing-extensions<5,>=4.7 in /usr/local/lib/python3.10/dist-packages (from openai) (4.12.1)\n",
            "Requirement already satisfied: idna>=2.8 in /usr/local/lib/python3.10/dist-packages (from anyio<5,>=3.5.0->openai) (3.7)\n",
            "Requirement already satisfied: exceptiongroup in /usr/local/lib/python3.10/dist-packages (from anyio<5,>=3.5.0->openai) (1.2.1)\n",
            "Requirement already satisfied: certifi in /usr/local/lib/python3.10/dist-packages (from httpx<1,>=0.23.0->openai) (2024.6.2)\n",
            "Requirement already satisfied: httpcore==1.* in /usr/local/lib/python3.10/dist-packages (from httpx<1,>=0.23.0->openai) (1.0.5)\n",
            "Requirement already satisfied: h11<0.15,>=0.13 in /usr/local/lib/python3.10/dist-packages (from httpcore==1.*->httpx<1,>=0.23.0->openai) (0.14.0)\n",
            "Requirement already satisfied: annotated-types>=0.4.0 in /usr/local/lib/python3.10/dist-packages (from pydantic<3,>=1.9.0->openai) (0.7.0)\n",
            "Requirement already satisfied: pydantic-core==2.18.4 in /usr/local/lib/python3.10/dist-packages (from pydantic<3,>=1.9.0->openai) (2.18.4)\n",
            "Collecting langchain-community\n",
            "  Downloading langchain_community-0.2.4-py3-none-any.whl (2.2 MB)\n",
            "\u001b[2K     \u001b[90m━━━━━━━━━━━━━━━━━━━━━━━━━━━━━━━━━━━━━━━━\u001b[0m \u001b[32m2.2/2.2 MB\u001b[0m \u001b[31m8.4 MB/s\u001b[0m eta \u001b[36m0:00:00\u001b[0m\n",
            "\u001b[?25hRequirement already satisfied: langchain-core in /usr/local/lib/python3.10/dist-packages (0.2.5)\n",
            "Requirement already satisfied: PyYAML>=5.3 in /usr/local/lib/python3.10/dist-packages (from langchain-community) (6.0.1)\n",
            "Requirement already satisfied: SQLAlchemy<3,>=1.4 in /usr/local/lib/python3.10/dist-packages (from langchain-community) (2.0.30)\n",
            "Requirement already satisfied: aiohttp<4.0.0,>=3.8.3 in /usr/local/lib/python3.10/dist-packages (from langchain-community) (3.9.5)\n",
            "Collecting dataclasses-json<0.7,>=0.5.7 (from langchain-community)\n",
            "  Downloading dataclasses_json-0.6.7-py3-none-any.whl (28 kB)\n",
            "Requirement already satisfied: langchain<0.3.0,>=0.2.0 in /usr/local/lib/python3.10/dist-packages (from langchain-community) (0.2.3)\n",
            "Requirement already satisfied: langsmith<0.2.0,>=0.1.0 in /usr/local/lib/python3.10/dist-packages (from langchain-community) (0.1.77)\n",
            "Requirement already satisfied: numpy<2,>=1 in /usr/local/lib/python3.10/dist-packages (from langchain-community) (1.25.2)\n",
            "Requirement already satisfied: requests<3,>=2 in /usr/local/lib/python3.10/dist-packages (from langchain-community) (2.31.0)\n",
            "Requirement already satisfied: tenacity<9.0.0,>=8.1.0 in /usr/local/lib/python3.10/dist-packages (from langchain-community) (8.3.0)\n",
            "Requirement already satisfied: jsonpatch<2.0,>=1.33 in /usr/local/lib/python3.10/dist-packages (from langchain-core) (1.33)\n",
            "Requirement already satisfied: packaging<24.0,>=23.2 in /usr/local/lib/python3.10/dist-packages (from langchain-core) (23.2)\n",
            "Requirement already satisfied: pydantic<3,>=1 in /usr/local/lib/python3.10/dist-packages (from langchain-core) (2.7.3)\n",
            "Requirement already satisfied: aiosignal>=1.1.2 in /usr/local/lib/python3.10/dist-packages (from aiohttp<4.0.0,>=3.8.3->langchain-community) (1.3.1)\n",
            "Requirement already satisfied: attrs>=17.3.0 in /usr/local/lib/python3.10/dist-packages (from aiohttp<4.0.0,>=3.8.3->langchain-community) (23.2.0)\n",
            "Requirement already satisfied: frozenlist>=1.1.1 in /usr/local/lib/python3.10/dist-packages (from aiohttp<4.0.0,>=3.8.3->langchain-community) (1.4.1)\n",
            "Requirement already satisfied: multidict<7.0,>=4.5 in /usr/local/lib/python3.10/dist-packages (from aiohttp<4.0.0,>=3.8.3->langchain-community) (6.0.5)\n",
            "Requirement already satisfied: yarl<2.0,>=1.0 in /usr/local/lib/python3.10/dist-packages (from aiohttp<4.0.0,>=3.8.3->langchain-community) (1.9.4)\n",
            "Requirement already satisfied: async-timeout<5.0,>=4.0 in /usr/local/lib/python3.10/dist-packages (from aiohttp<4.0.0,>=3.8.3->langchain-community) (4.0.3)\n",
            "Collecting marshmallow<4.0.0,>=3.18.0 (from dataclasses-json<0.7,>=0.5.7->langchain-community)\n",
            "  Downloading marshmallow-3.21.3-py3-none-any.whl (49 kB)\n",
            "\u001b[2K     \u001b[90m━━━━━━━━━━━━━━━━━━━━━━━━━━━━━━━━━━━━━━━━\u001b[0m \u001b[32m49.2/49.2 kB\u001b[0m \u001b[31m6.3 MB/s\u001b[0m eta \u001b[36m0:00:00\u001b[0m\n",
            "\u001b[?25hCollecting typing-inspect<1,>=0.4.0 (from dataclasses-json<0.7,>=0.5.7->langchain-community)\n",
            "  Downloading typing_inspect-0.9.0-py3-none-any.whl (8.8 kB)\n",
            "Requirement already satisfied: jsonpointer>=1.9 in /usr/local/lib/python3.10/dist-packages (from jsonpatch<2.0,>=1.33->langchain-core) (3.0.0)\n",
            "Requirement already satisfied: langchain-text-splitters<0.3.0,>=0.2.0 in /usr/local/lib/python3.10/dist-packages (from langchain<0.3.0,>=0.2.0->langchain-community) (0.2.1)\n",
            "Requirement already satisfied: orjson<4.0.0,>=3.9.14 in /usr/local/lib/python3.10/dist-packages (from langsmith<0.2.0,>=0.1.0->langchain-community) (3.10.4)\n",
            "Requirement already satisfied: annotated-types>=0.4.0 in /usr/local/lib/python3.10/dist-packages (from pydantic<3,>=1->langchain-core) (0.7.0)\n",
            "Requirement already satisfied: pydantic-core==2.18.4 in /usr/local/lib/python3.10/dist-packages (from pydantic<3,>=1->langchain-core) (2.18.4)\n",
            "Requirement already satisfied: typing-extensions>=4.6.1 in /usr/local/lib/python3.10/dist-packages (from pydantic<3,>=1->langchain-core) (4.12.1)\n",
            "Requirement already satisfied: charset-normalizer<4,>=2 in /usr/local/lib/python3.10/dist-packages (from requests<3,>=2->langchain-community) (3.3.2)\n",
            "Requirement already satisfied: idna<4,>=2.5 in /usr/local/lib/python3.10/dist-packages (from requests<3,>=2->langchain-community) (3.7)\n",
            "Requirement already satisfied: urllib3<3,>=1.21.1 in /usr/local/lib/python3.10/dist-packages (from requests<3,>=2->langchain-community) (2.0.7)\n",
            "Requirement already satisfied: certifi>=2017.4.17 in /usr/local/lib/python3.10/dist-packages (from requests<3,>=2->langchain-community) (2024.6.2)\n",
            "Requirement already satisfied: greenlet!=0.4.17 in /usr/local/lib/python3.10/dist-packages (from SQLAlchemy<3,>=1.4->langchain-community) (3.0.3)\n",
            "Collecting mypy-extensions>=0.3.0 (from typing-inspect<1,>=0.4.0->dataclasses-json<0.7,>=0.5.7->langchain-community)\n",
            "  Downloading mypy_extensions-1.0.0-py3-none-any.whl (4.7 kB)\n",
            "Installing collected packages: mypy-extensions, marshmallow, typing-inspect, dataclasses-json, langchain-community\n",
            "Successfully installed dataclasses-json-0.6.7 langchain-community-0.2.4 marshmallow-3.21.3 mypy-extensions-1.0.0 typing-inspect-0.9.0\n"
          ]
        }
      ],
      "source": [
        "!pip install langchain\n",
        "!pip install openai\n",
        "!pip install langchain-community langchain-core"
      ]
    },
    {
      "cell_type": "code",
      "source": [
        "import os\n",
        "\n",
        "os.environ['OPENAI_API_KEY'] = 'e835aefd70124e6b80915bb4d2a722c8'\n",
        "os.environ['OPENAI_API_TYPE'] = 'azure'\n",
        "os.environ['AZURE_OPENAI_ENDPOINT'] = 'https://llmlab-openai-001.openai.azure.com/'\n",
        "os.environ['OPENAI_API_VERSION'] = '2023-05-15'"
      ],
      "metadata": {
        "id": "695iuOvtlJ4V"
      },
      "execution_count": 5,
      "outputs": []
    },
    {
      "cell_type": "code",
      "source": [
        "from langchain.llms import AzureOpenAI\n",
        "llm = AzureOpenAI(\n",
        "    deployment_name=\"dev-davinci-002\",\n",
        ")\n",
        "llm.invoke('why python is the most popular language? answer the Korean.')"
      ],
      "metadata": {
        "colab": {
          "base_uri": "https://localhost:8080/",
          "height": 177
        },
        "id": "fYKIXHTMlmsL",
        "outputId": "f192549c-16a5-46af-fe22-ac7b8223ee65"
      },
      "execution_count": 6,
      "outputs": [
        {
          "output_type": "stream",
          "name": "stderr",
          "text": [
            "/usr/local/lib/python3.10/dist-packages/langchain_core/_api/deprecation.py:119: LangChainDeprecationWarning: The class `AzureOpenAI` was deprecated in LangChain 0.0.10 and will be removed in 0.3.0. An updated version of the class exists in the langchain-openai package and should be used instead. To use it run `pip install -U langchain-openai` and import as `from langchain_openai import AzureOpenAI`.\n",
            "  warn_deprecated(\n"
          ]
        },
        {
          "output_type": "execute_result",
          "data": {
            "text/plain": [
              "' Indian people are also using Korean language because of its popularity.\\n\\nHow to learn Korean?\\n\\n1. First of all, you have to use a book to learn Korean. If you have a friend who knows Korean, it will be easy for you to learn Korean.\\n\\n2. You can also watch Korean movies and videos. There are many Korean movies on the internet. You can learn Korean quickly by watching Korean movies.\\n\\n3. You can also learn Korean by listening to Korean music. There are many Korean songs on the internet. You can learn Korean quickly by listening to Korean songs.\\n\\n4. You can also learn Korean by reading online articles. There are many Korean articles on the internet. You can learn Korean quickly by reading Korean articles.\\n\\n5. You can also learn Korean by watching Korean TV shows. There are many Korean TV shows on the internet. You can learn Korean quickly by watching Korean TV shows.\\n\\n6. You can also learn Korean by writing Korean letters. There are many Korean letters on the internet. You can learn Korean quickly by writing Korean letters.\\n\\n7. You can also learn Korean by reading Korean novels. There are many Korean novels on the internet. You can learn Korean quickly by reading Korean novels.\\n\\n8. You can also learn Korean by speaking Korean. There are many'"
            ],
            "application/vnd.google.colaboratory.intrinsic+json": {
              "type": "string"
            }
          },
          "metadata": {},
          "execution_count": 6
        }
      ]
    },
    {
      "cell_type": "code",
      "source": [
        "from langchain.chat_models import AzureChatOpenAI\n",
        "\n",
        "chatgpt = AzureChatOpenAI(azure_deployment='dev-gpt-35-turbo')\n",
        "answer = chatgpt.invoke('why python is the most popular language? answer the Korean')\n",
        "print(answer)"
      ],
      "metadata": {
        "colab": {
          "base_uri": "https://localhost:8080/"
        },
        "id": "YNGhjvMymHq_",
        "outputId": "ae03c554-f2dd-401b-b142-823a01e62ee4"
      },
      "execution_count": 7,
      "outputs": [
        {
          "output_type": "stream",
          "name": "stderr",
          "text": [
            "/usr/local/lib/python3.10/dist-packages/langchain_core/_api/deprecation.py:119: LangChainDeprecationWarning: The class `AzureChatOpenAI` was deprecated in LangChain 0.0.10 and will be removed in 0.3.0. An updated version of the class exists in the langchain-openai package and should be used instead. To use it run `pip install -U langchain-openai` and import as `from langchain_openai import AzureChatOpenAI`.\n",
            "  warn_deprecated(\n"
          ]
        },
        {
          "output_type": "stream",
          "name": "stdout",
          "text": [
            "content='파이썬은 현재 가장 인기 있는 프로그래밍 언어 중 하나입니다. 이는 많은 이유로 설명될 수 있습니다.\\n\\n첫째, 파이썬은 문법이 간단하고 가독성이 높아 초보자들이 쉽게 배울 수 있습니다. 이로 인해 프로그래밍에 대한 진입 장벽이 낮아지고, 많은 사람들이 파이썬을 접근하게 되었습니다.\\n\\n둘째, 파이썬은 다양한 분야에서 사용될 수 있는 범용 프로그래밍 언어입니다. 데이터 분석, 인공지능, 웹 개발, 자동화 등 여러 분야에서 파이썬을 활용할 수 있으며, 이는 파이썬의 인기를 높이는 요인 중 하나입니다.\\n\\n셋째, 파이썬은 오픈 소스 언어이기 때문에 무료로 사용할 수 있으며, 개발자들 사이에서 커뮤니티가 활발하게 형성되어 있습니다. 이를 통해 다른 개발자들과의 지식 공유, 개발 도움을 받을 수 있으며, 파이썬의 발전과 확장에 기여할 수 있습니다.\\n\\n넷째, 파이썬은 다른 언어들과의 통합성이 뛰어나며, C, C++, Java 등의 언어와도 호환성이 좋습니다. 이는 기존의 코드를 재사용하거나 다른 언어와의 협업을 용이하게 만들어줍니다.\\n\\n마지막으로, 파이썬은 대규모 프로젝트에도 적용 가능한 확장성을 가지고 있습니다. 이는 파이썬을 사용하는 기업들에게도 매력적인 이유 중 하나입니다.\\n\\n이러한 이유로 인해 파이썬은 현재 가장 인기 있는 프로그래밍 언어 중 하나이며, 더욱 많은 사람들이 파이썬을 선택하고 사용하게 되었습니다.' response_metadata={'token_usage': {'completion_tokens': 596, 'prompt_tokens': 18, 'total_tokens': 614}, 'model_name': 'gpt-35-turbo', 'system_fingerprint': None, 'finish_reason': 'stop', 'logprobs': None} id='run-fa160628-2bf5-4dce-a48f-bf1254996768-0'\n"
          ]
        }
      ]
    },
    {
      "cell_type": "code",
      "source": [
        "chatgpt = AzureChatOpenAI(deployment_name='dev-gpt-35-turbo', temperature=0)\n",
        "answer = chatgpt.invoke('why python is the most popular language? answer the Korean')\n",
        "print(answer)"
      ],
      "metadata": {
        "colab": {
          "base_uri": "https://localhost:8080/"
        },
        "id": "azB1opogmr0V",
        "outputId": "7a155b29-0c71-4192-b6f2-fc7dc5fc311f"
      },
      "execution_count": 8,
      "outputs": [
        {
          "output_type": "stream",
          "name": "stdout",
          "text": [
            "content='파이썬은 현재 가장 인기 있는 프로그래밍 언어 중 하나입니다. 이는 다양한 이유로 설명될 수 있습니다.\\n\\n첫째, 파이썬은 배우기 쉽고 읽기 쉬운 문법을 가지고 있습니다. 이 언어는 사람이 이해하기 쉽도록 설계되었기 때문에 프로그래밍 초보자들도 쉽게 접근할 수 있습니다. 또한 파이썬은 간결한 문법을 가지고 있어 코드를 작성하고 이해하기 쉽습니다.\\n\\n둘째, 파이썬은 다양한 용도로 사용될 수 있습니다. 데이터 분석, 인공지능, 웹 개발, 자동화 등 다양한 분야에서 파이썬을 사용할 수 있습니다. 이러한 다양성은 파이썬을 많은 사람들이 선택하는 이유 중 하나입니다.\\n\\n셋째, 파이썬은 강력한 개발 도구와 라이브러리 생태계를 가지고 있습니다. 파이썬은 다양한 라이브러리와 프레임워크를 제공하여 개발자들이 효율적으로 작업할 수 있도록 도와줍니다. 또한 파이썬은 개발 생산성을 높이기 위한 다양한 도구들을 제공하고 있습니다.\\n\\n마지막으로, 파이썬은 커뮤니티와 생태계가 활발하게 운영되고 있습니다. 파이썬은 개방적이고 활발한 커뮤니티를 가지고 있어 다른 개발자들과의 협업이 쉽습니다. 또한 파이썬은 오픈 소스 프로젝트로 많이 개발되고 있어 다양한 도구와 라이브러리를 공유하고 사용할 수 있습니다.\\n\\n이러한 이유들로 인해 파이썬은 현재 가장 인기 있는 프로그래밍 언어 중 하나입니다.' response_metadata={'token_usage': {'completion_tokens': 592, 'prompt_tokens': 18, 'total_tokens': 610}, 'model_name': 'gpt-35-turbo', 'system_fingerprint': None, 'finish_reason': 'stop', 'logprobs': None} id='run-1f5789a3-4d43-49bb-b566-7e7c74ed6e7c-0'\n"
          ]
        }
      ]
    },
    {
      "cell_type": "code",
      "source": [
        "chatgpt = AzureChatOpenAI(deployment_name='dev-gpt-35-turbo', temperature=1)\n",
        "answer = chatgpt.invoke('why python is the most popular language? answer the Korean')\n",
        "print(answer)"
      ],
      "metadata": {
        "colab": {
          "base_uri": "https://localhost:8080/"
        },
        "id": "QIuyP_ojnBJS",
        "outputId": "0c96c602-eaeb-45df-d830-d356cdb87a70"
      },
      "execution_count": 9,
      "outputs": [
        {
          "output_type": "stream",
          "name": "stdout",
          "text": [
            "content='파이썬은 다양한 이유로 인해 가장 인기있는 프로그래밍 언어 중 하나입니다.\\n\\n첫째로, 파이썬은 배우기 쉽고 읽기 쉬운 문법을 갖추고 있기 때문에 많은 사람들이 파이썬을 선택합니다. 이는 프로그래밍을 처음 시작하는 사람들에게 특히 유용하며, 빠르게 개발을 시작할 수 있도록 도와줍니다.\\n\\n둘째로, 파이썬은 다양한 용도로 사용될 수 있는 범용 프로그래밍 언어입니다. 데이터 분석, 인공지능, 웹 개발, 게임 개발 등 다양한 분야에서 사용될 수 있기 때문에 많은 사람들이 파이썬을 선택하고 있습니다.\\n\\n셋째로, 파이썬은 개발 생산성이 높은 언어입니다. 간결한 문법과 다양한 기능을 제공하여 개발 시간을 단축시킬 수 있습니다. 또한, 오픈 소스 라이브러리와 풍부한 생태계가 존재하여 개발자들이 더 쉽게 코드를 작성할 수 있습니다.\\n\\n넷째로, 파이썬은 커뮤니티가 활발하고 지속적으로 발전하고 있습니다. 파이썬 개발자들은 다양한 정보와 도움을 얻을 수 있는 온라인 커뮤니티가 많으며, 지속적인 업데이트와 개선이 이루어지고 있어 더 나은 언어로 발전할 수 있도록 노력하고 있습니다.\\n\\n이러한 이유로 인해 파이썬은 많은 사람들이 선택하는 인기 있는 언어가 되었습니다.' response_metadata={'token_usage': {'completion_tokens': 533, 'prompt_tokens': 18, 'total_tokens': 551}, 'model_name': 'gpt-35-turbo', 'system_fingerprint': None, 'finish_reason': 'stop', 'logprobs': None} id='run-00e52e56-0d6b-41a4-a62e-3b5a08f22418-0'\n"
          ]
        }
      ]
    },
    {
      "cell_type": "code",
      "source": [
        "from langchain.callbacks.streaming_stdout import StreamingStdOutCallbackHandler\n",
        "chatgpt = AzureChatOpenAI(deployment_name='dev-gpt-35-turbo', temperature=1, streaming=True, callbacks=[StreamingStdOutCallbackHandler()])\n",
        "answer = chatgpt.invoke('why python is the most popular language? answer the Korean')\n",
        "#print(answer)"
      ],
      "metadata": {
        "colab": {
          "base_uri": "https://localhost:8080/"
        },
        "id": "3rMiUug6nI8_",
        "outputId": "01dd05ac-6e30-44d3-ca43-1ec33dd9e806"
      },
      "execution_count": 10,
      "outputs": [
        {
          "output_type": "stream",
          "name": "stdout",
          "text": [
            "파이썬은 현재 가장 인기 있는 프로그래밍 언어 중 하나입니다. 이는 여러 가지 이유로 설명될 수 있습니다.\n",
            "\n",
            "1. 쉬운 문법: 파이썬은 읽기 쉽고 이해하기 쉬운 문법을 가지고 있어 초보자에게도 적합한 언어입니다. 간결한 구문과 함께 들여쓰기로 코드의 블록 구조를 명확하게 표현할 수 있습니다.\n",
            "\n",
            "2. 다양한 용도: 파이썬은 다양한 분야에서 사용될 수 있습니다. 데이터 분석, 웹 개발, 인공지능, 과학 연구 등 다양한 분야에서 널리 사용되고 있습니다. 또한 모듈과 패키지의 풍부한 라이브러리 생태계로 인해 다양한 작업을 효율적으로 처리할 수 있습니다.\n",
            "\n",
            "3. 커뮤니티 및 지원: 파이썬은 활발한 개발자 커뮤니티와 풍부한 온라인 자료가 있어 학습과 문제 해결에 도움이 됩니다. 파이썬의 유연성과 확장성은 개발자들이 원하는 기능을 구현하기 쉽게 도와줍니다.\n",
            "\n",
            "4. 높은 생산성: 파이썬은 코드를 작성하는 데 드는 시간을 줄여주는 많은 기능을 제공합니다. 객체 지향 프로그래밍과 함수형 프로그래밍을 모두 지원하기 때문에 재사용성이 높습니다. 또한 동적 타이핑으로 인해 타입 선언에 대한 부담이 적어 생산성을 높일 수 있습니다.\n",
            "\n",
            "5. 크로스 플랫폼 호환성: 파이썬은 여러 운영 체제에서 동작하도록 설계되었습니다. 이는 하나의 코드가 여러 플랫폼에서 동작할 수 있으며 개발 및 유지보수 비용을 줄여줍니다.\n",
            "\n",
            "6. 대학과 교육: 파이썬은 많은 교육기관에서 프로그래밍 언어로 채택되었습니다. 학생들이 프로그래밍을 배우고 이해하기 쉬운 언어로서 파이썬은 프로그래밍 학습에 매우 적합합니다.\n",
            "\n",
            "이러한 이유들로 인해 파이썬은 많은 사람들에게 인기 있는 언어가 되었으며 계속해서 성장하고 있습니다."
          ]
        }
      ]
    },
    {
      "cell_type": "code",
      "source": [
        "from langchain.chat_models import AzureChatOpenAI\n",
        "from langchain.schema import AIMessage, HumanMessage, SystemMessage\n",
        "\n",
        "chatgpt = AzureChatOpenAI(deployment_name = 'dev-gpt-35-turbo', temperature=0)\n",
        "\n",
        "messages = [\n",
        "    SystemMessage(\n",
        "        content = 'You are a helpful assistant that translates English to Korean'\n",
        "    ),\n",
        "    HumanMessage(\n",
        "        content = 'I love langchain.'\n",
        "    )\n",
        "]\n",
        "\n",
        "response_langchain = chatgpt(messages)\n",
        "response_langchain.content"
      ],
      "metadata": {
        "colab": {
          "base_uri": "https://localhost:8080/",
          "height": 90
        },
        "id": "AuY2L-uvnlSB",
        "outputId": "3e49a474-bb16-4b5e-efcd-db5fc1f7b9aa"
      },
      "execution_count": 11,
      "outputs": [
        {
          "output_type": "stream",
          "name": "stderr",
          "text": [
            "/usr/local/lib/python3.10/dist-packages/langchain_core/_api/deprecation.py:119: LangChainDeprecationWarning: The method `BaseChatModel.__call__` was deprecated in langchain-core 0.1.7 and will be removed in 0.3.0. Use invoke instead.\n",
            "  warn_deprecated(\n"
          ]
        },
        {
          "output_type": "execute_result",
          "data": {
            "text/plain": [
              "'저는 랭체인을 사랑합니다.'"
            ],
            "application/vnd.google.colaboratory.intrinsic+json": {
              "type": "string"
            }
          },
          "metadata": {},
          "execution_count": 11
        }
      ]
    },
    {
      "cell_type": "code",
      "source": [
        "chat = AzureChatOpenAI(deployment_name='dev-gpt-35-turbo',\n",
        "                       temperature=1,\n",
        "                       streaming=True,\n",
        "                       callbacks=[StreamingStdOutCallbackHandler()])\n",
        "\n",
        "messages = [\n",
        "    SystemMessage(content='당신은 공부 계획을 세워주는 스터디 플래너 머신입니다. 사용자의 공부 주제를 입력 받으면 이를 학습하기 위한 공부 계획을 작성합니다.'),\n",
        "    HumanMessage(content='Large Language Model에 대해서 공부하고 싶어요')\n",
        "]\n",
        "\n",
        "answer = chat(messages)\n",
        "answer.content"
      ],
      "metadata": {
        "colab": {
          "base_uri": "https://localhost:8080/",
          "height": 559
        },
        "id": "dXnVQlmwo58U",
        "outputId": "ee7af16a-5bf5-4294-9761-edbe7883fa9f"
      },
      "execution_count": 12,
      "outputs": [
        {
          "output_type": "stream",
          "name": "stdout",
          "text": [
            "고급 언어 모델(Large Language Model)에 대해 공부하기 위한 계획을 작성해 드리겠습니다. 다음의 단계를 따라 진행해보세요:\n",
            "\n",
            "1. 개요 및 기본 개념 이해:\n",
            "   - 고급 언어 모델이란 무엇인지, 어떤 기능을 수행하는지에 대해 이해하세요. 대표적인 고급 언어 모델로 GPT-3 등을 살펴볼 수 있습니다.\n",
            "\n",
            "2. 관련 논문과 자료 조사:\n",
            "   - OpenAI에서 발표한 논문과 참고 자료를 찾아보세요. 고급 언어 모델의 구조, 학습 방법, 적용 분야 등을 자세히 살펴보면 도움이 될 것입니다.\n",
            "\n",
            "3. 실제 동작 및 응용 프로그램 탐구:\n",
            "   - 실제로 고급 언어 모델이 어떻게 동작하는지 이해하기 위해 예시 및 응용 프로그램을 탐구해보세요. 대표적인 응용 분야로 기계 번역, 자동 요약, 질의응답 시스템 등이 있습니다.\n",
            "\n",
            "4. 모델 구현 및 실험:\n",
            "   - 고급 언어 모델을 직접 구현해보고, 실제 데이터를 활용하여 실험을 해보세요. 필요한 경우 Python과 딥 러닝 프레임워크(예: TensorFlow, PyTorch)를 사용하여 모델을 구현할 수 있습니다.\n",
            "\n",
            "5. 소셜 미디어 및 연구 플랫폼 참여:\n",
            "   - 관련된 소셜 미디어 커뮤니티나 연구 플랫폼에 참여하여 최신 동향과 다른 사람들의 의견을 공유하고 토론할 수 있습니다. 예를 들어, Reddit의 r/MachineLearning, Kaggle 등을 활용해보세요.\n",
            "\n",
            "6. 발표 및 공유:\n",
            "   - 공부한 내용을 정리하여 발표 자료나 블로그 포스트로 만들어 다른 사람들과 공유하세요. 이를 통해 자신의 이해를 확인하고 다른 사람들과 의견을 공유하면서 더 깊은 학습을 할 수 있습니다.\n",
            "\n",
            "위 계획을 참고하여 고급 언어 모델에 대한 공부를 진행해보세요. 계획을 조정하거나 세부 단계를 추가하면서 개인적인 공부 스타일에 맞게 활용해보세요. 성취감과 함께 지속적인 노력을 통해 공부를 이어나가시기를 바랍니다!"
          ]
        },
        {
          "output_type": "execute_result",
          "data": {
            "text/plain": [
              "'고급 언어 모델(Large Language Model)에 대해 공부하기 위한 계획을 작성해 드리겠습니다. 다음의 단계를 따라 진행해보세요:\\n\\n1. 개요 및 기본 개념 이해:\\n   - 고급 언어 모델이란 무엇인지, 어떤 기능을 수행하는지에 대해 이해하세요. 대표적인 고급 언어 모델로 GPT-3 등을 살펴볼 수 있습니다.\\n\\n2. 관련 논문과 자료 조사:\\n   - OpenAI에서 발표한 논문과 참고 자료를 찾아보세요. 고급 언어 모델의 구조, 학습 방법, 적용 분야 등을 자세히 살펴보면 도움이 될 것입니다.\\n\\n3. 실제 동작 및 응용 프로그램 탐구:\\n   - 실제로 고급 언어 모델이 어떻게 동작하는지 이해하기 위해 예시 및 응용 프로그램을 탐구해보세요. 대표적인 응용 분야로 기계 번역, 자동 요약, 질의응답 시스템 등이 있습니다.\\n\\n4. 모델 구현 및 실험:\\n   - 고급 언어 모델을 직접 구현해보고, 실제 데이터를 활용하여 실험을 해보세요. 필요한 경우 Python과 딥 러닝 프레임워크(예: TensorFlow, PyTorch)를 사용하여 모델을 구현할 수 있습니다.\\n\\n5. 소셜 미디어 및 연구 플랫폼 참여:\\n   - 관련된 소셜 미디어 커뮤니티나 연구 플랫폼에 참여하여 최신 동향과 다른 사람들의 의견을 공유하고 토론할 수 있습니다. 예를 들어, Reddit의 r/MachineLearning, Kaggle 등을 활용해보세요.\\n\\n6. 발표 및 공유:\\n   - 공부한 내용을 정리하여 발표 자료나 블로그 포스트로 만들어 다른 사람들과 공유하세요. 이를 통해 자신의 이해를 확인하고 다른 사람들과 의견을 공유하면서 더 깊은 학습을 할 수 있습니다.\\n\\n위 계획을 참고하여 고급 언어 모델에 대한 공부를 진행해보세요. 계획을 조정하거나 세부 단계를 추가하면서 개인적인 공부 스타일에 맞게 활용해보세요. 성취감과 함께 지속적인 노력을 통해 공부를 이어나가시기를 바랍니다!'"
            ],
            "application/vnd.google.colaboratory.intrinsic+json": {
              "type": "string"
            }
          },
          "metadata": {},
          "execution_count": 12
        }
      ]
    },
    {
      "cell_type": "code",
      "source": [],
      "metadata": {
        "id": "yA1tgkp0qd-y"
      },
      "execution_count": null,
      "outputs": []
    }
  ]
}