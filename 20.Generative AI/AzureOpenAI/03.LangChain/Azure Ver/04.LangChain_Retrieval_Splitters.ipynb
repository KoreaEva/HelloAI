{
  "nbformat": 4,
  "nbformat_minor": 0,
  "metadata": {
    "colab": {
      "provenance": []
    },
    "kernelspec": {
      "name": "python3",
      "display_name": "Python 3"
    },
    "language_info": {
      "name": "python"
    }
  },
  "cells": [
    {
      "cell_type": "code",
      "execution_count": 1,
      "metadata": {
        "id": "HTymHVazvloK"
      },
      "outputs": [],
      "source": [
        "with open('/content/generative ai.txt') as f:\n",
        "  text_gen_ai = f.read()"
      ]
    },
    {
      "cell_type": "code",
      "source": [
        "!pip install langchain pypdf"
      ],
      "metadata": {
        "colab": {
          "base_uri": "https://localhost:8080/"
        },
        "id": "SyTSW5Ra3TNp",
        "outputId": "b8aaebcf-f75a-41fa-9646-31754a172a4c"
      },
      "execution_count": 2,
      "outputs": [
        {
          "output_type": "stream",
          "name": "stdout",
          "text": [
            "Collecting langchain\n",
            "  Downloading langchain-0.0.350-py3-none-any.whl (809 kB)\n",
            "\u001b[?25l     \u001b[90m━━━━━━━━━━━━━━━━━━━━━━━━━━━━━━━━━━━━━━━━\u001b[0m \u001b[32m0.0/809.1 kB\u001b[0m \u001b[31m?\u001b[0m eta \u001b[36m-:--:--\u001b[0m\r\u001b[2K     \u001b[91m━━━\u001b[0m\u001b[91m╸\u001b[0m\u001b[90m━━━━━━━━━━━━━━━━━━━━━━━━━━━━━━━━━━━━\u001b[0m \u001b[32m71.7/809.1 kB\u001b[0m \u001b[31m2.0 MB/s\u001b[0m eta \u001b[36m0:00:01\u001b[0m\r\u001b[2K     \u001b[91m━━━━━━━━━━━━━━━━━━━━━━━━━━━━━━━━━━━━━━━\u001b[0m\u001b[91m╸\u001b[0m \u001b[32m809.0/809.1 kB\u001b[0m \u001b[31m13.4 MB/s\u001b[0m eta \u001b[36m0:00:01\u001b[0m\r\u001b[2K     \u001b[90m━━━━━━━━━━━━━━━━━━━━━━━━━━━━━━━━━━━━━━━━\u001b[0m \u001b[32m809.1/809.1 kB\u001b[0m \u001b[31m11.1 MB/s\u001b[0m eta \u001b[36m0:00:00\u001b[0m\n",
            "\u001b[?25hCollecting pypdf\n",
            "  Downloading pypdf-3.17.2-py3-none-any.whl (277 kB)\n",
            "\u001b[2K     \u001b[90m━━━━━━━━━━━━━━━━━━━━━━━━━━━━━━━━━━━━━━━━\u001b[0m \u001b[32m277.9/277.9 kB\u001b[0m \u001b[31m27.4 MB/s\u001b[0m eta \u001b[36m0:00:00\u001b[0m\n",
            "\u001b[?25hRequirement already satisfied: PyYAML>=5.3 in /usr/local/lib/python3.10/dist-packages (from langchain) (6.0.1)\n",
            "Requirement already satisfied: SQLAlchemy<3,>=1.4 in /usr/local/lib/python3.10/dist-packages (from langchain) (2.0.23)\n",
            "Requirement already satisfied: aiohttp<4.0.0,>=3.8.3 in /usr/local/lib/python3.10/dist-packages (from langchain) (3.9.1)\n",
            "Requirement already satisfied: async-timeout<5.0.0,>=4.0.0 in /usr/local/lib/python3.10/dist-packages (from langchain) (4.0.3)\n",
            "Collecting dataclasses-json<0.7,>=0.5.7 (from langchain)\n",
            "  Downloading dataclasses_json-0.6.3-py3-none-any.whl (28 kB)\n",
            "Collecting jsonpatch<2.0,>=1.33 (from langchain)\n",
            "  Downloading jsonpatch-1.33-py2.py3-none-any.whl (12 kB)\n",
            "Collecting langchain-community<0.1,>=0.0.2 (from langchain)\n",
            "  Downloading langchain_community-0.0.2-py3-none-any.whl (1.5 MB)\n",
            "\u001b[2K     \u001b[90m━━━━━━━━━━━━━━━━━━━━━━━━━━━━━━━━━━━━━━━━\u001b[0m \u001b[32m1.5/1.5 MB\u001b[0m \u001b[31m80.0 MB/s\u001b[0m eta \u001b[36m0:00:00\u001b[0m\n",
            "\u001b[?25hCollecting langchain-core<0.2,>=0.1 (from langchain)\n",
            "  Downloading langchain_core-0.1.0-py3-none-any.whl (189 kB)\n",
            "\u001b[2K     \u001b[90m━━━━━━━━━━━━━━━━━━━━━━━━━━━━━━━━━━━━━━━━\u001b[0m \u001b[32m189.1/189.1 kB\u001b[0m \u001b[31m22.6 MB/s\u001b[0m eta \u001b[36m0:00:00\u001b[0m\n",
            "\u001b[?25hCollecting langsmith<0.1.0,>=0.0.63 (from langchain)\n",
            "  Downloading langsmith-0.0.69-py3-none-any.whl (48 kB)\n",
            "\u001b[2K     \u001b[90m━━━━━━━━━━━━━━━━━━━━━━━━━━━━━━━━━━━━━━━━\u001b[0m \u001b[32m48.2/48.2 kB\u001b[0m \u001b[31m6.8 MB/s\u001b[0m eta \u001b[36m0:00:00\u001b[0m\n",
            "\u001b[?25hRequirement already satisfied: numpy<2,>=1 in /usr/local/lib/python3.10/dist-packages (from langchain) (1.23.5)\n",
            "Requirement already satisfied: pydantic<3,>=1 in /usr/local/lib/python3.10/dist-packages (from langchain) (1.10.13)\n",
            "Requirement already satisfied: requests<3,>=2 in /usr/local/lib/python3.10/dist-packages (from langchain) (2.31.0)\n",
            "Requirement already satisfied: tenacity<9.0.0,>=8.1.0 in /usr/local/lib/python3.10/dist-packages (from langchain) (8.2.3)\n",
            "Requirement already satisfied: attrs>=17.3.0 in /usr/local/lib/python3.10/dist-packages (from aiohttp<4.0.0,>=3.8.3->langchain) (23.1.0)\n",
            "Requirement already satisfied: multidict<7.0,>=4.5 in /usr/local/lib/python3.10/dist-packages (from aiohttp<4.0.0,>=3.8.3->langchain) (6.0.4)\n",
            "Requirement already satisfied: yarl<2.0,>=1.0 in /usr/local/lib/python3.10/dist-packages (from aiohttp<4.0.0,>=3.8.3->langchain) (1.9.3)\n",
            "Requirement already satisfied: frozenlist>=1.1.1 in /usr/local/lib/python3.10/dist-packages (from aiohttp<4.0.0,>=3.8.3->langchain) (1.4.0)\n",
            "Requirement already satisfied: aiosignal>=1.1.2 in /usr/local/lib/python3.10/dist-packages (from aiohttp<4.0.0,>=3.8.3->langchain) (1.3.1)\n",
            "Collecting marshmallow<4.0.0,>=3.18.0 (from dataclasses-json<0.7,>=0.5.7->langchain)\n",
            "  Downloading marshmallow-3.20.1-py3-none-any.whl (49 kB)\n",
            "\u001b[2K     \u001b[90m━━━━━━━━━━━━━━━━━━━━━━━━━━━━━━━━━━━━━━━━\u001b[0m \u001b[32m49.4/49.4 kB\u001b[0m \u001b[31m6.7 MB/s\u001b[0m eta \u001b[36m0:00:00\u001b[0m\n",
            "\u001b[?25hCollecting typing-inspect<1,>=0.4.0 (from dataclasses-json<0.7,>=0.5.7->langchain)\n",
            "  Downloading typing_inspect-0.9.0-py3-none-any.whl (8.8 kB)\n",
            "Collecting jsonpointer>=1.9 (from jsonpatch<2.0,>=1.33->langchain)\n",
            "  Downloading jsonpointer-2.4-py2.py3-none-any.whl (7.8 kB)\n",
            "Requirement already satisfied: anyio<5,>=3 in /usr/local/lib/python3.10/dist-packages (from langchain-core<0.2,>=0.1->langchain) (3.7.1)\n",
            "Requirement already satisfied: packaging<24.0,>=23.2 in /usr/local/lib/python3.10/dist-packages (from langchain-core<0.2,>=0.1->langchain) (23.2)\n",
            "Requirement already satisfied: typing-extensions>=4.2.0 in /usr/local/lib/python3.10/dist-packages (from pydantic<3,>=1->langchain) (4.5.0)\n",
            "Requirement already satisfied: charset-normalizer<4,>=2 in /usr/local/lib/python3.10/dist-packages (from requests<3,>=2->langchain) (3.3.2)\n",
            "Requirement already satisfied: idna<4,>=2.5 in /usr/local/lib/python3.10/dist-packages (from requests<3,>=2->langchain) (3.6)\n",
            "Requirement already satisfied: urllib3<3,>=1.21.1 in /usr/local/lib/python3.10/dist-packages (from requests<3,>=2->langchain) (2.0.7)\n",
            "Requirement already satisfied: certifi>=2017.4.17 in /usr/local/lib/python3.10/dist-packages (from requests<3,>=2->langchain) (2023.11.17)\n",
            "Requirement already satisfied: greenlet!=0.4.17 in /usr/local/lib/python3.10/dist-packages (from SQLAlchemy<3,>=1.4->langchain) (3.0.1)\n",
            "Requirement already satisfied: sniffio>=1.1 in /usr/local/lib/python3.10/dist-packages (from anyio<5,>=3->langchain-core<0.2,>=0.1->langchain) (1.3.0)\n",
            "Requirement already satisfied: exceptiongroup in /usr/local/lib/python3.10/dist-packages (from anyio<5,>=3->langchain-core<0.2,>=0.1->langchain) (1.2.0)\n",
            "Collecting mypy-extensions>=0.3.0 (from typing-inspect<1,>=0.4.0->dataclasses-json<0.7,>=0.5.7->langchain)\n",
            "  Downloading mypy_extensions-1.0.0-py3-none-any.whl (4.7 kB)\n",
            "Installing collected packages: pypdf, mypy-extensions, marshmallow, jsonpointer, typing-inspect, langsmith, jsonpatch, langchain-core, dataclasses-json, langchain-community, langchain\n",
            "Successfully installed dataclasses-json-0.6.3 jsonpatch-1.33 jsonpointer-2.4 langchain-0.0.350 langchain-community-0.0.2 langchain-core-0.1.0 langsmith-0.0.69 marshmallow-3.20.1 mypy-extensions-1.0.0 pypdf-3.17.2 typing-inspect-0.9.0\n"
          ]
        }
      ]
    },
    {
      "cell_type": "code",
      "source": [
        "from langchain.text_splitter import CharacterTextSplitter\n",
        "text_splitter = CharacterTextSplitter(\n",
        "    separator='\\n\\n',\n",
        "    chunk_size=1000,\n",
        "    chunk_overlap=100,\n",
        "    length_function=len\n",
        ")"
      ],
      "metadata": {
        "id": "oUv0W08p4-fh"
      },
      "execution_count": 3,
      "outputs": []
    },
    {
      "cell_type": "code",
      "source": [
        "texts = text_splitter.split_text(text_gen_ai)"
      ],
      "metadata": {
        "colab": {
          "base_uri": "https://localhost:8080/"
        },
        "id": "BUMOI6P95uDI",
        "outputId": "e93f828c-82db-4780-bcab-da8c4e86516a"
      },
      "execution_count": 4,
      "outputs": [
        {
          "output_type": "stream",
          "name": "stderr",
          "text": [
            "WARNING:langchain.text_splitter:Created a chunk of size 1003, which is longer than the specified 1000\n",
            "WARNING:langchain.text_splitter:Created a chunk of size 2239, which is longer than the specified 1000\n",
            "WARNING:langchain.text_splitter:Created a chunk of size 5023, which is longer than the specified 1000\n",
            "WARNING:langchain.text_splitter:Created a chunk of size 3461, which is longer than the specified 1000\n",
            "WARNING:langchain.text_splitter:Created a chunk of size 1266, which is longer than the specified 1000\n",
            "WARNING:langchain.text_splitter:Created a chunk of size 1143, which is longer than the specified 1000\n",
            "WARNING:langchain.text_splitter:Created a chunk of size 2523, which is longer than the specified 1000\n"
          ]
        }
      ]
    },
    {
      "cell_type": "code",
      "source": [
        "print(texts[0])\n",
        "print('-' * 100)\n",
        "print(texts[1])\n",
        "print('-' * 100)\n",
        "print(texts[2])"
      ],
      "metadata": {
        "colab": {
          "base_uri": "https://localhost:8080/"
        },
        "id": "GTWKIFD55-ja",
        "outputId": "c8322b18-033f-46c8-c0b0-106c0864bc3b"
      },
      "execution_count": 5,
      "outputs": [
        {
          "output_type": "stream",
          "name": "stdout",
          "text": [
            "What is generative AI?\n",
            "Generative AI can learn from existing artifacts to generate new, realistic artifacts (at scale) that reflect the characteristics of the training data but don’t repeat it. It can produce a variety of novel content, such as images, video, music, speech, text, software code and product designs.  \n",
            "Generative AI uses a number of techniques that continue to evolve. Foremost are AI foundation models, which are trained on a broad set of unlabeled data that can be used for different tasks, with additional fine-tuning. Complex math and enormous computing power are required to create these trained models, but they are, in essence, prediction algorithms. \n",
            "Today, generative AI most commonly creates content in response to natural language requests — it doesn’t require knowledge of or entering code — but the enterprise use cases are numerous and include innovations in drug and chip design and material science development. (Also see “What are some practical uses of generative AI?”)\n",
            "----------------------------------------------------------------------------------------------------\n",
            "What’s behind the sudden hype about generative AI?\n",
            "Gartner has tracked generative AI on its Hype Cycle™ for Artificial Intelligence since 2020 (also, generative AI was among our Top Strategic Technology Trends for 2022), and the technology has moved from the Innovation Trigger phase to the Peak of Inflated Expectations. But generative AI only hit mainstream headlines in late 2022 with the launch of ChatGPT, a chatbot capable of very human-seeming interactions.\n",
            "ChatGPT, launched by OpenAI, became wildly popular overnight and galvanized public attention. (OpenAI’s DALL·E 2 tool similarly generates images from text in a related generative AI innovation.)\n",
            "Gartner sees generative AI becoming a general-purpose technology with an impact similar to that of the steam engine, electricity and the internet. The hype will subside as the reality of implementation sets in, but the impact of generative AI will grow as people and enterprises discover more innovative applications for the technology in daily work and life.\n",
            "FAQ on ChatGPT \n",
            "What are the benefits and applications of generative AI?\n",
            "Foundation models, including generative pretrained transformers (which drives ChatGPT), are among the AI architecture innovations that can be used to automate, augment humans or machines, and autonomously execute business and IT processes. \n",
            "The benefits of generative AI include faster product development, enhanced customer experience and improved employee productivity, but the specifics depend on the use case. End users should be realistic about the value they are looking to achieve, especially when using a service as is, which has major limitations. Generative AI creates artifacts that can be inaccurate or biased, making human validation essential and potentially limiting the time it saves workers. Gartner recommends connecting use cases to KPIs to ensure that any project either improves operational efficiency or creates net new revenue or better experiences.\n",
            "In a recent Gartner webinar poll of more than 2,500 executives, 38% indicated that customer experience and retention is the primary purpose of their generative AI investments. This was followed by revenue growth (26%), cost optimization (17%) and business continuity (7%).\n",
            "----------------------------------------------------------------------------------------------------\n",
            "What are the risks of generative AI?\n",
            "The risks associated with generative AI are significant and rapidly evolving. A wide array of threat actors have already used the technology to create “deep fakes” or copies of products, and generate artifacts to support increasingly complex scams.\n",
            "ChatGPT and other tools like it are trained on large amounts of publicly available data. They are not designed to be compliant with General Data Protection Regulation (GDPR) and other copyright laws, so it’s imperative to pay close attention to your enterprises’ uses of the platforms. \n",
            "Oversight risks to monitor include:\n",
            "\t•\tLack of transparency. Generative AI and ChatGPT models are unpredictable, and not even the companies behind them always understand everything about how they work.\n",
            "\t•\tAccuracy. Generative AI systems sometimes produce inaccurate and fabricated answers. Assess all outputs for accuracy, appropriateness and actual usefulness before relying on or publicly distributing information. \n",
            "\t•\tBias. You need policies or controls in place to detect biased outputs and deal with them in a manner consistent with company policy and any relevant legal requirements.\n",
            "\t•\tIntellectual property (IP) and copyright. There are currently no verifiable data governance and protection assurances regarding confidential enterprise information. Users should assume that any data or queries they enter into the ChatGPT and its competitors will become public information, and we advise enterprises to put in place controls to avoid inadvertently exposing IP. \n",
            "\t•\tCybersecurity and fraud. Enterprises must prepare for malicious actors’ use of generative AI systems for cyber and fraud attacks, such as those that use deep fakes for social engineering of personnel, and ensure mitigating controls are put in place. Confer with your cyber-insurance provider to verify the degree to which your existing policy covers AI-related breaches.\n",
            "\t•\tSustainability. Generative AI uses significant amounts of electricity. Choose vendors that reduce power consumption and leverage high-quality renewable energy to mitigate the impact on your sustainability goals.\n",
            "Gartner also recommends considering the following questions:\n",
            "\t•\tWho defines responsible use of generative AI, especially as cultural norms evolve and social engineering approaches vary across geographies? Who ensures compliance? What are the consequences for irresponsible use? \n",
            "\t•\tIn the event something goes wrong, how can individuals take action?\n",
            "\t•\tHow do users give and remove consent (opt in or opt out)? What can be learned from the privacy debate?\n",
            "\t•\tWill using generative AI help or hurt trust in your organization — and institutions overall?\n",
            "\t•\tHow can we ensure that content creators and owners keep control of their IP and are compensated fairly? What should new economic models look like? \n",
            "\t•\tWho will ensure proper functioning throughout the entire life cycle, and how will they do so? Do boards need an AI ethics lead, for example?\n",
            "Finally, it’s important to continually monitor regulatory developments and litigation regarding generative AI. China and Singapore have already put in place new regulations regarding the use of generative AI, while Italy temporarily. The U.S., Canada, India, the U.K. and the EU are currently shaping their regulatory environments.\n",
            "Also see, “What are the best practices for using generative AI?” and “Should I craft a usage policy for generative AI?”\n",
            "GenAI Risks & Opportunities \n",
            "What are some practical uses of generative AI today?\n",
            "The field of generative AI will progress rapidly in both scientific discovery and technology commercialization, but use cases are emerging quickly in creative content, content improvement, synthetic data, generative engineering and generative design. \n",
            "In-use, high-level practical applications today include the following.\n",
            "\t•\tWritten content augmentation and creation: Producing a “draft” output of text in a desired style and length\n",
            "\t•\tQuestion answering and discovery: Enabling users to locate answers to input, based on data and prompt information\n",
            "\t•\tTone: Text manipulation, to soften language or professionalize text\n",
            "\t•\tSummarization: Offering shortened versions of conversations, articles, emails and webpages\n",
            "\t•\tSimplification: Breaking down titles, creating outlines and extracting key content\n",
            "\t•\tClassification of content for specific use cases: Sorting by sentiment, topic, etc.\n",
            "\t•\tChatbot performance improvement: Bettering “sentity” extraction, whole-conversation sentiment classification and generation of journey flows from general descriptions\n",
            "\t•\tSoftware coding: Code generation, translation, explanation and verification\n",
            "Emerging use cases with long-term impacts include:\n",
            "\t•\tCreating medical images that show the future development of a disease \n",
            "\t•\tSynthetic data helping augment scarce data, mitigate bias, preserve data privacy and simulate future scenarios\n",
            "\t•\tApplications proactively suggesting additional actions to users and providing them with information\n",
            "\t•\tLegacy code modernization\n"
          ]
        }
      ]
    },
    {
      "cell_type": "code",
      "source": [
        "char_list = []\n",
        "for i in range(len(texts)):\n",
        "  char_list.append(len(texts[i]))\n",
        "\n",
        "print(char_list)"
      ],
      "metadata": {
        "colab": {
          "base_uri": "https://localhost:8080/"
        },
        "id": "SGEGCa8-6Fay",
        "outputId": "eaf6c201-3316-4feb-c655-7a839d5ac489"
      },
      "execution_count": 6,
      "outputs": [
        {
          "output_type": "stream",
          "name": "stdout",
          "text": [
            "[1003, 2238, 5022, 3460, 1265, 995, 1142, 2523, 3101]\n"
          ]
        }
      ]
    },
    {
      "cell_type": "code",
      "source": [
        "text_splitter.create_documents(texts)"
      ],
      "metadata": {
        "colab": {
          "base_uri": "https://localhost:8080/"
        },
        "id": "EJg7QRCO7ef4",
        "outputId": "b1989b2b-9d08-4722-8bfb-3077e376f45f"
      },
      "execution_count": 7,
      "outputs": [
        {
          "output_type": "execute_result",
          "data": {
            "text/plain": [
              "[Document(page_content='What is generative AI?\\nGenerative AI can learn from existing artifacts to generate new, realistic artifacts (at scale) that reflect the characteristics of the training data but don’t repeat it. It can produce a variety of novel content, such as images, video, music, speech, text, software code and product designs.\\xa0\\xa0\\nGenerative AI uses a number of techniques that continue to evolve. Foremost are AI foundation models, which are trained on a broad set of unlabeled data that can be used for different tasks, with additional fine-tuning.\\xa0Complex math and enormous computing power are required to create these trained models, but they are, in essence, prediction algorithms.\\xa0\\nToday, generative AI most commonly creates content in response to natural language requests — it doesn’t require knowledge of or entering code — but the\\xa0enterprise use cases\\xa0are numerous and include innovations in drug and chip design and material science development. (Also see “What are some practical uses of generative AI?”)'),\n",
              " Document(page_content='What’s behind the sudden hype about generative AI?\\nGartner has tracked generative AI on its\\xa0Hype Cycle™ for\\xa0Artificial Intelligence\\xa0since 2020 (also, generative AI was among our Top Strategic Technology Trends for 2022), and the technology has moved from the Innovation Trigger phase to the Peak of Inflated Expectations. But generative AI only hit mainstream headlines in late 2022 with the launch of ChatGPT, a chatbot capable of very human-seeming interactions.\\nChatGPT, launched by OpenAI, became wildly popular overnight and galvanized public attention. (OpenAI’s DALL·E 2 tool similarly generates images from text in a related generative AI innovation.)\\nGartner sees generative AI becoming a general-purpose technology with an impact similar to that of the steam engine, electricity and the internet. The hype will subside as the reality of implementation sets in, but the impact of generative AI will grow as people and enterprises discover more innovative applications for the technology in daily work and life.\\nFAQ on ChatGPT\\xa0\\nWhat are the benefits and applications of generative AI?\\nFoundation models, including generative pretrained transformers (which drives ChatGPT), are among the AI architecture innovations that can be used to automate, augment humans or machines, and autonomously execute business and IT processes.\\xa0\\nThe benefits of generative AI include faster product development, enhanced customer experience and improved employee productivity, but the specifics depend on the use case. End users should be realistic about the value they are looking to achieve, especially when using a service as is, which has major limitations. Generative AI creates artifacts that can be inaccurate or biased, making human validation essential and potentially limiting the time it saves workers. Gartner recommends connecting use cases to KPIs to ensure that any project either improves operational efficiency or creates net new revenue or better experiences.\\nIn a recent Gartner webinar poll of more than 2,500 executives, 38% indicated that customer experience and retention is the primary purpose of their generative AI investments. This was followed by revenue growth (26%), cost optimization (17%) and business continuity (7%).'),\n",
              " Document(page_content='What are the risks of generative AI?\\nThe risks associated with generative AI are significant and rapidly evolving. A wide array of threat actors have already used the technology to create “deep fakes” or copies of products, and generate artifacts to support increasingly complex scams.\\nChatGPT and other tools like it are trained on large amounts of publicly available data. They are not designed to be compliant with General Data Protection Regulation (GDPR) and other copyright laws, so it’s imperative to pay close attention to your enterprises’ uses of the platforms.\\xa0\\nOversight risks to monitor include:\\n\\t•\\tLack of transparency.\\xa0Generative AI and ChatGPT models are unpredictable, and not even the companies behind them always understand everything about how they work.\\n\\t•\\tAccuracy.\\xa0Generative AI systems sometimes produce inaccurate and fabricated answers. Assess all outputs for accuracy, appropriateness and actual usefulness before relying on or publicly distributing information.\\xa0\\n\\t•\\tBias.\\xa0You need policies or controls in place to detect biased outputs and deal with them in a manner consistent with company policy and any relevant legal requirements.\\n\\t•\\tIntellectual property (IP) and copyright.\\xa0There are currently no verifiable data governance and protection assurances regarding confidential enterprise information. Users should assume that any data or queries they enter into the ChatGPT and its competitors will become public information, and we advise enterprises to put in place controls to avoid inadvertently exposing IP.\\xa0\\n\\t•\\tCybersecurity and fraud.\\xa0Enterprises must prepare for malicious actors’ use of generative AI systems for cyber and fraud attacks, such as those that use deep fakes for social engineering of personnel, and ensure mitigating controls are put in place. Confer with your cyber-insurance provider to verify the degree to which your existing policy covers AI-related breaches.\\n\\t•\\tSustainability.\\xa0Generative AI uses significant amounts of electricity. Choose vendors that reduce power consumption and leverage high-quality renewable energy to mitigate the impact on your sustainability goals.\\nGartner also recommends considering the following questions:\\n\\t•\\tWho defines responsible use of generative AI, especially as cultural norms evolve and social engineering approaches vary across geographies? Who ensures compliance? What are the consequences for irresponsible use? \\n\\t•\\tIn the event something goes wrong, how can individuals take action?\\n\\t•\\tHow do users give and remove consent (opt in or opt out)? What can be learned from the privacy debate?\\n\\t•\\tWill using generative AI help or hurt trust in your organization — and institutions overall?\\n\\t•\\tHow can we ensure that content creators and owners keep control of their IP and are compensated fairly? What should new economic models look like?\\xa0\\n\\t•\\tWho will ensure proper functioning throughout the entire life cycle, and how will they do so? Do boards need an AI ethics lead, for example?\\nFinally, it’s important to continually monitor regulatory developments and litigation regarding generative AI. China and Singapore have already put in place new regulations regarding the use of generative AI, while Italy temporarily. The U.S., Canada, India, the U.K. and the EU are currently shaping their regulatory environments.\\nAlso see, “What are the best practices for using generative AI?” and “Should I craft a usage policy for generative AI?”\\nGenAI Risks & Opportunities\\xa0\\nWhat are some practical uses of generative AI today?\\nThe field of generative AI will progress rapidly in both scientific discovery and technology commercialization, but use cases are emerging quickly in creative content, content improvement, synthetic data, generative engineering and generative design.\\xa0\\nIn-use, high-level practical applications today include the following.\\n\\t•\\tWritten content augmentation and creation:\\xa0Producing a “draft” output of text in a desired style and length\\n\\t•\\tQuestion answering and discovery:\\xa0Enabling users to locate answers to input, based on data and prompt information\\n\\t•\\tTone:\\xa0Text manipulation, to soften language or professionalize text\\n\\t•\\tSummarization:\\xa0Offering shortened versions of conversations, articles, emails and webpages\\n\\t•\\tSimplification:\\xa0Breaking down titles, creating outlines and extracting key content\\n\\t•\\tClassification of content for specific use cases:\\xa0Sorting by sentiment, topic, etc.\\n\\t•\\tChatbot performance improvement:\\xa0Bettering “sentity” extraction, whole-conversation sentiment classification and generation of journey flows from general descriptions\\n\\t•\\tSoftware coding:\\xa0Code generation, translation, explanation and verification\\nEmerging use cases with long-term impacts include:\\n\\t•\\tCreating medical images that show the future development of a disease \\n\\t•\\tSynthetic data helping augment scarce data, mitigate bias, preserve data privacy and simulate future scenarios\\n\\t•\\tApplications proactively suggesting additional actions to users and providing them with information\\n\\t•\\tLegacy code modernization'),\n",
              " Document(page_content='▶\\nHow will generative AI contribute business value?\\nGenerative AI provides new and disruptive opportunities to increase revenue, reduce costs, improve productivity and better manage risk. In the near future, it will become a competitive advantage and differentiator.\\xa0\\nGartner splits the opportunities into three categories.\\nRevenue opportunities\\nProduct development:\\xa0Generative AI will enable enterprises to create new products more quickly. These may include new drugs, less toxic household cleaners, novel flavors and fragrances, new alloys, and faster and better diagnoses.\\nNew revenue channels:\\xa0Gartner research shows that enterprises with greater levels of AI maturity will gain greater benefits to their revenue.\\nCost and productivity opportunities\\nWorker augmentation:\\xa0Generative AI can augment workers’ ability to draft and edit text, images and other media. It can also summarize, simplify and classify content; generate, translate and verify software code; and improve chatbot performance. At this stage, the technology is highly proficient at creating a wide range of artifacts quickly and at scale.\\nLong-term talent optimization:\\xa0Employees will be distinguished by their ability to conceive, execute and refine ideas, projects, processes, services and relationships in partnership with AI. This symbiotic relationship will accelerate time to proficiency and greatly extend the range and competency of workers across the board.\\nProcess improvement:\\xa0Generative AI can derive real, in-context value from vast stores of content, which until now may have gone largely unexploited. This will change workflows.\\nRisk opportunities\\nRisk mitigation:\\xa0Generative AI’s ability to analyze and provide broader and deeper visibility of data, such as customer transactions and potentially faulty software code, enhances pattern recognition and the ability to identify potential risks to the enterprise more quickly.\\xa0\\nSustainability:\\xa0Generative AI may help enterprises comply with\\xa0sustainability\\xa0regulations, mitigate the risk of stranded assets, and embed sustainability into decision making, product design and processes.\\nImpact of Gen AI\\xa0\\nWhich industries are most impacted by generative AI?\\nGenerative AI will affect the pharmaceutical, manufacturing, media, architecture, interior design, engineering, automotive, aerospace, defense, medical, electronics and energy industries by augmenting core processes with AI models. It will impact marketing, design, corporate communications, and training and software engineering by augmenting the supporting processes that span many organizations. For example:\\n\\t•\\tWe believe that by 2025, more than 30% of new drugs and materials will be systematically discovered using generative AI techniques, up from zero today. Generative AI looks promising for the pharmaceutical industry, given the opportunity to reduce costs and time in drug discovery.\\n\\t•\\tWe predict that by 2025, 30% of outbound marketing messages from large organizations will be synthetically generated, up from less than 2% in 2022. Text generators like GPT-3 can already be used to create marketing copy and personalized advertising.\\n\\t•\\tIn the manufacturing, automotive, aerospace and defense industries, generative design can create designs optimized to meet specific goals and constraints, such as performance, materials and manufacturing methods. This accelerates the design process by producing an array of potential solutions for engineers to explore.'),\n",
              " Document(page_content='What are the best practices for using generative AI?\\nTechnologies that provide\\xa0AI trust and transparency\\xa0will become an important complement to generative AI solutions. Also, executive leaders should follow this guidance for ethical use of LLMs and other generative AI models:\\n\\t•\\tStart inside.\\xa0Before using generative AI to create customer- or other external-facing content, test extensively with internal stakeholders and employee use cases. You don’t want hallucinations to harm your business.\\n\\t•\\tPrize transparency.\\xa0Be forthcoming with people, whether they be staff, customers or citizens, about the fact that they are interacting with a machine by clearly labeling any conversation multiple times throughout.\\n\\t•\\tDo your due diligence.\\xa0Set up processes and guardrails to track biases and other issues of trustworthiness. Do so by validating results and continually testing for the model going off course.\\n\\t•\\tAddress privacy and security concerns.\\xa0Ensure that sensitive data is neither input nor derived. Confirm with the model provider that this data won’t be used for machine learning beyond your organization.\\n\\t•\\tTake it slow.\\xa0Keep functionality in beta for an extended period of time. This helps temper expectations for perfect results.\\nResponsible Use of NLT'),\n",
              " Document(page_content='▶\\nShould I craft a usage policy for generative AI?\\nYour workforce is likely already using generative AI, either on an experimental basis or to support their job-related tasks. To avoid “shadow” usage and a false sense of compliance, Gartner recommends crafting a usage policy rather than enacting an outright ban.\\xa0\\nKeep the policy simple — it can be as streamlined as three don’ts and two do’s if using ChatGPT or other off-the-shelf model:\\n\\t•\\tDon’t\\xa0input any personally identifiable information.\\n\\t•\\tDon’t\\xa0input any sensitive information.\\n\\t•\\tDon’t\\xa0input any company IP.\\n\\t•\\tDo\\xa0turn off history if using external tools (like ChatGPT) that enable that choice.\\n\\t•\\tDo\\xa0closely monitor outputs, which are subject to sometimes subtle but meaningful hallucinations, factual errors and biased or inappropriate statements.\\nIf the company is using its own instance of a large language model, the privacy concerns that inform limiting inputs go away. However, the need to keep a close eye on outputs remains.'),\n",
              " Document(page_content='▶\\nHow will generative AI impact the future of work?\\nIn business, many people are content creators of some kind. Generative AI will significantly alter their jobs, whether it be by creating text, images, hardware designs, music, video or something else. In response, workers will need to become content editors, which requires a different set of skills than content creation.\\nMeanwhile, the way the workforce interacts with applications will change as applications become conversational, proactive and interactive, requiring a redesigned user experience. In the near term, generative AI models will move beyond responding to natural language queries and begin suggesting things you didn’t ask for. For example, your request for a data-driven bar chart might be answered with alternative graphics the model suspects you could use. In theory at least, this will increase worker productivity, but it also challenges conventional thinking about the need for humans to take the lead on developing strategy.\\nThe net change in the workforce will vary dramatically depending on such factors as industry, location, size and offerings of the enterprise.'),\n",
              " Document(page_content='Where should I start with generative AI?\\nMany enterprises have generative AI pilots for code generation, text generation or visual design underway. To establish a pilot, you can take one of three routes:\\n\\t1\\tOff-the-shelf.\\xa0Use an existing foundational model directly by inputting prompts. You might, for example, ask the model to create a job description for a software engineer or suggest alternative subject lines for marketing emails.\\n\\t2\\tPrompt engineering.\\xa0Program and connect software to and leverage a foundational model. This technique, which is the most common of the three, allows you to use public services while protecting IP and leveraging private data to create more precise, specific and useful responses. Building an HR benefits chatbot that answers employee questions about company-specific policies is an example of prompt engineering.\\n\\t3\\tCustom.\\xa0Building a new foundational model goes beyond the reach of most companies, but it’s possible to tune a model. This involves adding a layer or proprietary data in a way that significantly alters the way the foundational model behaves. While costly, customizing a model offers the highest level of flexibility.\\nCreate an AI Strategy\\xa0\\nWhat do I need to buy to enable generative AI?\\nThe costs for generative AI will range from negligible to many millions depending on the use case, scale and requirements of the company. Small and midsize enterprises may derive significant business value from the free versions of public, openly hosted applications, such as ChatGPT, or by paying low subscription fees. For example, OpenAI is currently $20 per user per month. However, free and low-cost options come with minimal protection of enterprise data and associated output risks.\\nLarger enterprises and those that desire greater analysis or use of their own enterprise data with higher levels of security and IP and privacy protections will need to invest in a range of custom services. This can include building licensed, customizable and proprietary models with data and machine learning platforms, and will require working with vendors and partners. In this instance, costs can be in the millions of dollars.\\nIt’s also worth noting that generative AI capabilities will increasingly be built into the software products you likely use everyday, like Bing, Office 365, Microsoft 365 Copilot and Google Workspace. This is effectively a “free” tier, though vendors will ultimately pass on costs to customers as part of bundled incremental price increases to their products.'),\n",
              " Document(page_content='What does Gartner predict for the future of generative AI use?\\nGenerative AI is primed to make an increasingly strong impact on enterprises over the next five years. Gartner predicts that:\\n\\t•\\tBy 2024, 40% of enterprise applications will have embedded conversational AI, up from less than 5% in 2020.\\n\\t•\\tBy 2025, 30% of enterprises will have implemented an AI-augmented development and testing strategy, up from 5% in 2021.\\n\\t•\\tBy 2026, generative design AI will automate 60% of the design effort for new websites and mobile apps.\\xa0\\n\\t•\\tBy 2026, over 100 million humans will engage robocolleagues to contribute to their work.\\n\\t•\\tBy 2027, nearly 15% of new applications will be automatically generated by AI without a human in the loop. This is not happening at all today.\\nGenAI Changes Innovation & Operations\\xa0\\nWho are the major tech providers in the generative AI market?\\nThe Generative AI marketplace is on fire. Beyond the big platform players, there are many hundreds of specialty providers funded by ample venture capital and a wave of new open-source models and capabilities. Enterprise application providers, such as Salesforce and SAP, are building LLM capabilities into their platforms. Organizations like Microsoft, Google, Amazon Web Services (AWS) and IBM have invested hundreds of millions of dollars and massive compute power to build the foundational models on which services like ChatGPT and others depend.\\xa0\\nGartner considers the current major players to be as follows:\\n\\t•\\tGoogle\\xa0has two large language models, Palm, a multimodal model, and Bard, a pure language model. They are embedding their generative AI technology into their suite of workplace applications, which will immediately get it in the hands of millions of people.\\n\\t•\\tMicrosoft and OpenAI\\xa0are marching in lockstep. Like Google, Microsoft is embedding generative AI technology into its products, but it has the first-mover advantage and buzz of ChatGPT on its side.\\n\\t•\\tAmazon\\xa0has partnered with\\xa0Hugging Face, which has a number of LLMs available on an open-source basis, to build solutions. Amazon also has Bedrock, which provides access to generative AI on the cloud via AWS, and has announced plans for Titan, a set of two AI models that create text and improve searches and personalization.\\n\\t•\\tIBM\\xa0has multiple foundation models and a strong ability to fine-tune both its and third-party models by injecting data and retraining and employing the model.\\nConversational AI Platforms\\xa0\\nIs this the start of artificial general intelligence (AGI)?\\nIt depends whom you ask. AGI, the ability of machines to match or exceed human intelligence and solve problems they never encountered during training, provokes vigorous debate and a mix of awe and dystopia. AI is certainly becoming more capable and is displaying sometimes surprising emergent behaviors that humans did not program.\\nThe likely path is the evolution of machine intelligence that mimics human intelligence but is ultimately aimed at helping humans solve complex problems. This will require governance, new regulation and the participation of a wide swath of society.')]"
            ]
          },
          "metadata": {},
          "execution_count": 7
        }
      ]
    },
    {
      "cell_type": "code",
      "source": [
        "from langchain.document_loaders import PyPDFLoader\n",
        "\n",
        "loader = PyPDFLoader('/content/DJI_Osmo_Pocket_3_User_Manual_v1.0_en.pdf')\n",
        "pages = loader.load_and_split()"
      ],
      "metadata": {
        "id": "E4vRXpQ47vwo"
      },
      "execution_count": 8,
      "outputs": []
    },
    {
      "cell_type": "code",
      "source": [
        "len(pages)"
      ],
      "metadata": {
        "colab": {
          "base_uri": "https://localhost:8080/"
        },
        "id": "41M4wHDJ8ujJ",
        "outputId": "e41715de-f81b-4a13-b1e3-3361dc593ea3"
      },
      "execution_count": 9,
      "outputs": [
        {
          "output_type": "execute_result",
          "data": {
            "text/plain": [
              "40"
            ]
          },
          "metadata": {},
          "execution_count": 9
        }
      ]
    },
    {
      "cell_type": "code",
      "source": [
        "print(pages[1].page_content)"
      ],
      "metadata": {
        "colab": {
          "base_uri": "https://localhost:8080/"
        },
        "id": "x-rKwZwM9Cdn",
        "outputId": "0ff473d0-5cb0-4b4e-cd0e-d050eddc3b05"
      },
      "execution_count": 10,
      "outputs": [
        {
          "output_type": "stream",
          "name": "stdout",
          "text": [
            "2 © 0000 大疆创新 版权所有 Searching for Keywords\n",
            "Search for keywords such as “battery” and “install” to find a topic. If you are using Adobe \n",
            "Acrobat Reader to read this document, press Ctrl+F on Windows or Command+F on Mac \n",
            "to begin a search.\n",
            " Navigating to a Topic\n",
            "View a complete list of topics in the table of contents. Click on a topic to navigate to that \n",
            "section.\n",
            " Printing this Document\n",
            "This document supports high resolution printing.This document is copyrighted by DJI with all rights reserved. Unless otherwise authorized by \n",
            "DJI, you are not eligible to use or allow others to use the document or any part of the document \n",
            "by reproducing, transferring or selling the document. Users should only refer to this document \n",
            "and the content thereof as instructions to operate DJI UAV. The document should not be used \n",
            "for other purposes.\n"
          ]
        }
      ]
    },
    {
      "cell_type": "code",
      "source": [
        "from langchain.text_splitter import CharacterTextSplitter\n",
        "text_splitter = CharacterTextSplitter(\n",
        "    separator='\\n',\n",
        "    chunk_size=1000,\n",
        "    chunk_overlap=100,\n",
        "    length_function=len\n",
        ")"
      ],
      "metadata": {
        "id": "m0C-6mSz9G4h"
      },
      "execution_count": 11,
      "outputs": []
    },
    {
      "cell_type": "code",
      "source": [
        "texts = text_splitter.split_documents(pages)"
      ],
      "metadata": {
        "id": "bMxQJDBZ9rFb"
      },
      "execution_count": 12,
      "outputs": []
    },
    {
      "cell_type": "code",
      "source": [
        "print(texts[1].page_content)"
      ],
      "metadata": {
        "colab": {
          "base_uri": "https://localhost:8080/"
        },
        "id": "pUSv17ZX91v3",
        "outputId": "27dd37dd-6fad-43c3-c168-24b634d2c333"
      },
      "execution_count": 13,
      "outputs": [
        {
          "output_type": "stream",
          "name": "stdout",
          "text": [
            "2 © 0000 大疆创新 版权所有 Searching for Keywords\n",
            "Search for keywords such as “battery” and “install” to find a topic. If you are using Adobe \n",
            "Acrobat Reader to read this document, press Ctrl+F on Windows or Command+F on Mac \n",
            "to begin a search.\n",
            " Navigating to a Topic\n",
            "View a complete list of topics in the table of contents. Click on a topic to navigate to that \n",
            "section.\n",
            " Printing this Document\n",
            "This document supports high resolution printing.This document is copyrighted by DJI with all rights reserved. Unless otherwise authorized by \n",
            "DJI, you are not eligible to use or allow others to use the document or any part of the document \n",
            "by reproducing, transferring or selling the document. Users should only refer to this document \n",
            "and the content thereof as instructions to operate DJI UAV. The document should not be used \n",
            "for other purposes.\n"
          ]
        }
      ]
    },
    {
      "cell_type": "code",
      "source": [
        "from langchain.text_splitter import RecursiveCharacterTextSplitter\n",
        "text_splitter = RecursiveCharacterTextSplitter(\n",
        "    chunk_size=1000,\n",
        "    chunk_overlap=100,\n",
        "    length_function=len\n",
        ")"
      ],
      "metadata": {
        "id": "9o3M7SYh97Ky"
      },
      "execution_count": 14,
      "outputs": []
    },
    {
      "cell_type": "code",
      "source": [
        "texts = text_splitter.create_documents([text_gen_ai])\n",
        "print(texts[0].page_content)\n",
        "print('-' * 100)\n",
        "print(texts[1].page_content)\n",
        "print('-' * 100)\n",
        "print(texts[2].page_content)"
      ],
      "metadata": {
        "colab": {
          "base_uri": "https://localhost:8080/"
        },
        "id": "k738aHZu_cXP",
        "outputId": "c4ce1acf-abdb-40d3-fec0-0ede5c8d1def"
      },
      "execution_count": 15,
      "outputs": [
        {
          "output_type": "stream",
          "name": "stdout",
          "text": [
            "What is generative AI?\n",
            "Generative AI can learn from existing artifacts to generate new, realistic artifacts (at scale) that reflect the characteristics of the training data but don’t repeat it. It can produce a variety of novel content, such as images, video, music, speech, text, software code and product designs.  \n",
            "Generative AI uses a number of techniques that continue to evolve. Foremost are AI foundation models, which are trained on a broad set of unlabeled data that can be used for different tasks, with additional fine-tuning. Complex math and enormous computing power are required to create these trained models, but they are, in essence, prediction algorithms.\n",
            "----------------------------------------------------------------------------------------------------\n",
            "Today, generative AI most commonly creates content in response to natural language requests — it doesn’t require knowledge of or entering code — but the enterprise use cases are numerous and include innovations in drug and chip design and material science development. (Also see “What are some practical uses of generative AI?”)\n",
            "----------------------------------------------------------------------------------------------------\n",
            "What’s behind the sudden hype about generative AI?\n",
            "Gartner has tracked generative AI on its Hype Cycle™ for Artificial Intelligence since 2020 (also, generative AI was among our Top Strategic Technology Trends for 2022), and the technology has moved from the Innovation Trigger phase to the Peak of Inflated Expectations. But generative AI only hit mainstream headlines in late 2022 with the launch of ChatGPT, a chatbot capable of very human-seeming interactions.\n",
            "ChatGPT, launched by OpenAI, became wildly popular overnight and galvanized public attention. (OpenAI’s DALL·E 2 tool similarly generates images from text in a related generative AI innovation.)\n"
          ]
        }
      ]
    },
    {
      "cell_type": "code",
      "source": [
        "char_list=[]\n",
        "for i in range(len(texts)):\n",
        "  char_list.append(len(texts[i].page_content))\n",
        "\n",
        "print(char_list)"
      ],
      "metadata": {
        "id": "6tBgMpez_yt9",
        "colab": {
          "base_uri": "https://localhost:8080/"
        },
        "outputId": "762c5f92-5f6c-4178-ee41-8f8e06f02fe2"
      },
      "execution_count": 16,
      "outputs": [
        {
          "output_type": "stream",
          "name": "stdout",
          "text": [
            "[673, 328, 659, 672, 904, 989, 925, 915, 927, 936, 370, 754, 915, 984, 858, 907, 356, 995, 374, 767, 851, 878, 791, 868, 934, 777, 669]\n"
          ]
        }
      ]
    },
    {
      "cell_type": "markdown",
      "source": [
        "# 기타 Splitter"
      ],
      "metadata": {
        "id": "adm4T1CEXkiS"
      }
    },
    {
      "cell_type": "code",
      "source": [
        "from langchain.text_splitter import (\n",
        "    RecursiveCharacterTextSplitter,\n",
        "    Language\n",
        ")"
      ],
      "metadata": {
        "id": "KoOSHUbgWIPb"
      },
      "execution_count": 17,
      "outputs": []
    },
    {
      "cell_type": "code",
      "source": [
        "RecursiveCharacterTextSplitter.get_separators_for_language(Language.PYTHON)"
      ],
      "metadata": {
        "colab": {
          "base_uri": "https://localhost:8080/"
        },
        "id": "7Hw6idluXu6u",
        "outputId": "32d72bc7-604f-4eb2-f297-01500a0d1a21"
      },
      "execution_count": 18,
      "outputs": [
        {
          "output_type": "execute_result",
          "data": {
            "text/plain": [
              "['\\nclass ', '\\ndef ', '\\n\\tdef ', '\\n\\n', '\\n', ' ', '']"
            ]
          },
          "metadata": {},
          "execution_count": 18
        }
      ]
    },
    {
      "cell_type": "code",
      "source": [
        "PYTHON_CODE = '''\n",
        "def hello_world():\n",
        "  print('Hello World!')\n",
        "\n",
        "# Call the function\n",
        "hello_world()\n",
        "'''"
      ],
      "metadata": {
        "id": "KBBsU6Z6X2Su"
      },
      "execution_count": 19,
      "outputs": []
    },
    {
      "cell_type": "code",
      "source": [
        "python_splitter = RecursiveCharacterTextSplitter.from_language(\n",
        "    language=Language.PYTHON, chunk_size=50, chunk_overlap=0\n",
        ")\n",
        "\n",
        "python_docs = python_splitter.create_documents([PYTHON_CODE])\n",
        "python_docs"
      ],
      "metadata": {
        "colab": {
          "base_uri": "https://localhost:8080/"
        },
        "id": "KPxOhFdkYJCd",
        "outputId": "8f3c9ede-6f25-42fd-9d6a-461312708d1a"
      },
      "execution_count": 20,
      "outputs": [
        {
          "output_type": "execute_result",
          "data": {
            "text/plain": [
              "[Document(page_content=\"def hello_world():\\n  print('Hello World!')\"),\n",
              " Document(page_content='# Call the function\\nhello_world()')]"
            ]
          },
          "metadata": {},
          "execution_count": 20
        }
      ]
    },
    {
      "cell_type": "markdown",
      "source": [
        "# 토큰 단위 텍스트 분할기"
      ],
      "metadata": {
        "id": "8DjdLm4iYuPE"
      }
    },
    {
      "cell_type": "code",
      "source": [
        "!pip install tiktoken"
      ],
      "metadata": {
        "colab": {
          "base_uri": "https://localhost:8080/"
        },
        "id": "odk4rSYpYqDK",
        "outputId": "07b5a6f7-30c6-4230-9f15-7db1312bc940"
      },
      "execution_count": 21,
      "outputs": [
        {
          "output_type": "stream",
          "name": "stdout",
          "text": [
            "Collecting tiktoken\n",
            "  Downloading tiktoken-0.5.2-cp310-cp310-manylinux_2_17_x86_64.manylinux2014_x86_64.whl (2.0 MB)\n",
            "\u001b[2K     \u001b[90m━━━━━━━━━━━━━━━━━━━━━━━━━━━━━━━━━━━━━━━━\u001b[0m \u001b[32m2.0/2.0 MB\u001b[0m \u001b[31m18.3 MB/s\u001b[0m eta \u001b[36m0:00:00\u001b[0m\n",
            "\u001b[?25hRequirement already satisfied: regex>=2022.1.18 in /usr/local/lib/python3.10/dist-packages (from tiktoken) (2023.6.3)\n",
            "Requirement already satisfied: requests>=2.26.0 in /usr/local/lib/python3.10/dist-packages (from tiktoken) (2.31.0)\n",
            "Requirement already satisfied: charset-normalizer<4,>=2 in /usr/local/lib/python3.10/dist-packages (from requests>=2.26.0->tiktoken) (3.3.2)\n",
            "Requirement already satisfied: idna<4,>=2.5 in /usr/local/lib/python3.10/dist-packages (from requests>=2.26.0->tiktoken) (3.6)\n",
            "Requirement already satisfied: urllib3<3,>=1.21.1 in /usr/local/lib/python3.10/dist-packages (from requests>=2.26.0->tiktoken) (2.0.7)\n",
            "Requirement already satisfied: certifi>=2017.4.17 in /usr/local/lib/python3.10/dist-packages (from requests>=2.26.0->tiktoken) (2023.11.17)\n",
            "Installing collected packages: tiktoken\n",
            "\u001b[31mERROR: pip's dependency resolver does not currently take into account all the packages that are installed. This behaviour is the source of the following dependency conflicts.\n",
            "llmx 0.0.15a0 requires cohere, which is not installed.\n",
            "llmx 0.0.15a0 requires openai, which is not installed.\u001b[0m\u001b[31m\n",
            "\u001b[0mSuccessfully installed tiktoken-0.5.2\n"
          ]
        }
      ]
    },
    {
      "cell_type": "code",
      "source": [
        "import tiktoken\n",
        "tokenizer = tiktoken.get_encoding('cl100k_base')\n",
        "\n",
        "def tiktoken_len(text):\n",
        "  tokens = tokenizer.encode(text)\n",
        "  return len(tokens)"
      ],
      "metadata": {
        "id": "UzwNfdjfZDkm"
      },
      "execution_count": 34,
      "outputs": []
    },
    {
      "cell_type": "code",
      "source": [
        "texts[1].page_content\n",
        "tiktoken_len(texts[1].page_content)"
      ],
      "metadata": {
        "colab": {
          "base_uri": "https://localhost:8080/"
        },
        "id": "Y2xnK4r7Zb92",
        "outputId": "33e60d4e-ec68-49c5-a5a2-07dd9277e4a2"
      },
      "execution_count": 35,
      "outputs": [
        {
          "output_type": "execute_result",
          "data": {
            "text/plain": [
              "63"
            ]
          },
          "metadata": {},
          "execution_count": 35
        }
      ]
    },
    {
      "cell_type": "code",
      "source": [
        "text_splitter = RecursiveCharacterTextSplitter(\n",
        "    chunk_size=1000, chunk_overlap=0, length_function=tiktoken_len\n",
        ")\n",
        "texts = text_splitter.split_documents(pages)"
      ],
      "metadata": {
        "id": "WFvTpzTrZii-"
      },
      "execution_count": 36,
      "outputs": []
    },
    {
      "cell_type": "code",
      "source": [
        "print(len(texts[1].page_content))\n",
        "print(tiktoken_len(texts[1].page_content))"
      ],
      "metadata": {
        "colab": {
          "base_uri": "https://localhost:8080/"
        },
        "id": "t_uunXrPeBRc",
        "outputId": "b4cf19c5-1c99-4918-f537-0ed89db7206e"
      },
      "execution_count": 37,
      "outputs": [
        {
          "output_type": "stream",
          "name": "stdout",
          "text": [
            "836\n",
            "193\n"
          ]
        }
      ]
    },
    {
      "cell_type": "code",
      "source": [
        "text_splitter = RecursiveCharacterTextSplitter.from_tiktoken_encoder(\n",
        "    chunk_size=1000, chunk_overlap=0\n",
        ")"
      ],
      "metadata": {
        "id": "IzcXXlFUeKp4"
      },
      "execution_count": 38,
      "outputs": []
    },
    {
      "cell_type": "code",
      "source": [
        "texts = text_splitter.transform_documents(pages)\n",
        "texts[0]"
      ],
      "metadata": {
        "colab": {
          "base_uri": "https://localhost:8080/"
        },
        "id": "HBpPAzxEedfg",
        "outputId": "dfb1e354-2236-4062-b4cb-f49b9b6d1528"
      },
      "execution_count": 40,
      "outputs": [
        {
          "output_type": "execute_result",
          "data": {
            "text/plain": [
              "Document(page_content='2023.10 v1.0User Manual', metadata={'source': '/content/DJI_Osmo_Pocket_3_User_Manual_v1.0_en.pdf', 'page': 0})"
            ]
          },
          "metadata": {},
          "execution_count": 40
        }
      ]
    },
    {
      "cell_type": "code",
      "source": [
        "token_list = []\n",
        "for i in range(len(texts)):\n",
        "  token_list.append(tiktoken_len(texts[i].page_content))\n",
        "\n",
        "print(token_list)"
      ],
      "metadata": {
        "colab": {
          "base_uri": "https://localhost:8080/"
        },
        "id": "uAPzqCDjekv7",
        "outputId": "dd2eaa27-2536-46b1-9e97-8fb4b900ac5b"
      },
      "execution_count": 42,
      "outputs": [
        {
          "output_type": "stream",
          "name": "stdout",
          "text": [
            "[10, 193, 192, 246, 399, 280, 341, 377, 216, 352, 344, 139, 220, 350, 390, 544, 489, 370, 583, 140, 500, 191, 248, 234, 406, 328, 312, 451, 336, 267, 307, 333, 471, 103, 358, 106, 451, 814, 341, 83]\n"
          ]
        }
      ]
    },
    {
      "cell_type": "code",
      "source": [],
      "metadata": {
        "id": "wb8879GNfKwh"
      },
      "execution_count": null,
      "outputs": []
    }
  ]
}